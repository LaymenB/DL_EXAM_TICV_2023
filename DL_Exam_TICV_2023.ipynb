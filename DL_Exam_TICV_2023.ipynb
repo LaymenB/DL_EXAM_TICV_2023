{
 "nbformat": 4,
 "nbformat_minor": 0,
 "metadata": {
  "colab": {
   "provenance": []
  },
  "kernelspec": {
   "name": "python3",
   "display_name": "Python 3"
  },
  "language_info": {
   "name": "python"
  },
  "accelerator": "GPU",
  "gpuClass": "standard"
 },
 "cells": [
  {
   "cell_type": "markdown",
   "source": [
    "### First thing to do is to download kaggle dataset using kaggle API ,So I need to authenticate my self by selecting the json file **kaggle.json** that contains my credential data ."
   ],
   "metadata": {
    "id": "2XNVbVnzjqRb"
   }
  },
  {
   "cell_type": "code",
   "execution_count": 2,
   "metadata": {
    "id": "OEaTgMF-jTc1",
    "colab": {
     "base_uri": "https://localhost:8080/",
     "height": 92
    },
    "outputId": "099a3047-227c-4ef0-ce43-eb1e54c562c4"
   },
   "outputs": [
    {
     "output_type": "display_data",
     "data": {
      "text/plain": [
       "<IPython.core.display.HTML object>"
      ],
      "text/html": [
       "\n",
       "     <input type=\"file\" id=\"files-c24e3ea5-60e5-4da5-9cab-fadf6933eb6e\" name=\"files[]\" multiple disabled\n",
       "        style=\"border:none\" />\n",
       "     <output id=\"result-c24e3ea5-60e5-4da5-9cab-fadf6933eb6e\">\n",
       "      Upload widget is only available when the cell has been executed in the\n",
       "      current browser session. Please rerun this cell to enable.\n",
       "      </output>\n",
       "      <script>// Copyright 2017 Google LLC\n",
       "//\n",
       "// Licensed under the Apache License, Version 2.0 (the \"License\");\n",
       "// you may not use this file except in compliance with the License.\n",
       "// You may obtain a copy of the License at\n",
       "//\n",
       "//      http://www.apache.org/licenses/LICENSE-2.0\n",
       "//\n",
       "// Unless required by applicable law or agreed to in writing, software\n",
       "// distributed under the License is distributed on an \"AS IS\" BASIS,\n",
       "// WITHOUT WARRANTIES OR CONDITIONS OF ANY KIND, either express or implied.\n",
       "// See the License for the specific language governing permissions and\n",
       "// limitations under the License.\n",
       "\n",
       "/**\n",
       " * @fileoverview Helpers for google.colab Python module.\n",
       " */\n",
       "(function(scope) {\n",
       "function span(text, styleAttributes = {}) {\n",
       "  const element = document.createElement('span');\n",
       "  element.textContent = text;\n",
       "  for (const key of Object.keys(styleAttributes)) {\n",
       "    element.style[key] = styleAttributes[key];\n",
       "  }\n",
       "  return element;\n",
       "}\n",
       "\n",
       "// Max number of bytes which will be uploaded at a time.\n",
       "const MAX_PAYLOAD_SIZE = 100 * 1024;\n",
       "\n",
       "function _uploadFiles(inputId, outputId) {\n",
       "  const steps = uploadFilesStep(inputId, outputId);\n",
       "  const outputElement = document.getElementById(outputId);\n",
       "  // Cache steps on the outputElement to make it available for the next call\n",
       "  // to uploadFilesContinue from Python.\n",
       "  outputElement.steps = steps;\n",
       "\n",
       "  return _uploadFilesContinue(outputId);\n",
       "}\n",
       "\n",
       "// This is roughly an async generator (not supported in the browser yet),\n",
       "// where there are multiple asynchronous steps and the Python side is going\n",
       "// to poll for completion of each step.\n",
       "// This uses a Promise to block the python side on completion of each step,\n",
       "// then passes the result of the previous step as the input to the next step.\n",
       "function _uploadFilesContinue(outputId) {\n",
       "  const outputElement = document.getElementById(outputId);\n",
       "  const steps = outputElement.steps;\n",
       "\n",
       "  const next = steps.next(outputElement.lastPromiseValue);\n",
       "  return Promise.resolve(next.value.promise).then((value) => {\n",
       "    // Cache the last promise value to make it available to the next\n",
       "    // step of the generator.\n",
       "    outputElement.lastPromiseValue = value;\n",
       "    return next.value.response;\n",
       "  });\n",
       "}\n",
       "\n",
       "/**\n",
       " * Generator function which is called between each async step of the upload\n",
       " * process.\n",
       " * @param {string} inputId Element ID of the input file picker element.\n",
       " * @param {string} outputId Element ID of the output display.\n",
       " * @return {!Iterable<!Object>} Iterable of next steps.\n",
       " */\n",
       "function* uploadFilesStep(inputId, outputId) {\n",
       "  const inputElement = document.getElementById(inputId);\n",
       "  inputElement.disabled = false;\n",
       "\n",
       "  const outputElement = document.getElementById(outputId);\n",
       "  outputElement.innerHTML = '';\n",
       "\n",
       "  const pickedPromise = new Promise((resolve) => {\n",
       "    inputElement.addEventListener('change', (e) => {\n",
       "      resolve(e.target.files);\n",
       "    });\n",
       "  });\n",
       "\n",
       "  const cancel = document.createElement('button');\n",
       "  inputElement.parentElement.appendChild(cancel);\n",
       "  cancel.textContent = 'Cancel upload';\n",
       "  const cancelPromise = new Promise((resolve) => {\n",
       "    cancel.onclick = () => {\n",
       "      resolve(null);\n",
       "    };\n",
       "  });\n",
       "\n",
       "  // Wait for the user to pick the files.\n",
       "  const files = yield {\n",
       "    promise: Promise.race([pickedPromise, cancelPromise]),\n",
       "    response: {\n",
       "      action: 'starting',\n",
       "    }\n",
       "  };\n",
       "\n",
       "  cancel.remove();\n",
       "\n",
       "  // Disable the input element since further picks are not allowed.\n",
       "  inputElement.disabled = true;\n",
       "\n",
       "  if (!files) {\n",
       "    return {\n",
       "      response: {\n",
       "        action: 'complete',\n",
       "      }\n",
       "    };\n",
       "  }\n",
       "\n",
       "  for (const file of files) {\n",
       "    const li = document.createElement('li');\n",
       "    li.append(span(file.name, {fontWeight: 'bold'}));\n",
       "    li.append(span(\n",
       "        `(${file.type || 'n/a'}) - ${file.size} bytes, ` +\n",
       "        `last modified: ${\n",
       "            file.lastModifiedDate ? file.lastModifiedDate.toLocaleDateString() :\n",
       "                                    'n/a'} - `));\n",
       "    const percent = span('0% done');\n",
       "    li.appendChild(percent);\n",
       "\n",
       "    outputElement.appendChild(li);\n",
       "\n",
       "    const fileDataPromise = new Promise((resolve) => {\n",
       "      const reader = new FileReader();\n",
       "      reader.onload = (e) => {\n",
       "        resolve(e.target.result);\n",
       "      };\n",
       "      reader.readAsArrayBuffer(file);\n",
       "    });\n",
       "    // Wait for the data to be ready.\n",
       "    let fileData = yield {\n",
       "      promise: fileDataPromise,\n",
       "      response: {\n",
       "        action: 'continue',\n",
       "      }\n",
       "    };\n",
       "\n",
       "    // Use a chunked sending to avoid message size limits. See b/62115660.\n",
       "    let position = 0;\n",
       "    do {\n",
       "      const length = Math.min(fileData.byteLength - position, MAX_PAYLOAD_SIZE);\n",
       "      const chunk = new Uint8Array(fileData, position, length);\n",
       "      position += length;\n",
       "\n",
       "      const base64 = btoa(String.fromCharCode.apply(null, chunk));\n",
       "      yield {\n",
       "        response: {\n",
       "          action: 'append',\n",
       "          file: file.name,\n",
       "          data: base64,\n",
       "        },\n",
       "      };\n",
       "\n",
       "      let percentDone = fileData.byteLength === 0 ?\n",
       "          100 :\n",
       "          Math.round((position / fileData.byteLength) * 100);\n",
       "      percent.textContent = `${percentDone}% done`;\n",
       "\n",
       "    } while (position < fileData.byteLength);\n",
       "  }\n",
       "\n",
       "  // All done.\n",
       "  yield {\n",
       "    response: {\n",
       "      action: 'complete',\n",
       "    }\n",
       "  };\n",
       "}\n",
       "\n",
       "scope.google = scope.google || {};\n",
       "scope.google.colab = scope.google.colab || {};\n",
       "scope.google.colab._files = {\n",
       "  _uploadFiles,\n",
       "  _uploadFilesContinue,\n",
       "};\n",
       "})(self);\n",
       "</script> "
      ]
     },
     "metadata": {}
    },
    {
     "output_type": "stream",
     "name": "stdout",
     "text": [
      "Saving kaggle.json to kaggle (1).json\n"
     ]
    },
    {
     "output_type": "execute_result",
     "data": {
      "text/plain": [
       "{'kaggle.json': b'{\"username\":\"bahriaymen\",\"key\":\"a13346c4c42326125bedf0153e4a7d20\"}'}"
      ]
     },
     "metadata": {},
     "execution_count": 2
    }
   ],
   "source": [
    "from google.colab import files \n",
    "files.upload()"
   ]
  },
  {
   "cell_type": "markdown",
   "source": [
    "### next step I need to copy the json file to the kaggle directory so I need to create a root directory using the command ***mdir ~/.kaggle*** and I can also add a command to make the file readable only by me by changing the permission using ***chmod ...*** 600 is me (the current user )"
   ],
   "metadata": {
    "id": "XH4AgeLZnVAf"
   }
  },
  {
   "cell_type": "code",
   "source": [
    "!mkdir ~/.kaggle\n",
    "!cp kaggle.json ~/.kaggle/\n",
    "!chmod 600 ~/.kaggle/kaggle.json"
   ],
   "metadata": {
    "id": "rCH8ihYEnOF7",
    "colab": {
     "base_uri": "https://localhost:8080/"
    },
    "outputId": "33e1396f-4c3c-4fc4-b5ad-fc2cd7306bae"
   },
   "execution_count": 3,
   "outputs": [
    {
     "output_type": "stream",
     "name": "stdout",
     "text": [
      "mkdir: cannot create directory ‘/root/.kaggle’: File exists\n"
     ]
    }
   ]
  },
  {
   "cell_type": "markdown",
   "source": [
    "### Next I need to download the data set using the command ***kaggle datasets download -d williamscott701/memotion-dataset-7k***"
   ],
   "metadata": {
    "id": "mt5WNFkqlelT"
   }
  },
  {
   "cell_type": "code",
   "source": [
    "!kaggle datasets download -d williamscott701/memotion-dataset-7k"
   ],
   "metadata": {
    "colab": {
     "base_uri": "https://localhost:8080/"
    },
    "id": "SV1F3yN7kk4d",
    "outputId": "8cb61bf4-3d22-483e-826c-dbd47dab9484"
   },
   "execution_count": 4,
   "outputs": [
    {
     "output_type": "stream",
     "name": "stdout",
     "text": [
      "memotion-dataset-7k.zip: Skipping, found more recently modified local copy (use --force to force download)\n"
     ]
    }
   ]
  },
  {
   "cell_type": "markdown",
   "source": [
    "###Finally, the training data is a compressed file so I need to uncompress it \n",
    "###(unzip) silently (-qq):\n",
    "\n",
    "---\n",
    "\n"
   ],
   "metadata": {
    "id": "xpbYiuB-ns3k"
   }
  },
  {
   "cell_type": "code",
   "source": [],
   "metadata": {
    "id": "jt-N7Pj_WrmY"
   },
   "execution_count": null,
   "outputs": []
  },
  {
   "cell_type": "code",
   "source": [
    "!unzip -qq memotion-dataset-7k.zip"
   ],
   "metadata": {
    "id": "zXcv8tp_nKw2",
    "colab": {
     "base_uri": "https://localhost:8080/"
    },
    "outputId": "bc3947bc-5a5a-445c-fb32-d943746d58f3"
   },
   "execution_count": 5,
   "outputs": [
    {
     "output_type": "stream",
     "name": "stdout",
     "text": [
      "replace memotion_dataset_7k/labels.csv? [y]es, [n]o, [A]ll, [N]one, [r]ename: A\n"
     ]
    }
   ]
  },
  {
   "cell_type": "code",
   "source": [
    "!rm -r /content/memotion_dataset_7k/new_images\n",
    "!mkdir /content/memotion_dataset_7k/new_images"
   ],
   "metadata": {
    "id": "f0zVr02R2h0D"
   },
   "execution_count": 7,
   "outputs": []
  },
  {
   "cell_type": "markdown",
   "source": [
    "### this dataset contains 6992 images ,so I will split them into 2000 training 2000 test and 500 validation ,I will create a new directory ,sentiment_small and save the images separately each category alone and then draw equal number of images from each cateory in the same directory"
   ],
   "metadata": {
    "id": "JGJIyKkRowOh"
   }
  },
  {
   "cell_type": "code",
   "source": [
    "\n",
    "import os,shutil,pathlib ,csv\n",
    "\n",
    "\n",
    "\n",
    "label_dict = {}                                                     #this will be a dictionary where we will store  the name of images belonging to each sentiment class that will help us separate eatch class's images\n",
    "with open(\"/content/memotion_dataset_7k/labels.csv\",\"r\") as file:\n",
    "  labels = csv.reader(file)\n",
    "  next(labels)                                                      #csv.reader returns an iterable ,next will increment the iterrable so we pass the header and I only store image names and their classes\n",
    "  for row in labels:\n",
    "    label_dict.setdefault(row[-1],[]).append(row[1])                # for each key ,we append to an empty list the corresponding image name so we get the list of images for each class\n",
    "\n",
    "\"\"\" we will try to rename all the images according to their class and then save them with a jpg extenstion  on a new\n",
    "                      directory that we'll call new_images a step that  we'll need it later when defining the dataset objects\"\"\"\n",
    "\n",
    "\n",
    "new_name_dict = {}                                                  #creating the new dictionnary names \n",
    "for category in list(label_dict.keys()):\n",
    "  for i,name in enumerate(label_dict[category]):    \n",
    "    extension = name.split(\".\")[1]                                                    #get image name extension\n",
    "    src_file = f\"/content/memotion_dataset_7k/images/{name}\"                              #path to image\n",
    "    dst_file = f\"/content/memotion_dataset_7k/images/{category}_{i}.{extension}\"       #path to image with a new name\n",
    "    os.rename(src_file,dst_file)\n",
    "\n",
    "    new_dst = f\"/content/memotion_dataset_7k/new_images/{category}_{i}.{extension}\"\n",
    "    shutil.copyfile(dst_file,new_dst)                                                          \n",
    "    new_name_dict.setdefault(category,[]).append(f\"{category}_{i}.{extension}\")\n",
    "    \n"
   ],
   "metadata": {
    "id": "N9rSif_GoKTa"
   },
   "execution_count": 8,
   "outputs": []
  },
  {
   "cell_type": "code",
   "source": [
    "label_dict_1 = label_dict.copy()                          #copy old images name with their classes \n",
    "label_dict = new_name_dict                                 # changes the  names dictionnary with the new names "
   ],
   "metadata": {
    "id": "Ul0MwJHgMo0W"
   },
   "execution_count": 9,
   "outputs": []
  },
  {
   "cell_type": "code",
   "source": [
    "# plot the statistics of each class \n",
    "import matplotlib.pyplot as plt\n",
    "\n",
    "fig, ax = plt.subplots()\n",
    "\n",
    "classes = list(label_dict.keys())\n",
    "counts = [len(category) for category in label_dict.values()]\n",
    "bar_labels = ['red', 'blue', 'green', 'orange']\n",
    "bar_colors = ['tab:red', 'tab:blue', 'tab:green', 'tab:orange']\n",
    "\n",
    "ax.bar(classes, counts, label=bar_labels, color=bar_colors)\n",
    "\n",
    "ax.set_ylabel('number of images')\n",
    "ax.set_title('number of images in each class')\n",
    "ax.legend()\n",
    "\n",
    "plt.show()"
   ],
   "metadata": {
    "colab": {
     "base_uri": "https://localhost:8080/",
     "height": 282
    },
    "id": "y3eERaZV-9sb",
    "outputId": "30310fce-0e5e-483e-d23a-ad5810f12c79"
   },
   "execution_count": 10,
   "outputs": [
    {
     "output_type": "display_data",
     "data": {
      "text/plain": [
       "<Figure size 432x288 with 1 Axes>"
      ],
      "image/png": "[encoded data removed]"
     },
     "metadata": {
      "needs_background": "light"
     }
    }
   ]
  },
  {
   "cell_type": "code",
   "source": [
    "counts"
   ],
   "metadata": {
    "colab": {
     "base_uri": "https://localhost:8080/"
    },
    "id": "McFq_czWQ-Jk",
    "outputId": "675c352e-136a-4ca1-dffe-b156a783e527"
   },
   "execution_count": 11,
   "outputs": [
    {
     "output_type": "execute_result",
     "data": {
      "text/plain": [
       "[1033, 3127, 2201, 480, 151]"
      ]
     },
     "metadata": {},
     "execution_count": 11
    }
   ]
  },
  {
   "cell_type": "markdown",
   "source": [],
   "metadata": {
    "id": "3ne4-qtuGE5I"
   }
  },
  {
   "cell_type": "code",
   "source": [
    "# now we will use keras functional API to create a CNN model at first,using functional API will allow me to alter the model later by adding layers and enables us to use multi_input architectures\n",
    "\n",
    "from tensorflow import keras\n",
    "from keras import layers\n",
    "inputs =keras.Input(shape = (300,300,3))                                  # input shape (300,300) was chosen at random \n",
    "x = layers.Rescaling(1./255)(inputs)                                      # rescaling inputs by deviding each pixel by 255\n",
    "x = layers.Conv2D(filters = 32,kernel_size=3,activation=\"relu\")(x)\n",
    "x = layers.MaxPooling2D(pool_size=2)(x)                                   #downsampling the input ,deviding the input shape by 2\n",
    "x = layers.Conv2D(filters = 64,kernel_size = 3,activation = \"relu\")(x)\n",
    "x = layers.MaxPooling2D(pool_size = 2)(x)\n",
    "x = layers.Conv2D(filters=128,kernel_size = 3,activation =\"relu\" )(x)\n",
    "x = layers.MaxPooling2D(pool_size = 2)(x)\n",
    "x = layers.Conv2D(filters=256,kernel_size = 3,activation =\"relu\" )(x)\n",
    "x = layers.MaxPooling2D(pool_size = 2)(x)\n",
    "x = layers.Conv2D(filters=256,kernel_size = 3,activation =\"relu\" )(x)\n",
    "x = layers.Flatten()(x)\n",
    "\n",
    "outputs = layers.Dense(5,activation = \"softmax\")(x)\n",
    "model = keras.Model(inputs = inputs,outputs = outputs )\n",
    "\n",
    "model.summary()\n"
   ],
   "metadata": {
    "colab": {
     "base_uri": "https://localhost:8080/"
    },
    "id": "6LcN6LAvF_ZK",
    "outputId": "83f31ca7-85d9-4145-af67-8fc85af74e51"
   },
   "execution_count": 12,
   "outputs": [
    {
     "output_type": "stream",
     "name": "stdout",
     "text": [
      "Model: \"model\"\n",
      "_________________________________________________________________\n",
      " Layer (type)                Output Shape              Param #   \n",
      "=================================================================\n",
      " input_1 (InputLayer)        [(None, 300, 300, 3)]     0         \n",
      "                                                                 \n",
      " rescaling (Rescaling)       (None, 300, 300, 3)       0         \n",
      "                                                                 \n",
      " conv2d (Conv2D)             (None, 298, 298, 32)      896       \n",
      "                                                                 \n",
      " max_pooling2d (MaxPooling2D  (None, 149, 149, 32)     0         \n",
      " )                                                               \n",
      "                                                                 \n",
      " conv2d_1 (Conv2D)           (None, 147, 147, 64)      18496     \n",
      "                                                                 \n",
      " max_pooling2d_1 (MaxPooling  (None, 73, 73, 64)       0         \n",
      " 2D)                                                             \n",
      "                                                                 \n",
      " conv2d_2 (Conv2D)           (None, 71, 71, 128)       73856     \n",
      "                                                                 \n",
      " max_pooling2d_2 (MaxPooling  (None, 35, 35, 128)      0         \n",
      " 2D)                                                             \n",
      "                                                                 \n",
      " conv2d_3 (Conv2D)           (None, 33, 33, 256)       295168    \n",
      "                                                                 \n",
      " max_pooling2d_3 (MaxPooling  (None, 16, 16, 256)      0         \n",
      " 2D)                                                             \n",
      "                                                                 \n",
      " conv2d_4 (Conv2D)           (None, 14, 14, 256)       590080    \n",
      "                                                                 \n",
      " flatten (Flatten)           (None, 50176)             0         \n",
      "                                                                 \n",
      " dense (Dense)               (None, 5)                 250885    \n",
      "                                                                 \n",
      "=================================================================\n",
      "Total params: 1,229,381\n",
      "Trainable params: 1,229,381\n",
      "Non-trainable params: 0\n",
      "_________________________________________________________________\n"
     ]
    }
   ]
  },
  {
   "cell_type": "code",
   "source": [
    "#Specifying the optimization loop using compile ,by choosing which optimizer to use for example rmsprop,loss function and which metrics to monitor\n",
    "model.compile(optimizer=\"rmsprop\",loss=\"sparse_categorical_crossentropy\",metrics = [\"accuracy\"])\n"
   ],
   "metadata": {
    "id": "cOINh710GmPy"
   },
   "execution_count": 13,
   "outputs": []
  },
  {
   "cell_type": "code",
   "source": [
    "!rm -r /content/memotion_dataset_7k/memotion_small   #Just a terminal command to remove recursively my small dataset if its already created\n",
    "import os,shutil,pathlib\n",
    "\n",
    "original_dir = pathlib.Path(\"/content/memotion_dataset_7k/new_images\")\n",
    "new_base_dir = pathlib.Path(\"/content/memotion_dataset_7k/memotion_small\")\n",
    "\n",
    "label_dict = new_name_dict\n",
    "\n",
    "#since data is not split equivalently between classes we will split them manually not following any  rule between validation , train and test\n",
    "l_train = {}\n",
    "train_positive = label_dict[\"positive\"][:2000]\n",
    "train_very_positive = label_dict[\"very_positive\"][:600]\n",
    "train_neutral = label_dict[\"neutral\"][:1000]\n",
    "train_negative = label_dict[\"negative\"][:200]\n",
    "train_very_negative = label_dict[\"very_negative\"][:100]\n",
    "l_train[\"positive\"],l_train[\"very_positive\"],l_train[\"neutral\"],l_train[\"negative\"],l_train[\"very_negative\"]= train_positive,train_very_positive, train_neutral, train_negative, train_very_negative\n",
    "\n",
    "\n",
    "\n",
    "l_test ={}\n",
    "test_positive = label_dict[\"positive\"][2000:2500]\n",
    "test_very_positive = label_dict[\"very_positive\"][600:800]\n",
    "test_neutral = label_dict[\"neutral\"][1000:1800]\n",
    "test_negative = label_dict[\"negative\"][200:400]\n",
    "test_very_negative = label_dict[\"very_negative\"][100:125]\n",
    "\n",
    "l_test[\"positive\"],l_test[\"very_positive\"],l_test[\"neutral\"],l_test[\"negative\"],l_test[\"very_negative\"]= test_positive,test_very_positive, test_neutral, test_negative, test_very_negative\n",
    "\n",
    "\n",
    "l_validation = {}\n",
    "validation_positive = label_dict[\"positive\"][2500:]\n",
    "validation_very_positive = label_dict[\"very_positive\"][800:]\n",
    "validation_neutral = label_dict[\"neutral\"][1800:]\n",
    "validation_negative = label_dict[\"negative\"][400:]\n",
    "validation_very_negative = label_dict[\"very_negative\"][125:]\n",
    "\n",
    "l_validation[\"positive\"],l_validation[\"very_positive\"],l_validation[\"neutral\"],l_validation[\"negative\"],l_validation[\"very_negative\"]= validation_positive,validation_very_positive, validation_neutral, validation_negative, validation_very_negative\n",
    "\n",
    "def make_subset(subset_name,image_names):\n",
    "  for category in label_dict.keys():\n",
    "    dir = new_base_dir / subset_name / category\n",
    "    os.makedirs(dir)\n",
    "\n",
    "    for fname in image_names[category]:\n",
    "      shutil.copyfile(src=original_dir /fname,dst=dir / fname)\n",
    "\n",
    "\n",
    "\n"
   ],
   "metadata": {
    "id": "LfQDhE26Ma2X"
   },
   "execution_count": 14,
   "outputs": []
  },
  {
   "cell_type": "code",
   "source": [
    "make_subset(\"train\",l_train)\n",
    "make_subset(\"validation\",l_validation)\n",
    "make_subset(\"test\",l_test)"
   ],
   "metadata": {
    "id": "WJoHmqFpEOSy"
   },
   "execution_count": 15,
   "outputs": []
  },
  {
   "cell_type": "code",
   "source": [
    "#image_dataset_from_directory will list subdirectories and assume that each directory belongs to a class ,so as directroies are listed as \n",
    "#(negative,neutral,positive,very_negative,very_positive) classes will be (0,1,2,3,4) accordingly \n",
    "\n",
    "from tensorflow.keras.utils import image_dataset_from_directory\n",
    "\n",
    "shape = (300,300)\n",
    "\n",
    "train_dataset = image_dataset_from_directory(new_base_dir /\"train\",\n",
    "                                             image_size = shape,batch_size = 32)\n",
    "\n",
    "validation_dataset = image_dataset_from_directory(new_base_dir / \"validation\",\n",
    "                                                  image_size = shape,batch_size = 32)\n",
    "test_dataset = image_dataset_from_directory(new_base_dir / \"test\",\n",
    "                                            image_size = shape,batch_size = 32)\n"
   ],
   "metadata": {
    "colab": {
     "base_uri": "https://localhost:8080/"
    },
    "id": "N4Ju06e5GqeA",
    "outputId": "27427355-da3a-4cb9-a941-bca00963d630"
   },
   "execution_count": 16,
   "outputs": [
    {
     "output_type": "stream",
     "name": "stdout",
     "text": [
      "Found 3899 files belonging to 5 classes.\n",
      "Found 1367 files belonging to 5 classes.\n",
      "Found 1725 files belonging to 5 classes.\n"
     ]
    }
   ]
  },
  {
   "cell_type": "code",
   "source": [
    "for data_batch ,labels_batch in train_dataset:\n",
    "  print(data_batch.shape,labels_batch,labels_batch.shape)\n",
    "  image = data_batch[0]\n",
    "  image_label = labels_batch[0]\n",
    "  break\n",
    "\n"
   ],
   "metadata": {
    "id": "rbCi7OPgTLWr",
    "colab": {
     "base_uri": "https://localhost:8080/"
    },
    "outputId": "9845fc6d-5140-456e-ff5c-c1b6c7b4c963"
   },
   "execution_count": 17,
   "outputs": [
    {
     "output_type": "stream",
     "name": "stdout",
     "text": [
      "(32, 300, 300, 3) tf.Tensor([2 2 2 2 2 2 2 4 2 4 2 2 4 2 2 2 4 1 1 1 2 1 1 0 2 2 3 4 1 2 2 2], shape=(32,), dtype=int32) (32,)\n"
     ]
    }
   ]
  },
  {
   "cell_type": "code",
   "source": [
    "#lets see a reshaped image ,we converted the image to an unsined int array so it can be visualised properly with plt.imshow()\n",
    "import matplotlib.pyplot as plt\n",
    "plt.imshow(image.numpy().astype(\"uint8\"))\n",
    "plt.axis(\"off\")"
   ],
   "metadata": {
    "colab": {
     "base_uri": "https://localhost:8080/",
     "height": 265
    },
    "id": "sshECUCk5iK7",
    "outputId": "8569e7a8-3efd-4961-f1bc-69fbc84d0de6"
   },
   "execution_count": 18,
   "outputs": [
    {
     "output_type": "execute_result",
     "data": {
      "text/plain": [
       "(-0.5, 299.5, 299.5, -0.5)"
      ]
     },
     "metadata": {},
     "execution_count": 18
    },
    {
     "output_type": "display_data",
     "data": {
      "text/plain": [
       "<Figure size 432x288 with 1 Axes>"
      ],
      "image/png": "[encoded data removed]"
     },
     "metadata": {
      "needs_background": "light"
     }
    }
   ]
  },
  {
   "cell_type": "code",
   "source": [
    "#we will set a base line of 50% accuracy on training ,and then try to make the model overfit\n",
    "\n",
    "\n",
    "callback_list = [keras.callbacks.EarlyStopping(monitor=\"val_accuracy\",patience=2),\n",
    "                 keras.callbacks.ModelCheckpoint(filepath=\"checkpoint.keras\",monitor=\"val_accuracy\",save_best_only=True)]\n",
    "history = model.fit(train_dataset,epochs=30,validation_data=validation_dataset,callbacks=callback_list)"
   ],
   "metadata": {
    "colab": {
     "base_uri": "https://localhost:8080/"
    },
    "id": "NAz5tDt2O7fZ",
    "outputId": "199c45ff-f1c8-4217-d31f-9368ab9cce56"
   },
   "execution_count": 19,
   "outputs": [
    {
     "output_type": "stream",
     "name": "stdout",
     "text": [
      "Epoch 1/30\n",
      "122/122 [==============================] - 41s 240ms/step - loss: 1.5656 - accuracy: 0.4927 - val_loss: 1.2798 - val_accuracy: 0.4587\n",
      "Epoch 2/30\n",
      "122/122 [==============================] - 29s 227ms/step - loss: 1.2399 - accuracy: 0.5127 - val_loss: 1.2699 - val_accuracy: 0.4587\n",
      "Epoch 3/30\n",
      "122/122 [==============================] - 28s 224ms/step - loss: 1.2381 - accuracy: 0.5127 - val_loss: 1.2656 - val_accuracy: 0.4587\n"
     ]
    }
   ]
  },
  {
   "cell_type": "code",
   "source": [
    "import matplotlib.pyplot as plt\n",
    "history = history.history\n",
    "train_loss =history[\"loss\"]\n",
    "val_loss = history[\"val_loss\"]\n",
    "epochs = range(1,len(train_loss) + 1)\n",
    "plt.plot(epochs,train_loss,\"bo\",label = \"Train loss\")\n",
    "plt.plot(epochs,val_loss,\"b\",label = \"validation loss\")\n",
    "plt.title(\"Train and Validation Losses\")\n",
    "plt.xlabel(\"Epochs\")\n",
    "plt.ylabel(\"Loss\")\n",
    "plt.legend()\n",
    "plt.show()"
   ],
   "metadata": {
    "colab": {
     "base_uri": "https://localhost:8080/",
     "height": 295
    },
    "id": "SOMRS826Xrj6",
    "outputId": "1067e1f4-0a38-4153-eecb-9e16100f7e32"
   },
   "execution_count": 20,
   "outputs": [
    {
     "output_type": "display_data",
     "data": {
      "text/plain": [
       "<Figure size 432x288 with 1 Axes>"
      ],
      "image/png": "[encoded data removed]"
     },
     "metadata": {
      "needs_background": "light"
     }
    }
   ]
  },
  {
   "cell_type": "markdown",
   "source": [],
   "metadata": {
    "id": "92IGyesQmvuT"
   }
  },
  {
   "cell_type": "code",
   "source": [
    "# iwill add more layers to the model if it can helps it overfit,as increasing model parametres(simply memory) will genrally make the model discover more patterns\n",
    "\n",
    "model.layers[10]   # the last convolutuin layer before flatten"
   ],
   "metadata": {
    "id": "MCqpJUs2QLuJ",
    "colab": {
     "base_uri": "https://localhost:8080/"
    },
    "outputId": "55ef9041-80a1-44c8-e35a-2f1699f8ec21"
   },
   "execution_count": 21,
   "outputs": [
    {
     "output_type": "execute_result",
     "data": {
      "text/plain": [
       "<keras.layers.convolutional.conv2d.Conv2D at 0x7f2e09292ca0>"
      ]
     },
     "metadata": {},
     "execution_count": 21
    }
   ]
  },
  {
   "cell_type": "code",
   "source": [
    "x = model.layers[10].output\n",
    "\n",
    "x = layers.Conv2D(filters=256,kernel_size = 3,activation =\"relu\" )(x)\n",
    "x = layers.MaxPooling2D(pool_size = 2)(x)\n",
    "x = layers.Conv2D(filters=256,kernel_size = 3,activation =\"relu\" )(x)\n",
    "x = layers.Flatten()(x)\n",
    "outputs = layers.Dense(5,activation = \"softmax\")(x)\n",
    "\n",
    "model_2 =keras.Model(inputs = inputs,outputs = outputs )"
   ],
   "metadata": {
    "id": "Si7jFk11njlu"
   },
   "execution_count": 22,
   "outputs": []
  },
  {
   "cell_type": "code",
   "source": [
    "model_2.summary()"
   ],
   "metadata": {
    "colab": {
     "base_uri": "https://localhost:8080/"
    },
    "id": "Zv5c3ft8pNas",
    "outputId": "dbf68981-a7a4-4fc5-c8cc-4bd08dc397f5"
   },
   "execution_count": 23,
   "outputs": [
    {
     "output_type": "stream",
     "name": "stdout",
     "text": [
      "Model: \"model_1\"\n",
      "_________________________________________________________________\n",
      " Layer (type)                Output Shape              Param #   \n",
      "=================================================================\n",
      " input_1 (InputLayer)        [(None, 300, 300, 3)]     0         \n",
      "                                                                 \n",
      " rescaling (Rescaling)       (None, 300, 300, 3)       0         \n",
      "                                                                 \n",
      " conv2d (Conv2D)             (None, 298, 298, 32)      896       \n",
      "                                                                 \n",
      " max_pooling2d (MaxPooling2D  (None, 149, 149, 32)     0         \n",
      " )                                                               \n",
      "                                                                 \n",
      " conv2d_1 (Conv2D)           (None, 147, 147, 64)      18496     \n",
      "                                                                 \n",
      " max_pooling2d_1 (MaxPooling  (None, 73, 73, 64)       0         \n",
      " 2D)                                                             \n",
      "                                                                 \n",
      " conv2d_2 (Conv2D)           (None, 71, 71, 128)       73856     \n",
      "                                                                 \n",
      " max_pooling2d_2 (MaxPooling  (None, 35, 35, 128)      0         \n",
      " 2D)                                                             \n",
      "                                                                 \n",
      " conv2d_3 (Conv2D)           (None, 33, 33, 256)       295168    \n",
      "                                                                 \n",
      " max_pooling2d_3 (MaxPooling  (None, 16, 16, 256)      0         \n",
      " 2D)                                                             \n",
      "                                                                 \n",
      " conv2d_4 (Conv2D)           (None, 14, 14, 256)       590080    \n",
      "                                                                 \n",
      " conv2d_5 (Conv2D)           (None, 12, 12, 256)       590080    \n",
      "                                                                 \n",
      " max_pooling2d_4 (MaxPooling  (None, 6, 6, 256)        0         \n",
      " 2D)                                                             \n",
      "                                                                 \n",
      " conv2d_6 (Conv2D)           (None, 4, 4, 256)         590080    \n",
      "                                                                 \n",
      " flatten_1 (Flatten)         (None, 4096)              0         \n",
      "                                                                 \n",
      " dense_1 (Dense)             (None, 5)                 20485     \n",
      "                                                                 \n",
      "=================================================================\n",
      "Total params: 2,179,141\n",
      "Trainable params: 2,179,141\n",
      "Non-trainable params: 0\n",
      "_________________________________________________________________\n"
     ]
    }
   ]
  },
  {
   "cell_type": "code",
   "source": [
    "model_2.compile(optimizer=\"rmsprop\",loss=\"sparse_categorical_crossentropy\",metrics = [\"accuracy\"])\n"
   ],
   "metadata": {
    "id": "oZf3Hu7ArCDR"
   },
   "execution_count": 24,
   "outputs": []
  },
  {
   "cell_type": "code",
   "source": [
    "\n",
    "shape = (300,300)\n",
    "\n",
    "train_dataset = image_dataset_from_directory(new_base_dir /\"train\",\n",
    "                                             image_size = shape,batch_size = 32)\n",
    "\n",
    "validation_dataset = image_dataset_from_directory(new_base_dir / \"validation\",\n",
    "                                                  image_size = shape,batch_size = 32)\n",
    "test_dataset = image_dataset_from_directory(new_base_dir / \"test\",\n",
    "                                            image_size = shape,batch_size = 32)\n"
   ],
   "metadata": {
    "colab": {
     "base_uri": "https://localhost:8080/"
    },
    "id": "52dnoyxTrMYJ",
    "outputId": "90b2f096-2d2a-4026-cde9-0f1179e3920f"
   },
   "execution_count": 25,
   "outputs": [
    {
     "output_type": "stream",
     "name": "stdout",
     "text": [
      "Found 3899 files belonging to 5 classes.\n",
      "Found 1367 files belonging to 5 classes.\n",
      "Found 1725 files belonging to 5 classes.\n"
     ]
    }
   ]
  },
  {
   "cell_type": "code",
   "source": [
    "callback_list = [keras.callbacks.EarlyStopping(monitor=\"val_accuracy\",patience=2),\n",
    "                 keras.callbacks.ModelCheckpoint(filepath=\"checkpoint.keras\",monitor=\"val_accuracy\",save_best_only=True)]\n",
    "history = model_2.fit(train_dataset,epochs=30,validation_data=validation_dataset,callbacks=callback_list)"
   ],
   "metadata": {
    "colab": {
     "base_uri": "https://localhost:8080/"
    },
    "id": "_7tz80-FrTUF",
    "outputId": "974f4d05-9c7c-4da6-c46e-e74b078a6a1e"
   },
   "execution_count": 26,
   "outputs": [
    {
     "output_type": "stream",
     "name": "stdout",
     "text": [
      "Epoch 1/30\n",
      "122/122 [==============================] - 29s 220ms/step - loss: 1.2789 - accuracy: 0.5045 - val_loss: 1.3336 - val_accuracy: 0.4587\n",
      "Epoch 2/30\n",
      "122/122 [==============================] - 29s 233ms/step - loss: 1.2548 - accuracy: 0.5127 - val_loss: 1.2768 - val_accuracy: 0.4587\n",
      "Epoch 3/30\n",
      "122/122 [==============================] - 27s 216ms/step - loss: 1.2408 - accuracy: 0.5127 - val_loss: 1.2679 - val_accuracy: 0.4587\n"
     ]
    }
   ]
  },
  {
   "cell_type": "markdown",
   "source": [
    "### there are no improvments ,the model barely fits the data,there are no clear patterns between the data and the labels \n",
    "\n",
    "*   I will make a multi input model where I will feed to it images and the text associated to them \n",
    "\n",
    "1.   I will make a densely connected layers first and see how they perform on text without the use of RNNs\n",
    "\n",
    "\n",
    "\n",
    "*   and then I will use a pretrained model \n",
    "\n"
   ],
   "metadata": {
    "id": "mroxnrQCTZPr"
   }
  },
  {
   "cell_type": "code",
   "source": [
    "text_dict = {}                                                     #this will be a dictionary where I will store  the text discription of each image belonging to each sentiment class \n",
    "with open(\"/content/memotion_dataset_7k/labels.csv\",\"r\") as file:\n",
    "  labels = csv.reader(file)\n",
    "  next(labels)                                                      #csv.reader returns an iterable ,next will increment the iterrable so I pass the header and I only store image names and their classes\n",
    "  for row in labels:\n",
    "    text_dict.setdefault(row[-1],[]).append(row[3])              # for each key ,I append to an empty list the corresponding image text so I get the list of texts for each class\n",
    "\n"
   ],
   "metadata": {
    "id": "Icl7W9p3UiY0"
   },
   "execution_count": 27,
   "outputs": []
  },
  {
   "cell_type": "code",
   "source": [
    "#checking if  each text discription will be linked to the correct image \n",
    "text_dict[\"positive\"][0],label_dict_1[\"positive\"][0],label_dict[\"positive\"][0]"
   ],
   "metadata": {
    "colab": {
     "base_uri": "https://localhost:8080/"
    },
    "id": "esLp1E1wZA1D",
    "outputId": "9e53cf3b-29d6-45a9-9fbc-d92cafe6c223"
   },
   "execution_count": 28,
   "outputs": [
    {
     "output_type": "execute_result",
     "data": {
      "text/plain": [
       "(\"Sam Thorne @Strippin ( Follow Follow Saw everyone posting these 2009 vs 2019 pics so here's mine 6:23 PM - 12 Jan 2019 O 636 Retweets 3 224 LIKES 65 636 3.2K\",\n",
       " 'image_3.JPG',\n",
       " 'positive_0.JPG')"
      ]
     },
     "metadata": {},
     "execution_count": 28
    }
   ]
  },
  {
   "cell_type": "code",
   "source": [
    "# I need a dictionnary of words to be able to numerically encode the text discriptions so I will use the imdb get_word_index \n",
    "from tensorflow.keras.datasets import imdb\n",
    "import tensorflow as tf\n",
    "word_index = imdb.get_word_index()   #Returns the index of a word inside a dictionnary \n",
    "\n",
    "vecto_words = {}\n",
    "for category in list(text_dict.keys()):\n",
    "  for i,name in enumerate(text_dict[category]):\n",
    "      vecto_words.setdefault(category,[]).append([word_index.get(word,0) for word in text_dict[category][i] ]) #get the list of word indexes and replace a missing word index with 0\n",
    "      #vecto_words[category][i] = [i for i in vecto_words[category][i] if i != 0 ]                               # remove 0 and its occurences 0\n",
    "\n",
    "\n",
    "\n",
    "\n",
    "\n",
    "\n"
   ],
   "metadata": {
    "id": "qp7N5rWefluA"
   },
   "execution_count": 29,
   "outputs": []
  },
  {
   "cell_type": "code",
   "source": [
    "vecto_words[\"positive\"][0]"
   ],
   "metadata": {
    "id": "nJ8O-WWofl4l",
    "colab": {
     "base_uri": "https://localhost:8080/"
    },
    "outputId": "16f9ddf0-986d-4a2e-9c38-63a539896281"
   },
   "execution_count": 30,
   "outputs": [
    {
     "output_type": "execute_result",
     "data": {
      "text/plain": [
       "[0,\n",
       " 3,\n",
       " 1980,\n",
       " 0,\n",
       " 0,\n",
       " 2020,\n",
       " 1601,\n",
       " 1476,\n",
       " 3360,\n",
       " 960,\n",
       " 0,\n",
       " 0,\n",
       " 0,\n",
       " 827,\n",
       " 1476,\n",
       " 10,\n",
       " 1654,\n",
       " 1654,\n",
       " 10,\n",
       " 3360,\n",
       " 0,\n",
       " 0,\n",
       " 0,\n",
       " 0,\n",
       " 1601,\n",
       " 2011,\n",
       " 2011,\n",
       " 1601,\n",
       " 1989,\n",
       " 0,\n",
       " 0,\n",
       " 1601,\n",
       " 2011,\n",
       " 2011,\n",
       " 1601,\n",
       " 1989,\n",
       " 0,\n",
       " 0,\n",
       " 3,\n",
       " 1989,\n",
       " 0,\n",
       " 960,\n",
       " 1961,\n",
       " 960,\n",
       " 1476,\n",
       " 5132,\n",
       " 1601,\n",
       " 3360,\n",
       " 960,\n",
       " 0,\n",
       " 1654,\n",
       " 1601,\n",
       " 587,\n",
       " 827,\n",
       " 10,\n",
       " 3360,\n",
       " 1328,\n",
       " 0,\n",
       " 827,\n",
       " 2020,\n",
       " 960,\n",
       " 587,\n",
       " 960,\n",
       " 0,\n",
       " 238,\n",
       " 2238,\n",
       " 2238,\n",
       " 787,\n",
       " 0,\n",
       " 1961,\n",
       " 587,\n",
       " 0,\n",
       " 238,\n",
       " 2238,\n",
       " 297,\n",
       " 787,\n",
       " 0,\n",
       " 1654,\n",
       " 10,\n",
       " 1145,\n",
       " 587,\n",
       " 0,\n",
       " 587,\n",
       " 1601,\n",
       " 0,\n",
       " 2020,\n",
       " 960,\n",
       " 1476,\n",
       " 960,\n",
       " 755,\n",
       " 587,\n",
       " 0,\n",
       " 1980,\n",
       " 10,\n",
       " 3360,\n",
       " 960,\n",
       " 0,\n",
       " 1083,\n",
       " 0,\n",
       " 238,\n",
       " 339,\n",
       " 0,\n",
       " 0,\n",
       " 0,\n",
       " 0,\n",
       " 0,\n",
       " 0,\n",
       " 297,\n",
       " 238,\n",
       " 0,\n",
       " 0,\n",
       " 3,\n",
       " 3360,\n",
       " 0,\n",
       " 238,\n",
       " 2238,\n",
       " 297,\n",
       " 787,\n",
       " 0,\n",
       " 0,\n",
       " 0,\n",
       " 1083,\n",
       " 339,\n",
       " 1083,\n",
       " 0,\n",
       " 0,\n",
       " 960,\n",
       " 827,\n",
       " 1989,\n",
       " 960,\n",
       " 960,\n",
       " 827,\n",
       " 587,\n",
       " 0,\n",
       " 339,\n",
       " 0,\n",
       " 238,\n",
       " 238,\n",
       " 467,\n",
       " 0,\n",
       " 0,\n",
       " 0,\n",
       " 0,\n",
       " 0,\n",
       " 0,\n",
       " 0,\n",
       " 1083,\n",
       " 454,\n",
       " 0,\n",
       " 1083,\n",
       " 339,\n",
       " 1083,\n",
       " 0,\n",
       " 339,\n",
       " 0,\n",
       " 238,\n",
       " 0]"
      ]
     },
     "metadata": {},
     "execution_count": 30
    }
   ]
  },
  {
   "cell_type": "code",
   "source": [
    "# split text data into train,test and validation \n",
    "\n",
    "t_train = {}\n",
    "train_positive = vecto_words[\"positive\"][:2000]\n",
    "train_very_positive = vecto_words[\"very_positive\"][:600]\n",
    "train_neutral = vecto_words[\"neutral\"][:1000]\n",
    "train_negative = vecto_words[\"negative\"][:200]\n",
    "train_very_negative = vecto_words[\"very_negative\"][:100]\n",
    "t_train[\"positive\"],t_train[\"very_positive\"],t_train[\"neutral\"],t_train[\"negative\"],t_train[\"very_negative\"]= train_positive,train_very_positive, train_neutral, train_negative, train_very_negative\n",
    "\n",
    "\n",
    "\n",
    "t_test ={}\n",
    "test_positive = vecto_words[\"positive\"][2000:2500]\n",
    "test_very_positive = vecto_words[\"very_positive\"][600:800]\n",
    "test_neutral = vecto_words[\"neutral\"][1000:1800]\n",
    "test_negative = vecto_words[\"negative\"][200:400]\n",
    "test_very_negative = vecto_words[\"very_negative\"][100:125]\n",
    "\n",
    "t_test[\"positive\"],t_test[\"very_positive\"],t_test[\"neutral\"],t_test[\"negative\"],t_test[\"very_negative\"]= test_positive,test_very_positive, test_neutral, test_negative, test_very_negative\n",
    "\n",
    "\n",
    "t_validation = {}\n",
    "validation_positive = vecto_words[\"positive\"][2500:]\n",
    "validation_very_positive = vecto_words[\"very_positive\"][800:]\n",
    "validation_neutral = vecto_words[\"neutral\"][1800:]\n",
    "validation_negative = vecto_words[\"negative\"][400:]\n",
    "validation_very_negative = vecto_words[\"very_negative\"][125:]\n",
    "\n",
    "t_validation[\"positive\"],t_validation[\"very_positive\"],t_validation[\"neutral\"],t_validation[\"negative\"],t_validation[\"very_negative\"]= validation_positive,validation_very_positive, validation_neutral, validation_negative, validation_very_negative\n",
    "\n"
   ],
   "metadata": {
    "id": "NhvKfbUvBCAC"
   },
   "execution_count": 31,
   "outputs": []
  },
  {
   "cell_type": "code",
   "source": [
    "import numpy as np\n",
    "def load_data(data_name):\n",
    "    labels = [\"negative\",\"neutral\",\"positive\",\"very_negative\",\"very_positive\"] # will help me change class names with their corrosponding numbers\n",
    "    data =[]\n",
    "    data_labels =[]\n",
    "\n",
    "    for label in labels:\n",
    "      for elt in data_name[label]:\n",
    "        if(len(elt) != 0):\n",
    "          data.append(elt)  \n",
    "          data_labels.append(labels.index(label))\n",
    "\n",
    "    return np.asarray(data),np.asarray(data_labels)\n",
    "\n",
    "\n",
    "train_data,train_labels = load_data(t_train)\n",
    "val_data,val_labels = load_data(t_validation)\n",
    "\n"
   ],
   "metadata": {
    "id": "pPjZTLCmfmCv",
    "colab": {
     "base_uri": "https://localhost:8080/"
    },
    "outputId": "c8fb4d22-a822-45d0-d3b6-c7713ef3a140"
   },
   "execution_count": 32,
   "outputs": [
    {
     "output_type": "stream",
     "name": "stderr",
     "text": [
      "<ipython-input-32-6a78c44f0de7>:13: VisibleDeprecationWarning: Creating an ndarray from ragged nested sequences (which is a list-or-tuple of lists-or-tuples-or ndarrays with different lengths or shapes) is deprecated. If you meant to do this, you must specify 'dtype=object' when creating the ndarray.\n",
      "  return np.asarray(data),np.asarray(data_labels)\n"
     ]
    }
   ]
  },
  {
   "cell_type": "code",
   "source": [
    "# Build a simple 3 layers sequential model \n",
    "\n",
    "\n",
    "model_t = keras.Sequential([\n",
    "    layers.Dense(128,activation=\"relu\"),\n",
    "    layers.Dense(128,activation=\"relu\"),\n",
    "    layers.Dense(5,activation=\"softmax\")\n",
    "])\n",
    "model_t.compile(optimizer=\"rmsprop\",loss=\"categorical_crossentropy\",metrics=[\"accuracy\"])"
   ],
   "metadata": {
    "id": "Pjb4N-kfZzft"
   },
   "execution_count": 34,
   "outputs": []
  },
  {
   "cell_type": "code",
   "source": [
    "dimension = max(max([max(sequence) for sequence in train_data ]) ,max([max(sequence) for sequence in val_data ])) + 1 #search for the largest word index \n",
    "dimension"
   ],
   "metadata": {
    "colab": {
     "base_uri": "https://localhost:8080/"
    },
    "id": "HRpiuqhY_6HG",
    "outputId": "b6f5ec26-f811-496f-d37a-84f58c810acf"
   },
   "execution_count": 33,
   "outputs": [
    {
     "output_type": "execute_result",
     "data": {
      "text/plain": [
       "63165"
      ]
     },
     "metadata": {},
     "execution_count": 33
    }
   ]
  },
  {
   "cell_type": "code",
   "source": [
    "\n",
    "import numpy as np\n",
    "def vectorize_data(sequences,dimension=63165):\n",
    "    \"\"\" this function will one hot encode each data sample by replacing each value with 1 corresponding to the index value \"\"\"\n",
    "    result = np.zeros((len(sequences),dimension))\n",
    "    for i,sequence in enumerate(sequences):\n",
    "        for j in sequence:\n",
    "            result[i,j] = 1.\n",
    "    return result\n",
    "x_train = vectorize_data((train_data)) \n",
    "x_val = vectorize_data(val_data)\n",
    "x_train.shape\n"
   ],
   "metadata": {
    "colab": {
     "base_uri": "https://localhost:8080/"
    },
    "id": "S8fjlrA6bcVe",
    "outputId": "a53c4bd6-c541-44fd-ab89-459e67b18e12"
   },
   "execution_count": 35,
   "outputs": [
    {
     "output_type": "execute_result",
     "data": {
      "text/plain": [
       "(3899, 63165)"
      ]
     },
     "metadata": {},
     "execution_count": 35
    }
   ]
  },
  {
   "cell_type": "code",
   "source": [
    "y_train =np.asarray(train_labels).astype(\"float32\") # transforming labels to array of float32 \n",
    "y_val = np.asarray(val_labels).astype(\"float32\")"
   ],
   "metadata": {
    "id": "7xM1AX5IgowF"
   },
   "execution_count": 36,
   "outputs": []
  },
  {
   "cell_type": "code",
   "source": [
    "# one hot encoding the labels\n",
    "from keras.utils import to_categorical\n",
    "y_train = to_categorical(y_train)\n",
    "y_val =  to_categorical(y_val)\n",
    "y_train.shape"
   ],
   "metadata": {
    "colab": {
     "base_uri": "https://localhost:8080/"
    },
    "id": "LIRelL0piCkZ",
    "outputId": "7131328f-5bfe-43f8-d9a4-9d9328dea85e"
   },
   "execution_count": 37,
   "outputs": [
    {
     "output_type": "execute_result",
     "data": {
      "text/plain": [
       "(3899, 5)"
      ]
     },
     "metadata": {},
     "execution_count": 37
    }
   ]
  },
  {
   "cell_type": "code",
   "source": [
    "history = model_t.fit(x_train,y_train,epochs=30,batch_size=64,validation_data=(x_val,y_val))"
   ],
   "metadata": {
    "colab": {
     "base_uri": "https://localhost:8080/"
    },
    "id": "ONX1LyCPaDs5",
    "outputId": "8fd3c5b9-8dd7-4f3b-e879-1d59536b5835"
   },
   "execution_count": 38,
   "outputs": [
    {
     "output_type": "stream",
     "name": "stdout",
     "text": [
      "Epoch 1/30\n",
      "61/61 [==============================] - 2s 25ms/step - loss: 1.2866 - accuracy: 0.5045 - val_loss: 1.2758 - val_accuracy: 0.4575\n",
      "Epoch 2/30\n",
      "61/61 [==============================] - 1s 18ms/step - loss: 1.2323 - accuracy: 0.5127 - val_loss: 1.2705 - val_accuracy: 0.4575\n",
      "Epoch 3/30\n",
      "61/61 [==============================] - 1s 18ms/step - loss: 1.2261 - accuracy: 0.5127 - val_loss: 1.2891 - val_accuracy: 0.4575\n",
      "Epoch 4/30\n",
      "61/61 [==============================] - 1s 17ms/step - loss: 1.2260 - accuracy: 0.5127 - val_loss: 1.2740 - val_accuracy: 0.4575\n",
      "Epoch 5/30\n",
      "61/61 [==============================] - 1s 18ms/step - loss: 1.2211 - accuracy: 0.5127 - val_loss: 1.2812 - val_accuracy: 0.4575\n",
      "Epoch 6/30\n",
      "61/61 [==============================] - 1s 18ms/step - loss: 1.2213 - accuracy: 0.5127 - val_loss: 1.2834 - val_accuracy: 0.4575\n",
      "Epoch 7/30\n",
      "61/61 [==============================] - 1s 18ms/step - loss: 1.2172 - accuracy: 0.5124 - val_loss: 1.2969 - val_accuracy: 0.4575\n",
      "Epoch 8/30\n",
      "61/61 [==============================] - 1s 19ms/step - loss: 1.2161 - accuracy: 0.5127 - val_loss: 1.2804 - val_accuracy: 0.4560\n",
      "Epoch 9/30\n",
      "61/61 [==============================] - 1s 18ms/step - loss: 1.2134 - accuracy: 0.5127 - val_loss: 1.2948 - val_accuracy: 0.4575\n",
      "Epoch 10/30\n",
      "61/61 [==============================] - 1s 18ms/step - loss: 1.2093 - accuracy: 0.5119 - val_loss: 1.3140 - val_accuracy: 0.4575\n",
      "Epoch 11/30\n",
      "61/61 [==============================] - 1s 17ms/step - loss: 1.2088 - accuracy: 0.5135 - val_loss: 1.2856 - val_accuracy: 0.4553\n",
      "Epoch 12/30\n",
      "61/61 [==============================] - 1s 18ms/step - loss: 1.2061 - accuracy: 0.5135 - val_loss: 1.2883 - val_accuracy: 0.4545\n",
      "Epoch 13/30\n",
      "61/61 [==============================] - 1s 18ms/step - loss: 1.2039 - accuracy: 0.5130 - val_loss: 1.2916 - val_accuracy: 0.4523\n",
      "Epoch 14/30\n",
      "61/61 [==============================] - 1s 17ms/step - loss: 1.2022 - accuracy: 0.5135 - val_loss: 1.2873 - val_accuracy: 0.4487\n",
      "Epoch 15/30\n",
      "61/61 [==============================] - 1s 18ms/step - loss: 1.1981 - accuracy: 0.5127 - val_loss: 1.2982 - val_accuracy: 0.4545\n",
      "Epoch 16/30\n",
      "61/61 [==============================] - 1s 17ms/step - loss: 1.1962 - accuracy: 0.5147 - val_loss: 1.2986 - val_accuracy: 0.4487\n",
      "Epoch 17/30\n",
      "61/61 [==============================] - 1s 18ms/step - loss: 1.1918 - accuracy: 0.5158 - val_loss: 1.3001 - val_accuracy: 0.4545\n",
      "Epoch 18/30\n",
      "61/61 [==============================] - 1s 18ms/step - loss: 1.1883 - accuracy: 0.5173 - val_loss: 1.3144 - val_accuracy: 0.4509\n",
      "Epoch 19/30\n",
      "61/61 [==============================] - 1s 18ms/step - loss: 1.1847 - accuracy: 0.5168 - val_loss: 1.3053 - val_accuracy: 0.4553\n",
      "Epoch 20/30\n",
      "61/61 [==============================] - 1s 17ms/step - loss: 1.1818 - accuracy: 0.5165 - val_loss: 1.3363 - val_accuracy: 0.4545\n",
      "Epoch 21/30\n",
      "61/61 [==============================] - 1s 18ms/step - loss: 1.1791 - accuracy: 0.5168 - val_loss: 1.3234 - val_accuracy: 0.4567\n",
      "Epoch 22/30\n",
      "61/61 [==============================] - 1s 17ms/step - loss: 1.1752 - accuracy: 0.5222 - val_loss: 1.3139 - val_accuracy: 0.4538\n",
      "Epoch 23/30\n",
      "61/61 [==============================] - 1s 17ms/step - loss: 1.1725 - accuracy: 0.5181 - val_loss: 1.3219 - val_accuracy: 0.4501\n",
      "Epoch 24/30\n",
      "61/61 [==============================] - 1s 17ms/step - loss: 1.1689 - accuracy: 0.5212 - val_loss: 1.3357 - val_accuracy: 0.4545\n",
      "Epoch 25/30\n",
      "61/61 [==============================] - 1s 18ms/step - loss: 1.1626 - accuracy: 0.5206 - val_loss: 1.3211 - val_accuracy: 0.4465\n",
      "Epoch 26/30\n",
      "61/61 [==============================] - 1s 18ms/step - loss: 1.1595 - accuracy: 0.5253 - val_loss: 1.3352 - val_accuracy: 0.4523\n",
      "Epoch 27/30\n",
      "61/61 [==============================] - 1s 18ms/step - loss: 1.1534 - accuracy: 0.5273 - val_loss: 1.3549 - val_accuracy: 0.4501\n",
      "Epoch 28/30\n",
      "61/61 [==============================] - 1s 18ms/step - loss: 1.1497 - accuracy: 0.5314 - val_loss: 1.3347 - val_accuracy: 0.4487\n",
      "Epoch 29/30\n",
      "61/61 [==============================] - 1s 17ms/step - loss: 1.1440 - accuracy: 0.5276 - val_loss: 1.3487 - val_accuracy: 0.4516\n",
      "Epoch 30/30\n",
      "61/61 [==============================] - 1s 17ms/step - loss: 1.1395 - accuracy: 0.5371 - val_loss: 1.3389 - val_accuracy: 0.4355\n"
     ]
    }
   ]
  },
  {
   "cell_type": "markdown",
   "source": [
    "### it seems that a sequential model is performing a littel better than the CNN on images which means that the textual data has more clear bonds and patterns than images \n",
    "\n",
    "1.   I will Add more layers to the model to improve its power \n",
    "2.   I will use the EarlyStop callback to stop training the model as soon the accuracy stalls, and modelcheckpoint callbacks to save the best version of the model as I did in the CNN training  section .\n",
    "\n"
   ],
   "metadata": {
    "id": "UPUmUSp6D4Po"
   }
  },
  {
   "cell_type": "code",
   "source": [
    "#definig a new model with more layers \n",
    "model_t_1 = keras.Sequential([\n",
    "    layers.Dense(128,activation=\"relu\"),\n",
    "    layers.Dense(128,activation=\"relu\"),\n",
    "    layers.Dense(256,activation=\"relu\"),\n",
    "    layers.Dense(512,activation=\"relu\"),\n",
    "    layers.Dense(5,activation=\"softmax\")\n",
    "])\n",
    "model_t_1.compile(optimizer=\"rmsprop\",loss=\"categorical_crossentropy\",metrics=[\"accuracy\"])"
   ],
   "metadata": {
    "id": "-l4STPmiD3Gq"
   },
   "execution_count": 39,
   "outputs": []
  },
  {
   "cell_type": "code",
   "source": [
    "callback_list = [keras.callbacks.EarlyStopping(monitor=\"val_accuracy\",patience=2),\n",
    "                 keras.callbacks.ModelCheckpoint(filepath=\"checkpoint_text_model.keras\",monitor=\"val_accuracy\",save_best_only=True)]\n",
    "history = model_t_1.fit(x_train,y_train,epochs=30,batch_size=64,validation_data=(x_val,y_val),callbacks=callback_list)"
   ],
   "metadata": {
    "colab": {
     "base_uri": "https://localhost:8080/"
    },
    "id": "aflKr0quFSiE",
    "outputId": "0d6c1ac0-8877-4613-b775-fe3392a00cf7"
   },
   "execution_count": 40,
   "outputs": [
    {
     "output_type": "stream",
     "name": "stdout",
     "text": [
      "Epoch 1/30\n",
      "61/61 [==============================] - 2s 28ms/step - loss: 1.2617 - accuracy: 0.5058 - val_loss: 1.2833 - val_accuracy: 0.4575\n",
      "Epoch 2/30\n",
      "61/61 [==============================] - 1s 18ms/step - loss: 1.2369 - accuracy: 0.5127 - val_loss: 1.2829 - val_accuracy: 0.4575\n",
      "Epoch 3/30\n",
      "61/61 [==============================] - 1s 18ms/step - loss: 1.2316 - accuracy: 0.5127 - val_loss: 1.2714 - val_accuracy: 0.4575\n"
     ]
    }
   ]
  },
  {
   "cell_type": "markdown",
   "source": [
    "### it seems that text alone wont pass the 50% accuracy ,I will now use a model with multi inputs by combining the CNN and the sequential models with the help of the functional API "
   ],
   "metadata": {
    "id": "SkYu59N4HAEo"
   }
  },
  {
   "cell_type": "code",
   "source": [
    "input_text = keras.Input(shape=(dimension,))\n",
    "input_images = keras.Input(shape=(300,300,3))\n",
    "\n",
    "#defining the model that will process text\n",
    "x = layers.Dense(64,activation=\"relu\")(input_text)\n",
    "x = layers.Dense(128,activation=\"relu\")(x)\n",
    "x = layers.Dense(256,activation = \"relu\")(x)\n",
    "outputs = layers.Dense(28,activation = \"relu\")(x)   #intermediate layer to use it for concatination \n",
    "model_text = keras.Model(inputs = input_text,outputs = outputs)\n",
    "\n",
    "#defining the model that will process images I will use the same model as before but with changing the layer that becomes after Flatten\n",
    "y = layers.Rescaling(1./255)(input_images)                                      # rescaling inputs by deviding each pixel by 255\n",
    "y = layers.Conv2D(filters = 32,kernel_size=3,activation=\"relu\")(y)\n",
    "y = layers.MaxPooling2D(pool_size=2)(y)                                   #downsampling the input ,deviding the input shape by 2 and pooling the max value by a 2*2 window\n",
    "y = layers.Conv2D(filters = 64,kernel_size = 3,activation = \"relu\")(y)\n",
    "y = layers.MaxPooling2D(pool_size = 2)(y)\n",
    "y = layers.Conv2D(filters=128,kernel_size = 3,activation =\"relu\" )(y)\n",
    "y = layers.MaxPooling2D(pool_size = 2)(y)\n",
    "y = layers.Conv2D(filters=256,kernel_size = 3,activation =\"relu\" )(y)\n",
    "y = layers.MaxPooling2D(pool_size = 2)(y)\n",
    "y = layers.Conv2D(filters=256,kernel_size = 3,activation =\"relu\" )(y)\n",
    "y = layers.Flatten()(y)\n",
    "\n",
    "outputs_2 = layers.Dense(28,activation = \"relu\")(y)\n",
    "model_images = keras.Model(inputs = input_images,outputs = outputs_2 )\n",
    "\n",
    "# concatination both model outputs \n",
    "features = layers.concatenate([model_images.output,model_text.output])\n",
    " \n",
    "# we finish by adding the classification layer \n",
    "outputs_3 = layers.Dense(5,activation=\"softmax\")(features)\n",
    "\n",
    "final_model = keras.Model(inputs = [input_images,input_text],outputs =outputs_3 )\n",
    "\n",
    "\n"
   ],
   "metadata": {
    "id": "FyLfcoh8HlyM"
   },
   "execution_count": 41,
   "outputs": []
  },
  {
   "cell_type": "code",
   "source": [
    "#lets check our model and plot it using the plot_model functionality\n",
    "keras.utils.plot_model(final_model)"
   ],
   "metadata": {
    "colab": {
     "base_uri": "https://localhost:8080/",
     "height": 1000
    },
    "id": "EMggs7N9OmaY",
    "outputId": "d4082f6e-8684-4eb4-bde1-64a32098a9d3"
   },
   "execution_count": 42,
   "outputs": [
    {
     "output_type": "execute_result",
     "data": {
      "image/png": "[encoded data removed]",
      "text/plain": [
       "<IPython.core.display.Image object>"
      ]
     },
     "metadata": {},
     "execution_count": 42
    }
   ]
  },
  {
   "cell_type": "code",
   "source": [
    "#let us compile and fit the new model \n",
    "\n",
    "\n",
    "final_model.compile(optimizer=\"rmsprop\",loss=\"sparse_categorical_crossentropy\",metrics=[\"accuracy\"])\n",
    "history = final_model.fit({\"input_images\":train_dataset,\"input_text\":x_train},epochs= 10)\n"
   ],
   "metadata": {
    "colab": {
     "base_uri": "https://localhost:8080/",
     "height": 365
    },
    "id": "Me30L7xcO9IU",
    "outputId": "71222baa-9852-4fcb-f7be-f32bd8f40507"
   },
   "execution_count": 46,
   "outputs": [
    {
     "output_type": "error",
     "ename": "ValueError",
     "evalue": "ignored",
     "traceback": [
      "\u001B[0;31m---------------------------------------------------------------------------\u001B[0m",
      "\u001B[0;31mValueError\u001B[0m                                Traceback (most recent call last)",
      "\u001B[0;32m<ipython-input-46-3ebf30d895a4>\u001B[0m in \u001B[0;36m<module>\u001B[0;34m\u001B[0m\n\u001B[1;32m      3\u001B[0m \u001B[0;34m\u001B[0m\u001B[0m\n\u001B[1;32m      4\u001B[0m \u001B[0mfinal_model\u001B[0m\u001B[0;34m.\u001B[0m\u001B[0mcompile\u001B[0m\u001B[0;34m(\u001B[0m\u001B[0moptimizer\u001B[0m\u001B[0;34m=\u001B[0m\u001B[0;34m\"rmsprop\"\u001B[0m\u001B[0;34m,\u001B[0m\u001B[0mloss\u001B[0m\u001B[0;34m=\u001B[0m\u001B[0;34m\"sparse_categorical_crossentropy\"\u001B[0m\u001B[0;34m,\u001B[0m\u001B[0mmetrics\u001B[0m\u001B[0;34m=\u001B[0m\u001B[0;34m[\u001B[0m\u001B[0;34m\"accuracy\"\u001B[0m\u001B[0;34m]\u001B[0m\u001B[0;34m)\u001B[0m\u001B[0;34m\u001B[0m\u001B[0;34m\u001B[0m\u001B[0m\n\u001B[0;32m----> 5\u001B[0;31m \u001B[0mhistory\u001B[0m \u001B[0;34m=\u001B[0m \u001B[0mfinal_model\u001B[0m\u001B[0;34m.\u001B[0m\u001B[0mfit\u001B[0m\u001B[0;34m(\u001B[0m\u001B[0;34m{\u001B[0m\u001B[0;34m\"input_images\"\u001B[0m\u001B[0;34m:\u001B[0m\u001B[0mtrain_dataset\u001B[0m\u001B[0;34m,\u001B[0m\u001B[0;34m\"input_text\"\u001B[0m\u001B[0;34m:\u001B[0m\u001B[0mx_train\u001B[0m\u001B[0;34m}\u001B[0m\u001B[0;34m,\u001B[0m\u001B[0mepochs\u001B[0m\u001B[0;34m=\u001B[0m \u001B[0;36m10\u001B[0m\u001B[0;34m)\u001B[0m\u001B[0;34m\u001B[0m\u001B[0;34m\u001B[0m\u001B[0m\n\u001B[0m",
      "\u001B[0;32m/usr/local/lib/python3.8/dist-packages/keras/utils/traceback_utils.py\u001B[0m in \u001B[0;36merror_handler\u001B[0;34m(*args, **kwargs)\u001B[0m\n\u001B[1;32m     65\u001B[0m     \u001B[0;32mexcept\u001B[0m \u001B[0mException\u001B[0m \u001B[0;32mas\u001B[0m \u001B[0me\u001B[0m\u001B[0;34m:\u001B[0m  \u001B[0;31m# pylint: disable=broad-except\u001B[0m\u001B[0;34m\u001B[0m\u001B[0;34m\u001B[0m\u001B[0m\n\u001B[1;32m     66\u001B[0m       \u001B[0mfiltered_tb\u001B[0m \u001B[0;34m=\u001B[0m \u001B[0m_process_traceback_frames\u001B[0m\u001B[0;34m(\u001B[0m\u001B[0me\u001B[0m\u001B[0;34m.\u001B[0m\u001B[0m__traceback__\u001B[0m\u001B[0;34m)\u001B[0m\u001B[0;34m\u001B[0m\u001B[0;34m\u001B[0m\u001B[0m\n\u001B[0;32m---> 67\u001B[0;31m       \u001B[0;32mraise\u001B[0m \u001B[0me\u001B[0m\u001B[0;34m.\u001B[0m\u001B[0mwith_traceback\u001B[0m\u001B[0;34m(\u001B[0m\u001B[0mfiltered_tb\u001B[0m\u001B[0;34m)\u001B[0m \u001B[0;32mfrom\u001B[0m \u001B[0;32mNone\u001B[0m\u001B[0;34m\u001B[0m\u001B[0;34m\u001B[0m\u001B[0m\n\u001B[0m\u001B[1;32m     68\u001B[0m     \u001B[0;32mfinally\u001B[0m\u001B[0;34m:\u001B[0m\u001B[0;34m\u001B[0m\u001B[0;34m\u001B[0m\u001B[0m\n\u001B[1;32m     69\u001B[0m       \u001B[0;32mdel\u001B[0m \u001B[0mfiltered_tb\u001B[0m\u001B[0;34m\u001B[0m\u001B[0;34m\u001B[0m\u001B[0m\n",
      "\u001B[0;32m/usr/local/lib/python3.8/dist-packages/keras/engine/data_adapter.py\u001B[0m in \u001B[0;36mselect_data_adapter\u001B[0;34m(x, y)\u001B[0m\n\u001B[1;32m    983\u001B[0m   \u001B[0;32mif\u001B[0m \u001B[0;32mnot\u001B[0m \u001B[0madapter_cls\u001B[0m\u001B[0;34m:\u001B[0m\u001B[0;34m\u001B[0m\u001B[0;34m\u001B[0m\u001B[0m\n\u001B[1;32m    984\u001B[0m     \u001B[0;31m# TODO(scottzhu): This should be a less implementation-specific error.\u001B[0m\u001B[0;34m\u001B[0m\u001B[0;34m\u001B[0m\u001B[0;34m\u001B[0m\u001B[0m\n\u001B[0;32m--> 985\u001B[0;31m     raise ValueError(\n\u001B[0m\u001B[1;32m    986\u001B[0m         \u001B[0;34m\"Failed to find data adapter that can handle \"\u001B[0m\u001B[0;34m\u001B[0m\u001B[0;34m\u001B[0m\u001B[0m\n\u001B[1;32m    987\u001B[0m         \"input: {}, {}\".format(\n",
      "\u001B[0;31mValueError\u001B[0m: Failed to find data adapter that can handle input: (<class 'dict'> containing {\"<class 'str'>\"} keys and {\"<class 'tensorflow.python.data.ops.dataset_ops.BatchDataset'>\", \"<class 'numpy.ndarray'>\"} values), <class 'NoneType'>"
     ]
    }
   ]
  },
  {
   "cell_type": "code",
   "source": [
    "### That didn't work becuase the train_dataset object contains the labels and the labels for the text model are not coherent with images \n",
    "### I need more time to deal with it but I will skip it becuase there is no time left for the report and to push the notebook "
   ],
   "metadata": {
    "id": "AdoKY8LJYY8m"
   },
   "execution_count": 47,
   "outputs": []
  },
  {
   "cell_type": "code",
   "source": [
    "# there is no improvments at all I will try to use a pretrained model \n",
    "#I will load the VGG16 which is a model trained on the Imagnet dataset that contains 1000 classes so what I need to do is remove the clsiffication layer \n",
    "#Frezz the model base weights and retrain the model on my images ,luckilly I can only load the Base by setting te include top to False\n",
    "new_model_base = keras.applications.vgg16.VGG16(weights=\"imagenet\",include_top=False,input_shape=(300, 300, 3))\n",
    "\n"
   ],
   "metadata": {
    "id": "oIFsdPPRrc_-"
   },
   "execution_count": 48,
   "outputs": []
  },
  {
   "cell_type": "code",
   "source": [
    "new_model_base.summary()"
   ],
   "metadata": {
    "colab": {
     "base_uri": "https://localhost:8080/"
    },
    "id": "UZvtJhx1v124",
    "outputId": "6b5e216b-ed66-4250-f743-906265018975"
   },
   "execution_count": 38,
   "outputs": [
    {
     "output_type": "stream",
     "name": "stdout",
     "text": [
      "Model: \"vgg16\"\n",
      "_________________________________________________________________\n",
      " Layer (type)                Output Shape              Param #   \n",
      "=================================================================\n",
      " input_2 (InputLayer)        [(None, 300, 300, 3)]     0         \n",
      "                                                                 \n",
      " block1_conv1 (Conv2D)       (None, 300, 300, 64)      1792      \n",
      "                                                                 \n",
      " block1_conv2 (Conv2D)       (None, 300, 300, 64)      36928     \n",
      "                                                                 \n",
      " block1_pool (MaxPooling2D)  (None, 150, 150, 64)      0         \n",
      "                                                                 \n",
      " block2_conv1 (Conv2D)       (None, 150, 150, 128)     73856     \n",
      "                                                                 \n",
      " block2_conv2 (Conv2D)       (None, 150, 150, 128)     147584    \n",
      "                                                                 \n",
      " block2_pool (MaxPooling2D)  (None, 75, 75, 128)       0         \n",
      "                                                                 \n",
      " block3_conv1 (Conv2D)       (None, 75, 75, 256)       295168    \n",
      "                                                                 \n",
      " block3_conv2 (Conv2D)       (None, 75, 75, 256)       590080    \n",
      "                                                                 \n",
      " block3_conv3 (Conv2D)       (None, 75, 75, 256)       590080    \n",
      "                                                                 \n",
      " block3_pool (MaxPooling2D)  (None, 37, 37, 256)       0         \n",
      "                                                                 \n",
      " block4_conv1 (Conv2D)       (None, 37, 37, 512)       1180160   \n",
      "                                                                 \n",
      " block4_conv2 (Conv2D)       (None, 37, 37, 512)       2359808   \n",
      "                                                                 \n",
      " block4_conv3 (Conv2D)       (None, 37, 37, 512)       2359808   \n",
      "                                                                 \n",
      " block4_pool (MaxPooling2D)  (None, 18, 18, 512)       0         \n",
      "                                                                 \n",
      " block5_conv1 (Conv2D)       (None, 18, 18, 512)       2359808   \n",
      "                                                                 \n",
      " block5_conv2 (Conv2D)       (None, 18, 18, 512)       2359808   \n",
      "                                                                 \n",
      " block5_conv3 (Conv2D)       (None, 18, 18, 512)       2359808   \n",
      "                                                                 \n",
      " block5_pool (MaxPooling2D)  (None, 9, 9, 512)         0         \n",
      "                                                                 \n",
      "=================================================================\n",
      "Total params: 14,714,688\n",
      "Trainable params: 14,714,688\n",
      "Non-trainable params: 0\n",
      "_________________________________________________________________\n"
     ]
    }
   ]
  },
  {
   "cell_type": "markdown",
   "source": [
    "### After importing the base model ,we can use its weights and runs it through our dataset ,record the outputs of the process and then use them as an input to another classifier this exactly equivalent to freezing model weights ,adding a densly classification layer to it and fitting it to our data what will happend is the base will output a prediction and the training will be held only on the classification layer "
   ],
   "metadata": {
    "id": "mBig7zwWao0A"
   }
  },
  {
   "cell_type": "code",
   "source": [
    "def get_features_and_labels(dataset):\n",
    "    \"\"\" This functions runs a prediction over our dataset and record the predicted values in numpy array\"\"\"\n",
    "    all_features = []\n",
    "    all_labels = []\n",
    "    for images, labels in dataset:\n",
    "        preprocessed_images = keras.applications.vgg16.preprocess_input(images)   #Preprocessing images which include normalization \n",
    "        features = new_model_base.predict(preprocessed_images)                    #predict using the pretrained model base \n",
    "        all_features.append(features)\n",
    "        all_labels.append(labels)\n",
    "    return np.concatenate(all_features), np.concatenate(all_labels)\n",
    "\n",
    "\n"
   ],
   "metadata": {
    "id": "yHwA_GFcwFRC"
   },
   "execution_count": 49,
   "outputs": []
  },
  {
   "cell_type": "code",
   "source": [
    "train_features, train_labels = get_features_and_labels(train_dataset)\n",
    "val_features, val_labels = get_features_and_labels(validation_dataset)"
   ],
   "metadata": {
    "colab": {
     "base_uri": "https://localhost:8080/"
    },
    "id": "ajDvIKIGwycR",
    "outputId": "4e462254-f53c-471f-a5d1-ba9019442ad8"
   },
   "execution_count": 51,
   "outputs": [
    {
     "output_type": "stream",
     "name": "stdout",
     "text": [
      "1/1 [==============================] - 0s 51ms/step\n",
      "1/1 [==============================] - 0s 36ms/step\n",
      "1/1 [==============================] - 0s 50ms/step\n",
      "1/1 [==============================] - 0s 78ms/step\n",
      "1/1 [==============================] - 0s 68ms/step\n",
      "1/1 [==============================] - 0s 58ms/step\n",
      "1/1 [==============================] - 0s 84ms/step\n",
      "1/1 [==============================] - 0s 85ms/step\n",
      "1/1 [==============================] - 0s 58ms/step\n",
      "1/1 [==============================] - 0s 43ms/step\n",
      "1/1 [==============================] - 0s 47ms/step\n",
      "1/1 [==============================] - 0s 85ms/step\n",
      "1/1 [==============================] - 0s 55ms/step\n",
      "1/1 [==============================] - 0s 45ms/step\n",
      "1/1 [==============================] - 0s 43ms/step\n",
      "1/1 [==============================] - 0s 54ms/step\n",
      "1/1 [==============================] - 0s 84ms/step\n",
      "1/1 [==============================] - 0s 80ms/step\n",
      "1/1 [==============================] - 0s 66ms/step\n",
      "1/1 [==============================] - 0s 63ms/step\n",
      "1/1 [==============================] - 0s 45ms/step\n",
      "1/1 [==============================] - 0s 38ms/step\n",
      "1/1 [==============================] - 0s 51ms/step\n",
      "1/1 [==============================] - 0s 46ms/step\n",
      "1/1 [==============================] - 0s 53ms/step\n",
      "1/1 [==============================] - 0s 48ms/step\n",
      "1/1 [==============================] - 0s 48ms/step\n",
      "1/1 [==============================] - 0s 55ms/step\n",
      "1/1 [==============================] - 0s 66ms/step\n",
      "1/1 [==============================] - 0s 57ms/step\n",
      "1/1 [==============================] - 0s 72ms/step\n",
      "1/1 [==============================] - 0s 53ms/step\n",
      "1/1 [==============================] - 0s 44ms/step\n",
      "1/1 [==============================] - 0s 55ms/step\n",
      "1/1 [==============================] - 0s 45ms/step\n",
      "1/1 [==============================] - 0s 47ms/step\n",
      "1/1 [==============================] - 0s 48ms/step\n",
      "1/1 [==============================] - 0s 43ms/step\n",
      "1/1 [==============================] - 0s 49ms/step\n",
      "1/1 [==============================] - 0s 44ms/step\n",
      "1/1 [==============================] - 0s 47ms/step\n",
      "1/1 [==============================] - 0s 50ms/step\n",
      "1/1 [==============================] - 0s 61ms/step\n",
      "1/1 [==============================] - 0s 69ms/step\n",
      "1/1 [==============================] - 0s 87ms/step\n",
      "1/1 [==============================] - 0s 57ms/step\n",
      "1/1 [==============================] - 0s 52ms/step\n",
      "1/1 [==============================] - 0s 43ms/step\n",
      "1/1 [==============================] - 0s 52ms/step\n",
      "1/1 [==============================] - 0s 47ms/step\n",
      "1/1 [==============================] - 0s 48ms/step\n",
      "1/1 [==============================] - 0s 72ms/step\n",
      "1/1 [==============================] - 0s 50ms/step\n",
      "1/1 [==============================] - 0s 59ms/step\n",
      "1/1 [==============================] - 0s 52ms/step\n",
      "1/1 [==============================] - 0s 63ms/step\n",
      "1/1 [==============================] - 0s 55ms/step\n",
      "1/1 [==============================] - 0s 52ms/step\n",
      "1/1 [==============================] - 0s 46ms/step\n",
      "1/1 [==============================] - 0s 48ms/step\n",
      "1/1 [==============================] - 0s 57ms/step\n",
      "1/1 [==============================] - 0s 44ms/step\n",
      "1/1 [==============================] - 0s 57ms/step\n",
      "1/1 [==============================] - 0s 44ms/step\n",
      "1/1 [==============================] - 0s 45ms/step\n",
      "1/1 [==============================] - 0s 47ms/step\n",
      "1/1 [==============================] - 0s 64ms/step\n",
      "1/1 [==============================] - 0s 61ms/step\n",
      "1/1 [==============================] - 0s 103ms/step\n",
      "1/1 [==============================] - 0s 56ms/step\n",
      "1/1 [==============================] - 0s 44ms/step\n",
      "1/1 [==============================] - 0s 145ms/step\n",
      "1/1 [==============================] - 0s 83ms/step\n",
      "1/1 [==============================] - 0s 49ms/step\n",
      "1/1 [==============================] - 0s 43ms/step\n",
      "1/1 [==============================] - 0s 55ms/step\n",
      "1/1 [==============================] - 0s 71ms/step\n",
      "1/1 [==============================] - 0s 88ms/step\n",
      "1/1 [==============================] - 0s 41ms/step\n",
      "1/1 [==============================] - 0s 44ms/step\n",
      "1/1 [==============================] - 0s 62ms/step\n",
      "1/1 [==============================] - 0s 123ms/step\n",
      "1/1 [==============================] - 0s 45ms/step\n",
      "1/1 [==============================] - 0s 56ms/step\n",
      "1/1 [==============================] - 0s 53ms/step\n",
      "1/1 [==============================] - 0s 56ms/step\n",
      "1/1 [==============================] - 0s 63ms/step\n",
      "1/1 [==============================] - 0s 47ms/step\n",
      "1/1 [==============================] - 0s 83ms/step\n",
      "1/1 [==============================] - 0s 73ms/step\n",
      "1/1 [==============================] - 0s 53ms/step\n",
      "1/1 [==============================] - 0s 107ms/step\n",
      "1/1 [==============================] - 0s 60ms/step\n",
      "1/1 [==============================] - 0s 63ms/step\n",
      "1/1 [==============================] - 0s 119ms/step\n",
      "1/1 [==============================] - 0s 87ms/step\n",
      "1/1 [==============================] - 0s 55ms/step\n",
      "1/1 [==============================] - 0s 60ms/step\n",
      "1/1 [==============================] - 0s 47ms/step\n",
      "1/1 [==============================] - 0s 82ms/step\n",
      "1/1 [==============================] - 0s 78ms/step\n",
      "1/1 [==============================] - 0s 51ms/step\n",
      "1/1 [==============================] - 0s 55ms/step\n",
      "1/1 [==============================] - 0s 92ms/step\n",
      "1/1 [==============================] - 0s 60ms/step\n",
      "1/1 [==============================] - 0s 73ms/step\n",
      "1/1 [==============================] - 0s 48ms/step\n",
      "1/1 [==============================] - 0s 51ms/step\n",
      "1/1 [==============================] - 0s 49ms/step\n",
      "1/1 [==============================] - 0s 45ms/step\n",
      "1/1 [==============================] - 0s 54ms/step\n",
      "1/1 [==============================] - 0s 40ms/step\n",
      "1/1 [==============================] - 0s 41ms/step\n",
      "1/1 [==============================] - 0s 55ms/step\n",
      "1/1 [==============================] - 0s 38ms/step\n",
      "1/1 [==============================] - 0s 37ms/step\n",
      "1/1 [==============================] - 0s 52ms/step\n",
      "1/1 [==============================] - 0s 52ms/step\n",
      "1/1 [==============================] - 0s 38ms/step\n",
      "1/1 [==============================] - 0s 37ms/step\n",
      "1/1 [==============================] - 0s 57ms/step\n",
      "1/1 [==============================] - 0s 39ms/step\n",
      "1/1 [==============================] - 0s 54ms/step\n",
      "1/1 [==============================] - 0s 39ms/step\n",
      "1/1 [==============================] - 0s 44ms/step\n",
      "1/1 [==============================] - 0s 55ms/step\n",
      "1/1 [==============================] - 0s 48ms/step\n",
      "1/1 [==============================] - 0s 50ms/step\n",
      "1/1 [==============================] - 0s 55ms/step\n",
      "1/1 [==============================] - 0s 48ms/step\n",
      "1/1 [==============================] - 0s 44ms/step\n",
      "1/1 [==============================] - 0s 45ms/step\n",
      "1/1 [==============================] - 0s 77ms/step\n",
      "1/1 [==============================] - 0s 61ms/step\n",
      "1/1 [==============================] - 0s 52ms/step\n",
      "1/1 [==============================] - 0s 56ms/step\n",
      "1/1 [==============================] - 0s 43ms/step\n",
      "1/1 [==============================] - 0s 50ms/step\n",
      "1/1 [==============================] - 0s 99ms/step\n",
      "1/1 [==============================] - 0s 50ms/step\n",
      "1/1 [==============================] - 0s 47ms/step\n",
      "1/1 [==============================] - 0s 110ms/step\n",
      "1/1 [==============================] - 0s 60ms/step\n",
      "1/1 [==============================] - 0s 61ms/step\n",
      "1/1 [==============================] - 0s 46ms/step\n",
      "1/1 [==============================] - 0s 73ms/step\n",
      "1/1 [==============================] - 0s 62ms/step\n",
      "1/1 [==============================] - 0s 163ms/step\n",
      "1/1 [==============================] - 0s 98ms/step\n",
      "1/1 [==============================] - 0s 62ms/step\n",
      "1/1 [==============================] - 0s 44ms/step\n",
      "1/1 [==============================] - 0s 58ms/step\n",
      "1/1 [==============================] - 0s 46ms/step\n",
      "1/1 [==============================] - 0s 88ms/step\n",
      "1/1 [==============================] - 0s 135ms/step\n",
      "1/1 [==============================] - 0s 94ms/step\n",
      "1/1 [==============================] - 0s 40ms/step\n",
      "1/1 [==============================] - 0s 48ms/step\n",
      "1/1 [==============================] - 0s 38ms/step\n",
      "1/1 [==============================] - 0s 38ms/step\n",
      "1/1 [==============================] - 0s 118ms/step\n",
      "1/1 [==============================] - 0s 43ms/step\n",
      "1/1 [==============================] - 0s 42ms/step\n",
      "1/1 [==============================] - 0s 38ms/step\n",
      "1/1 [==============================] - 0s 35ms/step\n"
     ]
    }
   ]
  },
  {
   "cell_type": "code",
   "source": [
    "#lets check the shape of our train_features so we can know what is the shape of data that will be fed to the classifier\n",
    "train_features.shape"
   ],
   "metadata": {
    "id": "OC2uhd3OmN13",
    "colab": {
     "base_uri": "https://localhost:8080/"
    },
    "outputId": "694da56a-f8da-4cc5-ab43-c06f4c17dcf8"
   },
   "execution_count": 52,
   "outputs": [
    {
     "output_type": "execute_result",
     "data": {
      "text/plain": [
       "(3899, 9, 9, 512)"
      ]
     },
     "metadata": {},
     "execution_count": 52
    }
   ]
  },
  {
   "cell_type": "markdown",
   "source": [
    "## We can now define our  densly connected classifier"
   ],
   "metadata": {
    "id": "UReGXsc6e7Es"
   }
  },
  {
   "cell_type": "code",
   "source": [
    "inputs = keras.Input(shape=(9,9,512)) #the input layer\n",
    "x = layers.Flatten()(inputs)\n",
    "x = layers.Dense(256,activation = \"relu\")(x)\n",
    "outputs = layers.Dense(5,activation =\"sigmoid\")(x)\n",
    "\n",
    "pretrained_model = keras.Model(inputs = inputs,outputs = outputs)\n"
   ],
   "metadata": {
    "id": "LWKbRQwqezp5"
   },
   "execution_count": 55,
   "outputs": []
  },
  {
   "cell_type": "code",
   "source": [
    "# complile and fit \n",
    "pretrained_model.compile(optimizer=\"rmsprop\",loss=\"sparse_categorical_crossentropy\",metrics=[\"accuracy\"])\n",
    "history = pretrained_model.fit(train_features,train_labels,epochs=20,batch_size=128,validation_data=(val_features,val_labels))"
   ],
   "metadata": {
    "colab": {
     "base_uri": "https://localhost:8080/"
    },
    "id": "xlg4eMMugGTI",
    "outputId": "249ca420-e0e7-4f9c-b4ac-f88e61895ac9"
   },
   "execution_count": 61,
   "outputs": [
    {
     "output_type": "stream",
     "name": "stdout",
     "text": [
      "Epoch 1/20\n",
      "31/31 [==============================] - 2s 37ms/step - loss: 0.5228 - accuracy: 0.9533 - val_loss: 7.4168 - val_accuracy: 0.3497\n",
      "Epoch 2/20\n",
      "31/31 [==============================] - 1s 23ms/step - loss: 0.0800 - accuracy: 0.9903 - val_loss: 7.9056 - val_accuracy: 0.3775\n",
      "Epoch 3/20\n",
      "31/31 [==============================] - 1s 23ms/step - loss: 0.0624 - accuracy: 0.9910 - val_loss: 8.1172 - val_accuracy: 0.3972\n",
      "Epoch 4/20\n",
      "31/31 [==============================] - 1s 23ms/step - loss: 0.0601 - accuracy: 0.9920 - val_loss: 8.6070 - val_accuracy: 0.4045\n",
      "Epoch 5/20\n",
      "31/31 [==============================] - 1s 23ms/step - loss: 0.0411 - accuracy: 0.9920 - val_loss: 8.2970 - val_accuracy: 0.3753\n",
      "Epoch 6/20\n",
      "31/31 [==============================] - 1s 23ms/step - loss: 0.0272 - accuracy: 0.9936 - val_loss: 9.3496 - val_accuracy: 0.3555\n",
      "Epoch 7/20\n",
      "31/31 [==============================] - 1s 23ms/step - loss: 0.0451 - accuracy: 0.9908 - val_loss: 8.8914 - val_accuracy: 0.3819\n",
      "Epoch 8/20\n",
      "31/31 [==============================] - 1s 22ms/step - loss: 0.0366 - accuracy: 0.9951 - val_loss: 8.7725 - val_accuracy: 0.3936\n",
      "Epoch 9/20\n",
      "31/31 [==============================] - 1s 23ms/step - loss: 0.0216 - accuracy: 0.9956 - val_loss: 9.3765 - val_accuracy: 0.3782\n",
      "Epoch 10/20\n",
      "31/31 [==============================] - 1s 22ms/step - loss: 0.0174 - accuracy: 0.9956 - val_loss: 9.7562 - val_accuracy: 0.3599\n",
      "Epoch 11/20\n",
      "31/31 [==============================] - 1s 22ms/step - loss: 0.0285 - accuracy: 0.9941 - val_loss: 8.9075 - val_accuracy: 0.3738\n",
      "Epoch 12/20\n",
      "31/31 [==============================] - 1s 23ms/step - loss: 0.0323 - accuracy: 0.9944 - val_loss: 9.2716 - val_accuracy: 0.3665\n",
      "Epoch 13/20\n",
      "31/31 [==============================] - 1s 23ms/step - loss: 0.0756 - accuracy: 0.9923 - val_loss: 9.4400 - val_accuracy: 0.3789\n",
      "Epoch 14/20\n",
      "31/31 [==============================] - 1s 22ms/step - loss: 0.0309 - accuracy: 0.9954 - val_loss: 9.4929 - val_accuracy: 0.3584\n",
      "Epoch 15/20\n",
      "31/31 [==============================] - 1s 22ms/step - loss: 0.0362 - accuracy: 0.9951 - val_loss: 11.6092 - val_accuracy: 0.3950\n",
      "Epoch 16/20\n",
      "31/31 [==============================] - 1s 23ms/step - loss: 0.0208 - accuracy: 0.9936 - val_loss: 10.9205 - val_accuracy: 0.3833\n",
      "Epoch 17/20\n",
      "31/31 [==============================] - 1s 23ms/step - loss: 0.0305 - accuracy: 0.9954 - val_loss: 10.4385 - val_accuracy: 0.3555\n",
      "Epoch 18/20\n",
      "31/31 [==============================] - 1s 22ms/step - loss: 0.0262 - accuracy: 0.9956 - val_loss: 9.9580 - val_accuracy: 0.3833\n",
      "Epoch 19/20\n",
      "31/31 [==============================] - 1s 33ms/step - loss: 0.0124 - accuracy: 0.9956 - val_loss: 9.9963 - val_accuracy: 0.3914\n",
      "Epoch 20/20\n",
      "31/31 [==============================] - 1s 34ms/step - loss: 0.0090 - accuracy: 0.9956 - val_loss: 9.3876 - val_accuracy: 0.3511\n"
     ]
    }
   ]
  },
  {
   "cell_type": "markdown",
   "source": [],
   "metadata": {
    "id": "lVOdyjF0hO2a"
   }
  },
  {
   "cell_type": "code",
   "source": [
    "###it seems that using a pretrained model gave excelent resuts \n",
    "###lets check if the model overfits"
   ],
   "metadata": {
    "id": "-5ucLN8Fg4zx"
   },
   "execution_count": 59,
   "outputs": []
  },
  {
   "cell_type": "code",
   "source": [
    "import matplotlib.pyplot as plt\n",
    "history = history.history\n",
    "train_loss =history[\"loss\"]\n",
    "val_loss = history[\"val_loss\"]\n",
    "epochs = range(1,len(train_loss) + 1)\n",
    "plt.plot(epochs,train_loss,\"bo\",label = \"Train loss\")\n",
    "plt.plot(epochs,val_loss,\"b\",label = \"validation loss\")\n",
    "plt.title(\"Train and Validation Losses\")\n",
    "plt.xlabel(\"Epochs\")\n",
    "plt.ylabel(\"Loss\")\n",
    "plt.legend()\n",
    "plt.show()\n"
   ],
   "metadata": {
    "colab": {
     "base_uri": "https://localhost:8080/",
     "height": 295
    },
    "id": "i0xdjb6FhYQi",
    "outputId": "e92c462d-d4a3-4c47-dc24-67260d1570e3"
   },
   "execution_count": 62,
   "outputs": [
    {
     "output_type": "display_data",
     "data": {
      "text/plain": [
       "<Figure size 432x288 with 1 Axes>"
      ],
      "image/png": "[encoded data removed]"
     },
     "metadata": {
      "needs_background": "light"
     }
    }
   ]
  },
  {
   "cell_type": "markdown",
   "source": [
    "### its very clear that the model deeply overfits\n",
    "### to fight  overfitting we can try to use dropouts by changing the model ,with adding a droput layer before the classification layer"
   ],
   "metadata": {
    "id": "Olqad07Khyt-"
   }
  },
  {
   "cell_type": "code",
   "source": [
    "inputs = keras.Input(shape=(9,9,512)) #the input layer\n",
    "x = layers.Flatten()(inputs)\n",
    "x = layers.Dense(256,activation = \"relu\")(x)\n",
    "x = layers.Dropout(0.5)(x)\n",
    "outputs = layers.Dense(5,activation =\"sigmoid\")(x)\n",
    "\n",
    "pretrained_model = keras.Model(inputs = inputs,outputs = outputs)"
   ],
   "metadata": {
    "id": "rgSMXUsWheIR"
   },
   "execution_count": 63,
   "outputs": []
  },
  {
   "cell_type": "code",
   "source": [
    "# complile and fit \n",
    "pretrained_model.compile(optimizer=\"rmsprop\",loss=\"sparse_categorical_crossentropy\",metrics=[\"accuracy\"])\n",
    "history = pretrained_model.fit(train_features,train_labels,epochs=20,batch_size=128,validation_data=(val_features,val_labels))"
   ],
   "metadata": {
    "colab": {
     "base_uri": "https://localhost:8080/"
    },
    "id": "I7L4O8a9iMBh",
    "outputId": "7aa58c90-97a3-4b20-c6d2-4ea24531c664"
   },
   "execution_count": 64,
   "outputs": [
    {
     "output_type": "stream",
     "name": "stdout",
     "text": [
      "Epoch 1/20\n",
      "31/31 [==============================] - 2s 31ms/step - loss: 39.8326 - accuracy: 0.3827 - val_loss: 1.5722 - val_accuracy: 0.3328\n",
      "Epoch 2/20\n",
      "31/31 [==============================] - 1s 23ms/step - loss: 1.5451 - accuracy: 0.5304 - val_loss: 1.7697 - val_accuracy: 0.4170\n",
      "Epoch 3/20\n",
      "31/31 [==============================] - 1s 23ms/step - loss: 1.6129 - accuracy: 0.5309 - val_loss: 1.6095 - val_accuracy: 0.4016\n",
      "Epoch 4/20\n",
      "31/31 [==============================] - 1s 28ms/step - loss: 1.5746 - accuracy: 0.5348 - val_loss: 1.5009 - val_accuracy: 0.4535\n",
      "Epoch 5/20\n",
      "31/31 [==============================] - 1s 23ms/step - loss: 1.3571 - accuracy: 0.5448 - val_loss: 1.5447 - val_accuracy: 0.4528\n",
      "Epoch 6/20\n",
      "31/31 [==============================] - 1s 22ms/step - loss: 1.2953 - accuracy: 0.5466 - val_loss: 1.7980 - val_accuracy: 0.4192\n",
      "Epoch 7/20\n",
      "31/31 [==============================] - 1s 29ms/step - loss: 1.3215 - accuracy: 0.5663 - val_loss: 1.7334 - val_accuracy: 0.4579\n",
      "Epoch 8/20\n",
      "31/31 [==============================] - 1s 23ms/step - loss: 1.2201 - accuracy: 0.5681 - val_loss: 1.9260 - val_accuracy: 0.4565\n",
      "Epoch 9/20\n",
      "31/31 [==============================] - 1s 22ms/step - loss: 1.1209 - accuracy: 0.5973 - val_loss: 1.8034 - val_accuracy: 0.4206\n",
      "Epoch 10/20\n",
      "31/31 [==============================] - 1s 22ms/step - loss: 1.0267 - accuracy: 0.6122 - val_loss: 1.9915 - val_accuracy: 0.4492\n",
      "Epoch 11/20\n",
      "31/31 [==============================] - 1s 22ms/step - loss: 1.0171 - accuracy: 0.6250 - val_loss: 2.0888 - val_accuracy: 0.4170\n",
      "Epoch 12/20\n",
      "31/31 [==============================] - 1s 21ms/step - loss: 0.9465 - accuracy: 0.6202 - val_loss: 1.9428 - val_accuracy: 0.4367\n",
      "Epoch 13/20\n",
      "31/31 [==============================] - 1s 22ms/step - loss: 0.9191 - accuracy: 0.6425 - val_loss: 1.9857 - val_accuracy: 0.3965\n",
      "Epoch 14/20\n",
      "31/31 [==============================] - 1s 22ms/step - loss: 0.8656 - accuracy: 0.6412 - val_loss: 2.6309 - val_accuracy: 0.4448\n",
      "Epoch 15/20\n",
      "31/31 [==============================] - 1s 23ms/step - loss: 0.9428 - accuracy: 0.6576 - val_loss: 2.6647 - val_accuracy: 0.4279\n",
      "Epoch 16/20\n",
      "31/31 [==============================] - 1s 23ms/step - loss: 0.8106 - accuracy: 0.6591 - val_loss: 2.7530 - val_accuracy: 0.4389\n",
      "Epoch 17/20\n",
      "31/31 [==============================] - 1s 22ms/step - loss: 0.7715 - accuracy: 0.6704 - val_loss: 2.3009 - val_accuracy: 0.4323\n",
      "Epoch 18/20\n",
      "31/31 [==============================] - 1s 22ms/step - loss: 0.7430 - accuracy: 0.6809 - val_loss: 3.2457 - val_accuracy: 0.4492\n",
      "Epoch 19/20\n",
      "31/31 [==============================] - 1s 23ms/step - loss: 0.7740 - accuracy: 0.6732 - val_loss: 3.2577 - val_accuracy: 0.4470\n",
      "Epoch 20/20\n",
      "31/31 [==============================] - 1s 22ms/step - loss: 0.7340 - accuracy: 0.6868 - val_loss: 3.3426 - val_accuracy: 0.4228\n"
     ]
    }
   ]
  },
  {
   "cell_type": "markdown",
   "source": [
    "### we can see that  the validation accuracy is a littel bit better wich means a less overfittiong ,let us remove the intermediate 256 units layers \n",
    "### removing layers or reducing the number of units will make a bottelneck where the model won't be able to overfit "
   ],
   "metadata": {
    "id": "azqGTjRsiWsJ"
   }
  },
  {
   "cell_type": "code",
   "source": [
    "inputs = keras.Input(shape=(9,9,512)) #the input layer\n",
    "x = layers.Flatten()(inputs)\n",
    "#x = layers.Dense(256,activation = \"relu\")(x)            ###remove this layer\n",
    "x = layers.Dropout(0.5)(x)\n",
    "outputs = layers.Dense(5,activation =\"sigmoid\")(x)\n",
    "\n",
    "pretrained_model = keras.Model(inputs = inputs,outputs = outputs)"
   ],
   "metadata": {
    "id": "LNjEvVdTiO-v"
   },
   "execution_count": 67,
   "outputs": []
  },
  {
   "cell_type": "code",
   "source": [
    "# complile and fit \n",
    "pretrained_model.compile(optimizer=\"rmsprop\",loss=\"sparse_categorical_crossentropy\",metrics=[\"accuracy\"])\n",
    "history = pretrained_model.fit(train_features,train_labels,epochs=20,batch_size=128,validation_data=(val_features,val_labels))"
   ],
   "metadata": {
    "id": "fwbLcSuwjD4I"
   },
   "execution_count": null,
   "outputs": []
  },
  {
   "cell_type": "code",
   "source": [],
   "metadata": {
    "id": "ED4kXc1YjEqS"
   },
   "execution_count": null,
   "outputs": []
  }
 ]
}
