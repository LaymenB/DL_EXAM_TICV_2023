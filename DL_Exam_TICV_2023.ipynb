{
  "nbformat": 4,
  "nbformat_minor": 0,
  "metadata": {
    "colab": {
      "provenance": []
    },
    "kernelspec": {
      "name": "python3",
      "display_name": "Python 3"
    },
    "language_info": {
      "name": "python"
    },
    "accelerator": "GPU",
    "gpuClass": "standard"
  },
  "cells": [
    {
      "cell_type": "markdown",
      "source": [
        "### First thing to do is to download kaggle dataset using kaggle API ,So I need to authenticate my self by selecting the json file **kaggle.json** that contains my credential data ."
      ],
      "metadata": {
        "id": "2XNVbVnzjqRb"
      }
    },
    {
      "cell_type": "code",
      "execution_count": null,
      "metadata": {
        "id": "OEaTgMF-jTc1",
        "colab": {
          "base_uri": "https://localhost:8080/",
          "height": 92
        },
        "outputId": "9b05f29f-fce0-4e36-a98c-1effe40793d0"
      },
      "outputs": [
        {
          "output_type": "display_data",
          "data": {
            "text/plain": [
              "<IPython.core.display.HTML object>"
            ],
            "text/html": [
              "\n",
              "     <input type=\"file\" id=\"files-9ff8eaff-1589-4bd6-96f4-c0eba7c55122\" name=\"files[]\" multiple disabled\n",
              "        style=\"border:none\" />\n",
              "     <output id=\"result-9ff8eaff-1589-4bd6-96f4-c0eba7c55122\">\n",
              "      Upload widget is only available when the cell has been executed in the\n",
              "      current browser session. Please rerun this cell to enable.\n",
              "      </output>\n",
              "      <script>// Copyright 2017 Google LLC\n",
              "//\n",
              "// Licensed under the Apache License, Version 2.0 (the \"License\");\n",
              "// you may not use this file except in compliance with the License.\n",
              "// You may obtain a copy of the License at\n",
              "//\n",
              "//      http://www.apache.org/licenses/LICENSE-2.0\n",
              "//\n",
              "// Unless required by applicable law or agreed to in writing, software\n",
              "// distributed under the License is distributed on an \"AS IS\" BASIS,\n",
              "// WITHOUT WARRANTIES OR CONDITIONS OF ANY KIND, either express or implied.\n",
              "// See the License for the specific language governing permissions and\n",
              "// limitations under the License.\n",
              "\n",
              "/**\n",
              " * @fileoverview Helpers for google.colab Python module.\n",
              " */\n",
              "(function(scope) {\n",
              "function span(text, styleAttributes = {}) {\n",
              "  const element = document.createElement('span');\n",
              "  element.textContent = text;\n",
              "  for (const key of Object.keys(styleAttributes)) {\n",
              "    element.style[key] = styleAttributes[key];\n",
              "  }\n",
              "  return element;\n",
              "}\n",
              "\n",
              "// Max number of bytes which will be uploaded at a time.\n",
              "const MAX_PAYLOAD_SIZE = 100 * 1024;\n",
              "\n",
              "function _uploadFiles(inputId, outputId) {\n",
              "  const steps = uploadFilesStep(inputId, outputId);\n",
              "  const outputElement = document.getElementById(outputId);\n",
              "  // Cache steps on the outputElement to make it available for the next call\n",
              "  // to uploadFilesContinue from Python.\n",
              "  outputElement.steps = steps;\n",
              "\n",
              "  return _uploadFilesContinue(outputId);\n",
              "}\n",
              "\n",
              "// This is roughly an async generator (not supported in the browser yet),\n",
              "// where there are multiple asynchronous steps and the Python side is going\n",
              "// to poll for completion of each step.\n",
              "// This uses a Promise to block the python side on completion of each step,\n",
              "// then passes the result of the previous step as the input to the next step.\n",
              "function _uploadFilesContinue(outputId) {\n",
              "  const outputElement = document.getElementById(outputId);\n",
              "  const steps = outputElement.steps;\n",
              "\n",
              "  const next = steps.next(outputElement.lastPromiseValue);\n",
              "  return Promise.resolve(next.value.promise).then((value) => {\n",
              "    // Cache the last promise value to make it available to the next\n",
              "    // step of the generator.\n",
              "    outputElement.lastPromiseValue = value;\n",
              "    return next.value.response;\n",
              "  });\n",
              "}\n",
              "\n",
              "/**\n",
              " * Generator function which is called between each async step of the upload\n",
              " * process.\n",
              " * @param {string} inputId Element ID of the input file picker element.\n",
              " * @param {string} outputId Element ID of the output display.\n",
              " * @return {!Iterable<!Object>} Iterable of next steps.\n",
              " */\n",
              "function* uploadFilesStep(inputId, outputId) {\n",
              "  const inputElement = document.getElementById(inputId);\n",
              "  inputElement.disabled = false;\n",
              "\n",
              "  const outputElement = document.getElementById(outputId);\n",
              "  outputElement.innerHTML = '';\n",
              "\n",
              "  const pickedPromise = new Promise((resolve) => {\n",
              "    inputElement.addEventListener('change', (e) => {\n",
              "      resolve(e.target.files);\n",
              "    });\n",
              "  });\n",
              "\n",
              "  const cancel = document.createElement('button');\n",
              "  inputElement.parentElement.appendChild(cancel);\n",
              "  cancel.textContent = 'Cancel upload';\n",
              "  const cancelPromise = new Promise((resolve) => {\n",
              "    cancel.onclick = () => {\n",
              "      resolve(null);\n",
              "    };\n",
              "  });\n",
              "\n",
              "  // Wait for the user to pick the files.\n",
              "  const files = yield {\n",
              "    promise: Promise.race([pickedPromise, cancelPromise]),\n",
              "    response: {\n",
              "      action: 'starting',\n",
              "    }\n",
              "  };\n",
              "\n",
              "  cancel.remove();\n",
              "\n",
              "  // Disable the input element since further picks are not allowed.\n",
              "  inputElement.disabled = true;\n",
              "\n",
              "  if (!files) {\n",
              "    return {\n",
              "      response: {\n",
              "        action: 'complete',\n",
              "      }\n",
              "    };\n",
              "  }\n",
              "\n",
              "  for (const file of files) {\n",
              "    const li = document.createElement('li');\n",
              "    li.append(span(file.name, {fontWeight: 'bold'}));\n",
              "    li.append(span(\n",
              "        `(${file.type || 'n/a'}) - ${file.size} bytes, ` +\n",
              "        `last modified: ${\n",
              "            file.lastModifiedDate ? file.lastModifiedDate.toLocaleDateString() :\n",
              "                                    'n/a'} - `));\n",
              "    const percent = span('0% done');\n",
              "    li.appendChild(percent);\n",
              "\n",
              "    outputElement.appendChild(li);\n",
              "\n",
              "    const fileDataPromise = new Promise((resolve) => {\n",
              "      const reader = new FileReader();\n",
              "      reader.onload = (e) => {\n",
              "        resolve(e.target.result);\n",
              "      };\n",
              "      reader.readAsArrayBuffer(file);\n",
              "    });\n",
              "    // Wait for the data to be ready.\n",
              "    let fileData = yield {\n",
              "      promise: fileDataPromise,\n",
              "      response: {\n",
              "        action: 'continue',\n",
              "      }\n",
              "    };\n",
              "\n",
              "    // Use a chunked sending to avoid message size limits. See b/62115660.\n",
              "    let position = 0;\n",
              "    do {\n",
              "      const length = Math.min(fileData.byteLength - position, MAX_PAYLOAD_SIZE);\n",
              "      const chunk = new Uint8Array(fileData, position, length);\n",
              "      position += length;\n",
              "\n",
              "      const base64 = btoa(String.fromCharCode.apply(null, chunk));\n",
              "      yield {\n",
              "        response: {\n",
              "          action: 'append',\n",
              "          file: file.name,\n",
              "          data: base64,\n",
              "        },\n",
              "      };\n",
              "\n",
              "      let percentDone = fileData.byteLength === 0 ?\n",
              "          100 :\n",
              "          Math.round((position / fileData.byteLength) * 100);\n",
              "      percent.textContent = `${percentDone}% done`;\n",
              "\n",
              "    } while (position < fileData.byteLength);\n",
              "  }\n",
              "\n",
              "  // All done.\n",
              "  yield {\n",
              "    response: {\n",
              "      action: 'complete',\n",
              "    }\n",
              "  };\n",
              "}\n",
              "\n",
              "scope.google = scope.google || {};\n",
              "scope.google.colab = scope.google.colab || {};\n",
              "scope.google.colab._files = {\n",
              "  _uploadFiles,\n",
              "  _uploadFilesContinue,\n",
              "};\n",
              "})(self);\n",
              "</script> "
            ]
          },
          "metadata": {}
        },
        {
          "output_type": "stream",
          "name": "stdout",
          "text": [
            "Saving kaggle.json to kaggle.json\n"
          ]
        },
        {
          "output_type": "execute_result",
          "data": {
            "text/plain": [
              "{'kaggle.json': b'{\"username\":\"bahriaymen\",\"key\":\"a13346c4c42326125bedf0153e4a7d20\"}'}"
            ]
          },
          "metadata": {},
          "execution_count": 1
        }
      ],
      "source": [
        "from google.colab import files \n",
        "files.upload()"
      ]
    },
    {
      "cell_type": "markdown",
      "source": [
        "### next step I need to copy the json file to the kaggle directory so I need to create a root directory using the command ***mdir ~/.kaggle*** and I can also add a command to make the file readable only by me by changing the permission using ***chmod ...*** 600 is me (the current user )"
      ],
      "metadata": {
        "id": "XH4AgeLZnVAf"
      }
    },
    {
      "cell_type": "code",
      "source": [
        "!mkdir ~/.kaggle\n",
        "!cp kaggle.json ~/.kaggle/\n",
        "!chmod 600 ~/.kaggle/kaggle.json"
      ],
      "metadata": {
        "id": "rCH8ihYEnOF7"
      },
      "execution_count": null,
      "outputs": []
    },
    {
      "cell_type": "markdown",
      "source": [
        "### Next I need to download the data set using the command ***kaggle datasets download -d williamscott701/memotion-dataset-7k***"
      ],
      "metadata": {
        "id": "mt5WNFkqlelT"
      }
    },
    {
      "cell_type": "code",
      "source": [
        "!kaggle datasets download -d williamscott701/memotion-dataset-7k"
      ],
      "metadata": {
        "colab": {
          "base_uri": "https://localhost:8080/"
        },
        "id": "SV1F3yN7kk4d",
        "outputId": "5169ce7c-f58c-4830-c136-45d746481bee"
      },
      "execution_count": null,
      "outputs": [
        {
          "output_type": "stream",
          "name": "stdout",
          "text": [
            "Downloading memotion-dataset-7k.zip to /content\n",
            "100% 694M/695M [00:33<00:00, 21.6MB/s]\n",
            "100% 695M/695M [00:33<00:00, 21.9MB/s]\n"
          ]
        }
      ]
    },
    {
      "cell_type": "markdown",
      "source": [
        "###Finally, the training data is a compressed file so I need to uncompress it \n",
        "###(unzip) silently (-qq):\n",
        "\n",
        "---\n",
        "\n"
      ],
      "metadata": {
        "id": "xpbYiuB-ns3k"
      }
    },
    {
      "cell_type": "code",
      "source": [
        "!unzip -qq memotion-dataset-7k.zip"
      ],
      "metadata": {
        "id": "zXcv8tp_nKw2"
      },
      "execution_count": null,
      "outputs": []
    },
    {
      "cell_type": "code",
      "source": [
        "!rm -r /content/memotion_dataset_7k/new_images\n",
        "!mkdir /content/memotion_dataset_7k/new_images #prepare a new directory to hold our new renamed images later"
      ],
      "metadata": {
        "id": "f0zVr02R2h0D",
        "colab": {
          "base_uri": "https://localhost:8080/"
        },
        "outputId": "a288f3fb-eef1-4e28-cf5f-a147880b3b6d"
      },
      "execution_count": null,
      "outputs": [
        {
          "output_type": "stream",
          "name": "stdout",
          "text": [
            "rm: cannot remove '/content/memotion_dataset_7k/new_images': No such file or directory\n"
          ]
        }
      ]
    },
    {
      "cell_type": "markdown",
      "source": [
        "###What we will do in the next cell is to open the csv file that contains images names ,their text discription and their lables ,make a dictionnary that for each class i.e positive ,negative etc ,we will save the names of the images belonging to that class "
      ],
      "metadata": {
        "id": "JGJIyKkRowOh"
      }
    },
    {
      "cell_type": "code",
      "source": [
        "\n",
        "import os,shutil,pathlib ,csv\n",
        "\n",
        "\n",
        "\n",
        "label_dict = {}                                                     #this will be a dictionary where we will store  the name of images belonging to each sentiment class that will help us separate eatch class's images \n",
        "with open(\"/content/memotion_dataset_7k/labels.csv\",\"r\") as file:\n",
        "  labels = csv.reader(file)\n",
        "  next(labels)                                                      #csv.reader returns an iterable ,next will increment the iterrable so we pass the header and we only store image names and their classes\n",
        "  for row in labels:\n",
        "    label_dict.setdefault(row[-1],[]).append(row[1])                # for each key ,we append to an empty list the corresponding image name so we get the list of images for each class\n",
        "\n",
        "\"\"\" I will try to rename all the images according to their class and then save them with a jpg extenstion  on a new\n",
        "                      directory that I'll call new_images a step that  I'll need it later when defining the dataset objects\"\"\"\n",
        "\n",
        "\n",
        "new_name_dict = {}                                                  #creating the new dictionnary names \n",
        "for category in list(label_dict.keys()):                            \n",
        "  for i,name in enumerate(label_dict[category]):                    #each tuple (i,name) will be the name and index of the image that belongs to the  corresponding category   \n",
        "    extension = name.split(\".\")[1]                                                    #get image name extension\n",
        "    src_file = f\"/content/memotion_dataset_7k/images/{name}\"                              #path to image\n",
        "    dst_file = f\"/content/memotion_dataset_7k/images/{category}_{i}.{extension}\"       #path to image with a new name\n",
        "    os.rename(src_file,dst_file)                                                        #rename the image inside the same directory \n",
        "\n",
        "    new_dst = f\"/content/memotion_dataset_7k/new_images/{category}_{i}.{extension}\"     #the new distination of the renamed image, its a redundant step because the renamed images already exists in the old directory but I don't want to rename the paths later \n",
        "    shutil.copyfile(dst_file,new_dst)                                                   #copy the file to the new directory                                                     \n",
        "    new_name_dict.setdefault(category,[]).append(f\"{category}_{i}.{extension}\")         #make a new dictionary to hold the new named images that belongs to each class \n",
        "    \n"
      ],
      "metadata": {
        "id": "N9rSif_GoKTa"
      },
      "execution_count": null,
      "outputs": []
    },
    {
      "cell_type": "code",
      "source": [
        "label_dict_1 = label_dict.copy()                          #copy old images name with their classes \n",
        "label_dict = new_name_dict                                 # changes the  names dictionnary with the new names "
      ],
      "metadata": {
        "id": "Ul0MwJHgMo0W"
      },
      "execution_count": null,
      "outputs": []
    },
    {
      "cell_type": "code",
      "source": [
        "# plot the statistics of each class \n",
        "import matplotlib.pyplot as plt\n",
        "\n",
        "fig, ax = plt.subplots()\n",
        "\n",
        "classes = list(label_dict.keys())\n",
        "counts = [len(category) for category in label_dict.values()]\n",
        "bar_labels = ['red', 'blue', 'green', 'orange']\n",
        "bar_colors = ['tab:red', 'tab:blue', 'tab:green', 'tab:orange']\n",
        "\n",
        "ax.bar(classes, counts, label=bar_labels, color=bar_colors)\n",
        "\n",
        "ax.set_ylabel('number of images')\n",
        "ax.set_title('number of images in each class')\n",
        "ax.legend()\n",
        "\n",
        "plt.show()"
      ],
      "metadata": {
        "colab": {
          "base_uri": "https://localhost:8080/",
          "height": 282
        },
        "id": "y3eERaZV-9sb",
        "outputId": "8918c3c6-2e1f-4f1d-ea18-e28bfa97ac08"
      },
      "execution_count": null,
      "outputs": [
        {
          "output_type": "display_data",
          "data": {
            "text/plain": [
              "<Figure size 432x288 with 1 Axes>"
            ],
            "image/png": "[encoded data removed]"
          },
          "metadata": {
            "needs_background": "light"
          }
        }
      ]
    },
    {
      "cell_type": "code",
      "source": [
        "counts"
      ],
      "metadata": {
        "colab": {
          "base_uri": "https://localhost:8080/"
        },
        "id": "McFq_czWQ-Jk",
        "outputId": "dd3093a1-b922-4786-c7d7-3890084f80b9"
      },
      "execution_count": null,
      "outputs": [
        {
          "output_type": "execute_result",
          "data": {
            "text/plain": [
              "[1033, 3127, 2201, 480, 151]"
            ]
          },
          "metadata": {},
          "execution_count": 9
        }
      ]
    },
    {
      "cell_type": "markdown",
      "source": [],
      "metadata": {
        "id": "3ne4-qtuGE5I"
      }
    },
    {
      "cell_type": "code",
      "source": [
        "# now we will use keras functional API to create a CNN model at first,using functional API will allow us to alter the model later by adding layers and enables us to use multi_input architectures\n",
        "\n",
        "from tensorflow import keras\n",
        "from keras import layers\n",
        "inputs =keras.Input(shape = (300,300,3))                                  # input shape (300,300) was chosen at random \n",
        "x = layers.Rescaling(1./255)(inputs)                                      # rescaling inputs by deviding each pixel by 255\n",
        "x = layers.Conv2D(filters = 32,kernel_size=3,activation=\"relu\")(x)\n",
        "x = layers.MaxPooling2D(pool_size=2)(x)                                   #downsampling the input ,deviding the input shape by 2\n",
        "x = layers.Conv2D(filters = 64,kernel_size = 3,activation = \"relu\")(x)\n",
        "x = layers.MaxPooling2D(pool_size = 2)(x)\n",
        "x = layers.Conv2D(filters=128,kernel_size = 3,activation =\"relu\" )(x)\n",
        "x = layers.MaxPooling2D(pool_size = 2)(x)\n",
        "x = layers.Conv2D(filters=256,kernel_size = 3,activation =\"relu\" )(x)\n",
        "x = layers.MaxPooling2D(pool_size = 2)(x)\n",
        "x = layers.Conv2D(filters=256,kernel_size = 3,activation =\"relu\" )(x)\n",
        "x = layers.Flatten()(x)\n",
        "\n",
        "outputs = layers.Dense(5,activation = \"softmax\")(x)                     #the classification layer \n",
        "model = keras.Model(inputs = inputs,outputs = outputs )\n",
        "\n",
        "model.summary()\n"
      ],
      "metadata": {
        "colab": {
          "base_uri": "https://localhost:8080/"
        },
        "id": "6LcN6LAvF_ZK",
        "outputId": "938a762c-5485-4e58-d3d0-2c64593db28a"
      },
      "execution_count": null,
      "outputs": [
        {
          "output_type": "stream",
          "name": "stdout",
          "text": [
            "Model: \"model\"\n",
            "_________________________________________________________________\n",
            " Layer (type)                Output Shape              Param #   \n",
            "=================================================================\n",
            " input_1 (InputLayer)        [(None, 300, 300, 3)]     0         \n",
            "                                                                 \n",
            " rescaling (Rescaling)       (None, 300, 300, 3)       0         \n",
            "                                                                 \n",
            " conv2d (Conv2D)             (None, 298, 298, 32)      896       \n",
            "                                                                 \n",
            " max_pooling2d (MaxPooling2D  (None, 149, 149, 32)     0         \n",
            " )                                                               \n",
            "                                                                 \n",
            " conv2d_1 (Conv2D)           (None, 147, 147, 64)      18496     \n",
            "                                                                 \n",
            " max_pooling2d_1 (MaxPooling  (None, 73, 73, 64)       0         \n",
            " 2D)                                                             \n",
            "                                                                 \n",
            " conv2d_2 (Conv2D)           (None, 71, 71, 128)       73856     \n",
            "                                                                 \n",
            " max_pooling2d_2 (MaxPooling  (None, 35, 35, 128)      0         \n",
            " 2D)                                                             \n",
            "                                                                 \n",
            " conv2d_3 (Conv2D)           (None, 33, 33, 256)       295168    \n",
            "                                                                 \n",
            " max_pooling2d_3 (MaxPooling  (None, 16, 16, 256)      0         \n",
            " 2D)                                                             \n",
            "                                                                 \n",
            " conv2d_4 (Conv2D)           (None, 14, 14, 256)       590080    \n",
            "                                                                 \n",
            " flatten (Flatten)           (None, 50176)             0         \n",
            "                                                                 \n",
            " dense (Dense)               (None, 5)                 250885    \n",
            "                                                                 \n",
            "=================================================================\n",
            "Total params: 1,229,381\n",
            "Trainable params: 1,229,381\n",
            "Non-trainable params: 0\n",
            "_________________________________________________________________\n"
          ]
        }
      ]
    },
    {
      "cell_type": "code",
      "source": [
        "#Specifying the optimization loop using compile ,by choosing which optimizer to use for example rmsprop,loss function and which metrics to monitor\n",
        "model.compile(optimizer=\"rmsprop\",loss=\"sparse_categorical_crossentropy\",metrics = [\"accuracy\"])\n"
      ],
      "metadata": {
        "id": "cOINh710GmPy"
      },
      "execution_count": null,
      "outputs": []
    },
    {
      "cell_type": "code",
      "source": [
        "!rm -r /content/memotion_dataset_7k/memotion_small   #Just a terminal command to remove recursively my small dataset if its already created\n",
        "import os,shutil,pathlib\n",
        "\n",
        "original_dir = pathlib.Path(\"/content/memotion_dataset_7k/new_images\")  #where our renamed images live \n",
        "new_base_dir = pathlib.Path(\"/content/memotion_dataset_7k/memotion_small\")#where the new images will be moved with their corrosponding class \n",
        "\n",
        "label_dict = new_name_dict\n",
        "\n",
        "#since data is not split equivalently between classes we will split them manually not following any  rule between validation , train and test \n",
        "l_train = {}\n",
        "train_positive = label_dict[\"positive\"][:2000]\n",
        "train_very_positive = label_dict[\"very_positive\"][:600]\n",
        "train_neutral = label_dict[\"neutral\"][:1000]\n",
        "train_negative = label_dict[\"negative\"][:200]\n",
        "train_very_negative = label_dict[\"very_negative\"][:100]\n",
        "l_train[\"positive\"],l_train[\"very_positive\"],l_train[\"neutral\"],l_train[\"negative\"],l_train[\"very_negative\"]= train_positive,train_very_positive, train_neutral, train_negative, train_very_negative\n",
        "\n",
        "\n",
        "\n",
        "l_test ={}\n",
        "test_positive = label_dict[\"positive\"][2000:2500]\n",
        "test_very_positive = label_dict[\"very_positive\"][600:800]\n",
        "test_neutral = label_dict[\"neutral\"][1000:1800]\n",
        "test_negative = label_dict[\"negative\"][200:400]\n",
        "test_very_negative = label_dict[\"very_negative\"][100:125]\n",
        "\n",
        "l_test[\"positive\"],l_test[\"very_positive\"],l_test[\"neutral\"],l_test[\"negative\"],l_test[\"very_negative\"]= test_positive,test_very_positive, test_neutral, test_negative, test_very_negative\n",
        "\n",
        "\n",
        "l_validation = {}\n",
        "validation_positive = label_dict[\"positive\"][2500:]\n",
        "validation_very_positive = label_dict[\"very_positive\"][800:]\n",
        "validation_neutral = label_dict[\"neutral\"][1800:]\n",
        "validation_negative = label_dict[\"negative\"][400:]\n",
        "validation_very_negative = label_dict[\"very_negative\"][125:]\n",
        "\n",
        "l_validation[\"positive\"],l_validation[\"very_positive\"],l_validation[\"neutral\"],l_validation[\"negative\"],l_validation[\"very_negative\"]= validation_positive,validation_very_positive, validation_neutral, validation_negative, validation_very_negative\n",
        "\n",
        "def make_subset(subset_name,image_names):\n",
        "  \"\"\" This function will be used to create train validation and test subdirectories ,each one of them of the 5 classes\n",
        "                      each class contains the number of images thatwas specified above \"\"\"\n",
        "  for category in label_dict.keys():                \n",
        "    dir = new_base_dir / subset_name / category         #path to our memotion_small/ (train,test,or validation) /(psotive ,negative ,very_positive ....)\n",
        "    os.makedirs(dir)\n",
        "\n",
        "    for fname in image_names[category]:                           #loop over the images that belongs to each class ,and move them to the appropriate directory \n",
        "      shutil.copyfile(src=original_dir /fname,dst=dir / fname)\n",
        "\n",
        "\n",
        "\n"
      ],
      "metadata": {
        "id": "LfQDhE26Ma2X",
        "colab": {
          "base_uri": "https://localhost:8080/"
        },
        "outputId": "cc9bd212-f2f7-4683-8064-bd8b5018a3bc"
      },
      "execution_count": null,
      "outputs": [
        {
          "output_type": "stream",
          "name": "stdout",
          "text": [
            "rm: cannot remove '/content/memotion_dataset_7k/memotion_small': No such file or directory\n"
          ]
        }
      ]
    },
    {
      "cell_type": "code",
      "source": [
        "make_subset(\"train\",l_train)\n",
        "make_subset(\"validation\",l_validation)\n",
        "make_subset(\"test\",l_test)"
      ],
      "metadata": {
        "id": "WJoHmqFpEOSy"
      },
      "execution_count": null,
      "outputs": []
    },
    {
      "cell_type": "code",
      "source": [
        "#image_dataset_from_directory will list subdirectories and assume that each directory belongs to a class ,so as directroies are listed as \n",
        "#(negative,neutral,positive,very_negative,very_positive) classes will be (0,1,2,3,4) accordingly \n",
        "\n",
        "from tensorflow.keras.utils import image_dataset_from_directory\n",
        "\n",
        "shape = (300,300)\n",
        "\n",
        "train_dataset = image_dataset_from_directory(new_base_dir /\"train\",\n",
        "                                             image_size = shape,batch_size = 32)       # train_dataset will be an iterable that holds the training data as 32 batches with(300,300) shape ,and their corrosponding labels\n",
        "\n",
        "validation_dataset = image_dataset_from_directory(new_base_dir / \"validation\",\n",
        "                                                  image_size = shape,batch_size = 32)\n",
        "test_dataset = image_dataset_from_directory(new_base_dir / \"test\",\n",
        "                                            image_size = shape,batch_size = 32)\n"
      ],
      "metadata": {
        "colab": {
          "base_uri": "https://localhost:8080/"
        },
        "id": "N4Ju06e5GqeA",
        "outputId": "f4bff75b-3bdc-463a-84ef-9f1f3651d261"
      },
      "execution_count": null,
      "outputs": [
        {
          "output_type": "stream",
          "name": "stdout",
          "text": [
            "Found 3899 files belonging to 5 classes.\n",
            "Found 1367 files belonging to 5 classes.\n",
            "Found 1725 files belonging to 5 classes.\n"
          ]
        }
      ]
    },
    {
      "cell_type": "code",
      "source": [
        "#to check the data shape in our train dataset object\n",
        "for data_batch ,labels_batch in train_dataset:\n",
        "  print(data_batch.shape,labels_batch,labels_batch.shape)\n",
        "  image = data_batch[0]\n",
        "  image_label = labels_batch[0]\n",
        "  break\n",
        "\n"
      ],
      "metadata": {
        "id": "rbCi7OPgTLWr",
        "colab": {
          "base_uri": "https://localhost:8080/"
        },
        "outputId": "4b2af727-7696-4c14-f633-25c3b4007428"
      },
      "execution_count": null,
      "outputs": [
        {
          "output_type": "stream",
          "name": "stdout",
          "text": [
            "(32, 300, 300, 3) tf.Tensor([1 4 2 2 2 2 0 2 4 4 2 2 1 1 4 1 2 2 2 1 2 2 2 2 1 2 4 2 0 2 1 4], shape=(32,), dtype=int32) (32,)\n"
          ]
        }
      ]
    },
    {
      "cell_type": "code",
      "source": [
        "#lets see a reshaped image ,we converted the image to an unsined int array so it can be visualised properly with plt.imshow()\n",
        "import matplotlib.pyplot as plt\n",
        "plt.imshow(image.numpy().astype(\"uint8\"))\n",
        "plt.axis(\"off\")"
      ],
      "metadata": {
        "colab": {
          "base_uri": "https://localhost:8080/",
          "height": 265
        },
        "id": "sshECUCk5iK7",
        "outputId": "29e251da-86bc-4bee-981b-bec3eb77c698"
      },
      "execution_count": null,
      "outputs": [
        {
          "output_type": "execute_result",
          "data": {
            "text/plain": [
              "(-0.5, 299.5, 299.5, -0.5)"
            ]
          },
          "metadata": {},
          "execution_count": 16
        },
        {
          "output_type": "display_data",
          "data": {
            "text/plain": [
              "<Figure size 432x288 with 1 Axes>"
            ],
            "image/png": "[encoded data removed]"
          },
          "metadata": {
            "needs_background": "light"
          }
        }
      ]
    },
    {
      "cell_type": "code",
      "source": [
        "#we will set a base line of 50% accuracy on training ,and then try to make the model overfit \n",
        "\n",
        "\n",
        "callback_list = [keras.callbacks.EarlyStopping(monitor=\"val_accuracy\",patience=2),\n",
        "                 keras.callbacks.ModelCheckpoint(filepath=\"checkpoint.keras\",monitor=\"val_accuracy\",save_best_only=True)]   #EarlyStopping callback will allow the model to stop fitting as soon as the validation accuracy stalls and save the model \n",
        "\n",
        "\n",
        "history = model.fit(train_dataset,epochs=30,validation_data=validation_dataset,callbacks=callback_list)      #history is a dictionnary that will hold the values of accuracy and loss for each epoch "
      ],
      "metadata": {
        "colab": {
          "base_uri": "https://localhost:8080/"
        },
        "id": "NAz5tDt2O7fZ",
        "outputId": "7c322776-f0cb-4444-ff2d-d459aa0dca43"
      },
      "execution_count": null,
      "outputs": [
        {
          "output_type": "stream",
          "name": "stdout",
          "text": [
            "Epoch 1/30\n",
            "122/122 [==============================] - 38s 225ms/step - loss: 1.3426 - accuracy: 0.4960 - val_loss: 1.2682 - val_accuracy: 0.4587\n",
            "Epoch 2/30\n",
            "122/122 [==============================] - 26s 208ms/step - loss: 1.2488 - accuracy: 0.5127 - val_loss: 1.2675 - val_accuracy: 0.4587\n",
            "Epoch 3/30\n",
            "122/122 [==============================] - 26s 208ms/step - loss: 1.2393 - accuracy: 0.5127 - val_loss: 1.2717 - val_accuracy: 0.4587\n"
          ]
        }
      ]
    },
    {
      "cell_type": "code",
      "source": [
        "import matplotlib.pyplot as plt\n",
        "history = history.history\n",
        "train_loss =history[\"loss\"]\n",
        "val_loss = history[\"val_loss\"]\n",
        "epochs = range(1,len(train_loss) + 1)\n",
        "plt.plot(epochs,train_loss,\"bo\",label = \"Train loss\")\n",
        "plt.plot(epochs,val_loss,\"b\",label = \"validation loss\")\n",
        "plt.title(\"Train and Validation Losses\")\n",
        "plt.xlabel(\"Epochs\")\n",
        "plt.ylabel(\"Loss\")\n",
        "plt.legend()\n",
        "plt.show()"
      ],
      "metadata": {
        "colab": {
          "base_uri": "https://localhost:8080/",
          "height": 295
        },
        "id": "SOMRS826Xrj6",
        "outputId": "b51a8318-f68c-44db-baf8-a03f073b4eb7"
      },
      "execution_count": null,
      "outputs": [
        {
          "output_type": "display_data",
          "data": {
            "text/plain": [
              "<Figure size 432x288 with 1 Axes>"
            ],
            "image/png": "[encoded data removed]"
          },
          "metadata": {
            "needs_background": "light"
          }
        }
      ]
    },
    {
      "cell_type": "markdown",
      "source": [],
      "metadata": {
        "id": "92IGyesQmvuT"
      }
    },
    {
      "cell_type": "code",
      "source": [
        "model.layers"
      ],
      "metadata": {
        "colab": {
          "base_uri": "https://localhost:8080/"
        },
        "id": "OpbHGbHz_rDe",
        "outputId": "1f8bbe02-299c-4286-9352-fdcb1b1af1e6"
      },
      "execution_count": null,
      "outputs": [
        {
          "output_type": "execute_result",
          "data": {
            "text/plain": [
              "[<keras.engine.input_layer.InputLayer at 0x7f4faab316a0>,\n",
              " <keras.layers.preprocessing.image_preprocessing.Rescaling at 0x7f4faab31640>,\n",
              " <keras.layers.convolutional.conv2d.Conv2D at 0x7f4f483d5340>,\n",
              " <keras.layers.pooling.max_pooling2d.MaxPooling2D at 0x7f4f483d55b0>,\n",
              " <keras.layers.convolutional.conv2d.Conv2D at 0x7f4f483d51f0>,\n",
              " <keras.layers.pooling.max_pooling2d.MaxPooling2D at 0x7f4f483d5610>,\n",
              " <keras.layers.convolutional.conv2d.Conv2D at 0x7f4f483d5ca0>,\n",
              " <keras.layers.pooling.max_pooling2d.MaxPooling2D at 0x7f4f47affc70>,\n",
              " <keras.layers.convolutional.conv2d.Conv2D at 0x7f4f47affeb0>,\n",
              " <keras.layers.pooling.max_pooling2d.MaxPooling2D at 0x7f4f47aff760>,\n",
              " <keras.layers.convolutional.conv2d.Conv2D at 0x7f4f47afff10>,\n",
              " <keras.layers.reshaping.flatten.Flatten at 0x7f4f47affb20>,\n",
              " <keras.layers.core.dense.Dense at 0x7f4f47aded60>]"
            ]
          },
          "metadata": {},
          "execution_count": 57
        }
      ]
    },
    {
      "cell_type": "code",
      "source": [
        "# we will add more layers to the model if it can helps it overfit,as increasing model parametres(simply memory) will genrally make the model discover more patterns\n",
        "\n",
        "model.layers[10]   # the last convolutuin layer before flatten"
      ],
      "metadata": {
        "id": "MCqpJUs2QLuJ",
        "colab": {
          "base_uri": "https://localhost:8080/"
        },
        "outputId": "4679974c-d58b-45f4-be3d-e39ed04277f3"
      },
      "execution_count": null,
      "outputs": [
        {
          "output_type": "execute_result",
          "data": {
            "text/plain": [
              "<keras.layers.convolutional.conv2d.Conv2D at 0x7f4f47afff10>"
            ]
          },
          "metadata": {},
          "execution_count": 19
        }
      ]
    },
    {
      "cell_type": "code",
      "source": [
        "x = model.layers[10].output   #store the output of that 10th layer \n",
        "\n",
        "# add 2 conv2D and a MAxpooling layer \n",
        "\n",
        "x = layers.Conv2D(filters=256,kernel_size = 3,activation =\"relu\" )(x)\n",
        "x = layers.MaxPooling2D(pool_size = 2)(x)\n",
        "x = layers.Conv2D(filters=256,kernel_size = 3,activation =\"relu\" )(x)\n",
        "x = layers.Flatten()(x)\n",
        "outputs = layers.Dense(5,activation = \"softmax\")(x)\n",
        "\n",
        "model_2 =keras.Model(inputs = inputs,outputs = outputs )  # make a new model "
      ],
      "metadata": {
        "id": "Si7jFk11njlu"
      },
      "execution_count": null,
      "outputs": []
    },
    {
      "cell_type": "code",
      "source": [
        "model_2.summary()"
      ],
      "metadata": {
        "colab": {
          "base_uri": "https://localhost:8080/"
        },
        "id": "Zv5c3ft8pNas",
        "outputId": "fbcab094-15d8-4f90-9a7f-814c9444a334"
      },
      "execution_count": null,
      "outputs": [
        {
          "output_type": "stream",
          "name": "stdout",
          "text": [
            "Model: \"model_1\"\n",
            "_________________________________________________________________\n",
            " Layer (type)                Output Shape              Param #   \n",
            "=================================================================\n",
            " input_1 (InputLayer)        [(None, 300, 300, 3)]     0         \n",
            "                                                                 \n",
            " rescaling (Rescaling)       (None, 300, 300, 3)       0         \n",
            "                                                                 \n",
            " conv2d (Conv2D)             (None, 298, 298, 32)      896       \n",
            "                                                                 \n",
            " max_pooling2d (MaxPooling2D  (None, 149, 149, 32)     0         \n",
            " )                                                               \n",
            "                                                                 \n",
            " conv2d_1 (Conv2D)           (None, 147, 147, 64)      18496     \n",
            "                                                                 \n",
            " max_pooling2d_1 (MaxPooling  (None, 73, 73, 64)       0         \n",
            " 2D)                                                             \n",
            "                                                                 \n",
            " conv2d_2 (Conv2D)           (None, 71, 71, 128)       73856     \n",
            "                                                                 \n",
            " max_pooling2d_2 (MaxPooling  (None, 35, 35, 128)      0         \n",
            " 2D)                                                             \n",
            "                                                                 \n",
            " conv2d_3 (Conv2D)           (None, 33, 33, 256)       295168    \n",
            "                                                                 \n",
            " max_pooling2d_3 (MaxPooling  (None, 16, 16, 256)      0         \n",
            " 2D)                                                             \n",
            "                                                                 \n",
            " conv2d_4 (Conv2D)           (None, 14, 14, 256)       590080    \n",
            "                                                                 \n",
            " conv2d_5 (Conv2D)           (None, 12, 12, 256)       590080    \n",
            "                                                                 \n",
            " max_pooling2d_4 (MaxPooling  (None, 6, 6, 256)        0         \n",
            " 2D)                                                             \n",
            "                                                                 \n",
            " conv2d_6 (Conv2D)           (None, 4, 4, 256)         590080    \n",
            "                                                                 \n",
            " flatten_1 (Flatten)         (None, 4096)              0         \n",
            "                                                                 \n",
            " dense_1 (Dense)             (None, 5)                 20485     \n",
            "                                                                 \n",
            "=================================================================\n",
            "Total params: 2,179,141\n",
            "Trainable params: 2,179,141\n",
            "Non-trainable params: 0\n",
            "_________________________________________________________________\n"
          ]
        }
      ]
    },
    {
      "cell_type": "code",
      "source": [
        "model_2.compile(optimizer=\"rmsprop\",loss=\"sparse_categorical_crossentropy\",metrics = [\"accuracy\"])\n"
      ],
      "metadata": {
        "id": "oZf3Hu7ArCDR"
      },
      "execution_count": null,
      "outputs": []
    },
    {
      "cell_type": "code",
      "source": [
        "\n",
        "shape = (300,300)\n",
        "\n",
        "train_dataset = image_dataset_from_directory(new_base_dir /\"train\",\n",
        "                                             image_size = shape,batch_size = 32)\n",
        "\n",
        "validation_dataset = image_dataset_from_directory(new_base_dir / \"validation\",\n",
        "                                                  image_size = shape,batch_size = 32)\n",
        "test_dataset = image_dataset_from_directory(new_base_dir / \"test\",\n",
        "                                            image_size = shape,batch_size = 32)\n"
      ],
      "metadata": {
        "colab": {
          "base_uri": "https://localhost:8080/"
        },
        "id": "52dnoyxTrMYJ",
        "outputId": "68e7dc20-516b-48a5-ef40-216628a3fa04"
      },
      "execution_count": null,
      "outputs": [
        {
          "output_type": "stream",
          "name": "stdout",
          "text": [
            "Found 3899 files belonging to 5 classes.\n",
            "Found 1367 files belonging to 5 classes.\n",
            "Found 1725 files belonging to 5 classes.\n"
          ]
        }
      ]
    },
    {
      "cell_type": "code",
      "source": [
        "callback_list = [keras.callbacks.EarlyStopping(monitor=\"val_accuracy\",patience=2),\n",
        "                 keras.callbacks.ModelCheckpoint(filepath=\"checkpoint.keras\",monitor=\"val_accuracy\",save_best_only=True)]\n",
        "history = model_2.fit(train_dataset,epochs=30,validation_data=validation_dataset,callbacks=callback_list)"
      ],
      "metadata": {
        "colab": {
          "base_uri": "https://localhost:8080/"
        },
        "id": "_7tz80-FrTUF",
        "outputId": "ba9d9fd5-8540-47d5-b1a0-0a178a1c92ad"
      },
      "execution_count": null,
      "outputs": [
        {
          "output_type": "stream",
          "name": "stdout",
          "text": [
            "Epoch 1/30\n",
            "122/122 [==============================] - 28s 215ms/step - loss: 1.2681 - accuracy: 0.5106 - val_loss: 1.2722 - val_accuracy: 0.4587\n",
            "Epoch 2/30\n",
            "122/122 [==============================] - 27s 212ms/step - loss: 1.2460 - accuracy: 0.5127 - val_loss: 1.2750 - val_accuracy: 0.4587\n",
            "Epoch 3/30\n",
            "122/122 [==============================] - 28s 222ms/step - loss: 1.2386 - accuracy: 0.5127 - val_loss: 1.2674 - val_accuracy: 0.4587\n"
          ]
        }
      ]
    },
    {
      "cell_type": "markdown",
      "source": [
        "### there are no improvments ,the model barely fits the data,there are no clear patterns between the data and the labels \n",
        "\n",
        "*   I will make a multi input model where I will feed to it images and the text associated to them \n",
        "\n",
        "1.   I will make a densely connected layers first and see how they perform on text without the use of RNNs\n",
        "\n",
        "\n",
        "\n",
        "*   and then I will use a pretrained model \n",
        "\n"
      ],
      "metadata": {
        "id": "mroxnrQCTZPr"
      }
    },
    {
      "cell_type": "code",
      "source": [
        "text_dict = {}                                                     #this will be a dictionary where I will store  the text discription of each image belonging to each sentiment class \n",
        "with open(\"/content/memotion_dataset_7k/labels.csv\",\"r\") as file:\n",
        "  labels = csv.reader(file)\n",
        "  next(labels)                                                      #csv.reader returns an iterable ,next will increment the iterrable so I pass the header and I only store image names and their classes\n",
        "  for row in labels:\n",
        "    text_dict.setdefault(row[-1],[]).append(row[3])              # for each key ,I append to an empty list the corresponding image text so I get the list of texts for each class\n",
        "\n"
      ],
      "metadata": {
        "id": "Icl7W9p3UiY0"
      },
      "execution_count": null,
      "outputs": []
    },
    {
      "cell_type": "code",
      "source": [
        "#checking if  each text discription will be linked to the correct image \n",
        "text_dict[\"positive\"][0],label_dict_1[\"positive\"][0],label_dict[\"positive\"][0]"
      ],
      "metadata": {
        "colab": {
          "base_uri": "https://localhost:8080/"
        },
        "id": "esLp1E1wZA1D",
        "outputId": "6b13e7bf-eb09-4c9d-f513-d95e2ce7928c"
      },
      "execution_count": null,
      "outputs": [
        {
          "output_type": "execute_result",
          "data": {
            "text/plain": [
              "(\"Sam Thorne @Strippin ( Follow Follow Saw everyone posting these 2009 vs 2019 pics so here's mine 6:23 PM - 12 Jan 2019 O 636 Retweets 3 224 LIKES 65 636 3.2K\",\n",
              " 'image_3.JPG',\n",
              " 'positive_0.JPG')"
            ]
          },
          "metadata": {},
          "execution_count": 26
        }
      ]
    },
    {
      "cell_type": "code",
      "source": [
        "# I need a dictionnary of words to be able to numerically encode the text discriptions so I will use the imdb get_word_index \n",
        "from tensorflow.keras.datasets import imdb\n",
        "import tensorflow as tf\n",
        "word_index = imdb.get_word_index()   #Returns the index of a word inside a dictionnary \n",
        "\n",
        "vecto_words = {}\n",
        "for category in list(text_dict.keys()):\n",
        "  for i,name in enumerate(text_dict[category]):\n",
        "      vecto_words.setdefault(category,[]).append([word_index.get(word,0) for word in text_dict[category][i] ]) #get the list of word indexes and replace a missing word index with 0\n",
        "      #vecto_words[category][i] = [i for i in vecto_words[category][i] if i != 0 ]                               # remove 0 and its occurences 0\n",
        "\n",
        "\n",
        "\n",
        "\n",
        "\n",
        "\n"
      ],
      "metadata": {
        "id": "qp7N5rWefluA",
        "colab": {
          "base_uri": "https://localhost:8080/"
        },
        "outputId": "55e60f86-df8f-46fd-dc5e-c2d74a4047fa"
      },
      "execution_count": null,
      "outputs": [
        {
          "output_type": "stream",
          "name": "stdout",
          "text": [
            "Downloading data from https://storage.googleapis.com/tensorflow/tf-keras-datasets/imdb_word_index.json\n",
            "1641221/1641221 [==============================] - 0s 0us/step\n"
          ]
        }
      ]
    },
    {
      "cell_type": "code",
      "source": [
        "vecto_words[\"positive\"][0]"
      ],
      "metadata": {
        "id": "nJ8O-WWofl4l",
        "colab": {
          "base_uri": "https://localhost:8080/"
        },
        "outputId": "3bea4cc8-7d37-4919-8c7f-9a3bafde99e0"
      },
      "execution_count": null,
      "outputs": [
        {
          "output_type": "execute_result",
          "data": {
            "text/plain": [
              "[0,\n",
              " 3,\n",
              " 1980,\n",
              " 0,\n",
              " 0,\n",
              " 2020,\n",
              " 1601,\n",
              " 1476,\n",
              " 3360,\n",
              " 960,\n",
              " 0,\n",
              " 0,\n",
              " 0,\n",
              " 827,\n",
              " 1476,\n",
              " 10,\n",
              " 1654,\n",
              " 1654,\n",
              " 10,\n",
              " 3360,\n",
              " 0,\n",
              " 0,\n",
              " 0,\n",
              " 0,\n",
              " 1601,\n",
              " 2011,\n",
              " 2011,\n",
              " 1601,\n",
              " 1989,\n",
              " 0,\n",
              " 0,\n",
              " 1601,\n",
              " 2011,\n",
              " 2011,\n",
              " 1601,\n",
              " 1989,\n",
              " 0,\n",
              " 0,\n",
              " 3,\n",
              " 1989,\n",
              " 0,\n",
              " 960,\n",
              " 1961,\n",
              " 960,\n",
              " 1476,\n",
              " 5132,\n",
              " 1601,\n",
              " 3360,\n",
              " 960,\n",
              " 0,\n",
              " 1654,\n",
              " 1601,\n",
              " 587,\n",
              " 827,\n",
              " 10,\n",
              " 3360,\n",
              " 1328,\n",
              " 0,\n",
              " 827,\n",
              " 2020,\n",
              " 960,\n",
              " 587,\n",
              " 960,\n",
              " 0,\n",
              " 238,\n",
              " 2238,\n",
              " 2238,\n",
              " 787,\n",
              " 0,\n",
              " 1961,\n",
              " 587,\n",
              " 0,\n",
              " 238,\n",
              " 2238,\n",
              " 297,\n",
              " 787,\n",
              " 0,\n",
              " 1654,\n",
              " 10,\n",
              " 1145,\n",
              " 587,\n",
              " 0,\n",
              " 587,\n",
              " 1601,\n",
              " 0,\n",
              " 2020,\n",
              " 960,\n",
              " 1476,\n",
              " 960,\n",
              " 755,\n",
              " 587,\n",
              " 0,\n",
              " 1980,\n",
              " 10,\n",
              " 3360,\n",
              " 960,\n",
              " 0,\n",
              " 1083,\n",
              " 0,\n",
              " 238,\n",
              " 339,\n",
              " 0,\n",
              " 0,\n",
              " 0,\n",
              " 0,\n",
              " 0,\n",
              " 0,\n",
              " 297,\n",
              " 238,\n",
              " 0,\n",
              " 0,\n",
              " 3,\n",
              " 3360,\n",
              " 0,\n",
              " 238,\n",
              " 2238,\n",
              " 297,\n",
              " 787,\n",
              " 0,\n",
              " 0,\n",
              " 0,\n",
              " 1083,\n",
              " 339,\n",
              " 1083,\n",
              " 0,\n",
              " 0,\n",
              " 960,\n",
              " 827,\n",
              " 1989,\n",
              " 960,\n",
              " 960,\n",
              " 827,\n",
              " 587,\n",
              " 0,\n",
              " 339,\n",
              " 0,\n",
              " 238,\n",
              " 238,\n",
              " 467,\n",
              " 0,\n",
              " 0,\n",
              " 0,\n",
              " 0,\n",
              " 0,\n",
              " 0,\n",
              " 0,\n",
              " 1083,\n",
              " 454,\n",
              " 0,\n",
              " 1083,\n",
              " 339,\n",
              " 1083,\n",
              " 0,\n",
              " 339,\n",
              " 0,\n",
              " 238,\n",
              " 0]"
            ]
          },
          "metadata": {},
          "execution_count": 28
        }
      ]
    },
    {
      "cell_type": "code",
      "source": [
        "# split text data into train,test and validation \n",
        "\n",
        "t_train = {}\n",
        "train_positive = vecto_words[\"positive\"][:2000]\n",
        "train_very_positive = vecto_words[\"very_positive\"][:600]\n",
        "train_neutral = vecto_words[\"neutral\"][:1000]\n",
        "train_negative = vecto_words[\"negative\"][:200]\n",
        "train_very_negative = vecto_words[\"very_negative\"][:100]\n",
        "t_train[\"positive\"],t_train[\"very_positive\"],t_train[\"neutral\"],t_train[\"negative\"],t_train[\"very_negative\"]= train_positive,train_very_positive, train_neutral, train_negative, train_very_negative\n",
        "\n",
        "\n",
        "\n",
        "t_test ={}\n",
        "test_positive = vecto_words[\"positive\"][2000:2500]\n",
        "test_very_positive = vecto_words[\"very_positive\"][600:800]\n",
        "test_neutral = vecto_words[\"neutral\"][1000:1800]\n",
        "test_negative = vecto_words[\"negative\"][200:400]\n",
        "test_very_negative = vecto_words[\"very_negative\"][100:125]\n",
        "\n",
        "t_test[\"positive\"],t_test[\"very_positive\"],t_test[\"neutral\"],t_test[\"negative\"],t_test[\"very_negative\"]= test_positive,test_very_positive, test_neutral, test_negative, test_very_negative\n",
        "\n",
        "\n",
        "t_validation = {}\n",
        "validation_positive = vecto_words[\"positive\"][2500:]\n",
        "validation_very_positive = vecto_words[\"very_positive\"][800:]\n",
        "validation_neutral = vecto_words[\"neutral\"][1800:]\n",
        "validation_negative = vecto_words[\"negative\"][400:]\n",
        "validation_very_negative = vecto_words[\"very_negative\"][125:]\n",
        "\n",
        "t_validation[\"positive\"],t_validation[\"very_positive\"],t_validation[\"neutral\"],t_validation[\"negative\"],t_validation[\"very_negative\"]= validation_positive,validation_very_positive, validation_neutral, validation_negative, validation_very_negative\n",
        "\n"
      ],
      "metadata": {
        "id": "NhvKfbUvBCAC"
      },
      "execution_count": null,
      "outputs": []
    },
    {
      "cell_type": "code",
      "source": [
        "import numpy as np\n",
        "def load_data(data_name):\n",
        "    labels = [\"negative\",\"neutral\",\"positive\",\"very_negative\",\"very_positive\"] # will help me change class names with their corrosponding numbers\n",
        "    data =[]\n",
        "    data_labels =[]\n",
        "\n",
        "    for label in labels:                                                         #loop over labels\n",
        "      for elt in data_name[label]:                                                # loop over samples of vectored data ,each text was replaced with a vector of indexes before we loop over each vector in each class\n",
        "        if(len(elt) != 0):                                                        # if the elt is not 0 ,that is the 0 we use to replace the missing data before\n",
        "          data.append(elt)                                                        # append the value to the list called label \n",
        "          data_labels.append(labels.index(label))                                 #append its corresponding label in a diffrent list so we end up with a vector of samples ,and its corresponding vector of lables\n",
        "\n",
        "    return np.asarray(data),np.asarray(data_labels)                               # the tow lists need to converted to numpy array so we can see their shapes \n",
        "\n",
        "\n",
        "train_data,train_labels = load_data(t_train)                                      # get train data and its labels using our created funnction\n",
        "val_data,val_labels = load_data(t_validation)                                     #get the validation data and their labels \n",
        "\n"
      ],
      "metadata": {
        "id": "pPjZTLCmfmCv",
        "colab": {
          "base_uri": "https://localhost:8080/"
        },
        "outputId": "4454ec7c-9c9c-4c29-93b4-d4ac5fd1bb60"
      },
      "execution_count": null,
      "outputs": [
        {
          "output_type": "stream",
          "name": "stderr",
          "text": [
            "<ipython-input-30-6a78c44f0de7>:13: VisibleDeprecationWarning: Creating an ndarray from ragged nested sequences (which is a list-or-tuple of lists-or-tuples-or ndarrays with different lengths or shapes) is deprecated. If you meant to do this, you must specify 'dtype=object' when creating the ndarray.\n",
            "  return np.asarray(data),np.asarray(data_labels)\n"
          ]
        }
      ]
    },
    {
      "cell_type": "code",
      "source": [
        "# Build a simple 3 layers sequential model \n",
        "\n",
        "\n",
        "model_t = keras.Sequential([\n",
        "    layers.Dense(128,activation=\"relu\"),\n",
        "    layers.Dense(128,activation=\"relu\"),\n",
        "    layers.Dense(5,activation=\"softmax\")\n",
        "])\n",
        "model_t.compile(optimizer=\"rmsprop\",loss=\"categorical_crossentropy\",metrics=[\"accuracy\"])"
      ],
      "metadata": {
        "id": "Pjb4N-kfZzft"
      },
      "execution_count": null,
      "outputs": []
    },
    {
      "cell_type": "code",
      "source": [
        "dimension = max(max([max(sequence) for sequence in train_data ]) ,max([max(sequence) for sequence in val_data ])) + 1 #search for the largest word index \n",
        "dimension"
      ],
      "metadata": {
        "colab": {
          "base_uri": "https://localhost:8080/"
        },
        "id": "HRpiuqhY_6HG",
        "outputId": "271ab7c1-2baf-45dc-848d-17e7d363f312"
      },
      "execution_count": null,
      "outputs": [
        {
          "output_type": "execute_result",
          "data": {
            "text/plain": [
              "63165"
            ]
          },
          "metadata": {},
          "execution_count": 32
        }
      ]
    },
    {
      "cell_type": "code",
      "source": [
        "\n",
        "import numpy as np\n",
        "def vectorize_data(sequences,dimension=63165):\n",
        "    \"\"\" this function will one hot encode each data sample by replacing each value with 1 corresponding to the index value \"\"\"\n",
        "    result = np.zeros((len(sequences),dimension))\n",
        "    for i,sequence in enumerate(sequences):\n",
        "        for j in sequence:\n",
        "            result[i,j] = 1.\n",
        "    return result\n",
        "x_train = vectorize_data((train_data)) \n",
        "x_val = vectorize_data(val_data)\n",
        "x_train.shape\n"
      ],
      "metadata": {
        "colab": {
          "base_uri": "https://localhost:8080/"
        },
        "id": "S8fjlrA6bcVe",
        "outputId": "73a591a6-7c47-4ecc-a63e-0ccb76a63da0"
      },
      "execution_count": null,
      "outputs": [
        {
          "output_type": "execute_result",
          "data": {
            "text/plain": [
              "(3899, 63165)"
            ]
          },
          "metadata": {},
          "execution_count": 33
        }
      ]
    },
    {
      "cell_type": "code",
      "source": [
        "y_train =np.asarray(train_labels).astype(\"float32\") # transforming labels to array of float32 \n",
        "y_val = np.asarray(val_labels).astype(\"float32\")"
      ],
      "metadata": {
        "id": "7xM1AX5IgowF"
      },
      "execution_count": null,
      "outputs": []
    },
    {
      "cell_type": "code",
      "source": [
        "# one hot encoding the labels\n",
        "from keras.utils import to_categorical\n",
        "y_train = to_categorical(y_train)\n",
        "y_val =  to_categorical(y_val)\n",
        "y_train.shape"
      ],
      "metadata": {
        "colab": {
          "base_uri": "https://localhost:8080/"
        },
        "id": "LIRelL0piCkZ",
        "outputId": "bf35ad26-d6da-45fc-f029-6e683135519a"
      },
      "execution_count": null,
      "outputs": [
        {
          "output_type": "execute_result",
          "data": {
            "text/plain": [
              "(3899, 5)"
            ]
          },
          "metadata": {},
          "execution_count": 35
        }
      ]
    },
    {
      "cell_type": "code",
      "source": [
        "history = model_t.fit(x_train,y_train,epochs=30,batch_size=64,validation_data=(x_val,y_val))"
      ],
      "metadata": {
        "colab": {
          "base_uri": "https://localhost:8080/"
        },
        "id": "ONX1LyCPaDs5",
        "outputId": "c50a3ccc-fc46-4c95-cfb6-b951576dd11d"
      },
      "execution_count": null,
      "outputs": [
        {
          "output_type": "stream",
          "name": "stdout",
          "text": [
            "Epoch 1/30\n",
            "61/61 [==============================] - 2s 23ms/step - loss: 1.2779 - accuracy: 0.5076 - val_loss: 1.2968 - val_accuracy: 0.4575\n",
            "Epoch 2/30\n",
            "61/61 [==============================] - 1s 16ms/step - loss: 1.2310 - accuracy: 0.5127 - val_loss: 1.2813 - val_accuracy: 0.4575\n",
            "Epoch 3/30\n",
            "61/61 [==============================] - 1s 16ms/step - loss: 1.2279 - accuracy: 0.5127 - val_loss: 1.2730 - val_accuracy: 0.4575\n",
            "Epoch 4/30\n",
            "61/61 [==============================] - 1s 16ms/step - loss: 1.2253 - accuracy: 0.5127 - val_loss: 1.2785 - val_accuracy: 0.4575\n",
            "Epoch 5/30\n",
            "61/61 [==============================] - 1s 16ms/step - loss: 1.2234 - accuracy: 0.5127 - val_loss: 1.2901 - val_accuracy: 0.4575\n",
            "Epoch 6/30\n",
            "61/61 [==============================] - 1s 16ms/step - loss: 1.2212 - accuracy: 0.5127 - val_loss: 1.2772 - val_accuracy: 0.4575\n",
            "Epoch 7/30\n",
            "61/61 [==============================] - 1s 16ms/step - loss: 1.2195 - accuracy: 0.5127 - val_loss: 1.2762 - val_accuracy: 0.4575\n",
            "Epoch 8/30\n",
            "61/61 [==============================] - 1s 16ms/step - loss: 1.2171 - accuracy: 0.5132 - val_loss: 1.2753 - val_accuracy: 0.4575\n",
            "Epoch 9/30\n",
            "61/61 [==============================] - 1s 16ms/step - loss: 1.2156 - accuracy: 0.5130 - val_loss: 1.2830 - val_accuracy: 0.4575\n",
            "Epoch 10/30\n",
            "61/61 [==============================] - 1s 16ms/step - loss: 1.2139 - accuracy: 0.5130 - val_loss: 1.2879 - val_accuracy: 0.4575\n",
            "Epoch 11/30\n",
            "61/61 [==============================] - 1s 16ms/step - loss: 1.2099 - accuracy: 0.5132 - val_loss: 1.2840 - val_accuracy: 0.4545\n",
            "Epoch 12/30\n",
            "61/61 [==============================] - 1s 16ms/step - loss: 1.2073 - accuracy: 0.5127 - val_loss: 1.2898 - val_accuracy: 0.4538\n",
            "Epoch 13/30\n",
            "61/61 [==============================] - 1s 16ms/step - loss: 1.2062 - accuracy: 0.5137 - val_loss: 1.2835 - val_accuracy: 0.4560\n",
            "Epoch 14/30\n",
            "61/61 [==============================] - 1s 15ms/step - loss: 1.2043 - accuracy: 0.5137 - val_loss: 1.2899 - val_accuracy: 0.4516\n",
            "Epoch 15/30\n",
            "61/61 [==============================] - 1s 16ms/step - loss: 1.2008 - accuracy: 0.5135 - val_loss: 1.2963 - val_accuracy: 0.4501\n",
            "Epoch 16/30\n",
            "61/61 [==============================] - 1s 19ms/step - loss: 1.1979 - accuracy: 0.5130 - val_loss: 1.2855 - val_accuracy: 0.4516\n",
            "Epoch 17/30\n",
            "61/61 [==============================] - 1s 19ms/step - loss: 1.1953 - accuracy: 0.5147 - val_loss: 1.2884 - val_accuracy: 0.4487\n",
            "Epoch 18/30\n",
            "61/61 [==============================] - 1s 16ms/step - loss: 1.1932 - accuracy: 0.5137 - val_loss: 1.3052 - val_accuracy: 0.4523\n",
            "Epoch 19/30\n",
            "61/61 [==============================] - 1s 15ms/step - loss: 1.1908 - accuracy: 0.5158 - val_loss: 1.3144 - val_accuracy: 0.4501\n",
            "Epoch 20/30\n",
            "61/61 [==============================] - 1s 16ms/step - loss: 1.1858 - accuracy: 0.5176 - val_loss: 1.3040 - val_accuracy: 0.4516\n",
            "Epoch 21/30\n",
            "61/61 [==============================] - 1s 15ms/step - loss: 1.1814 - accuracy: 0.5137 - val_loss: 1.3080 - val_accuracy: 0.4501\n",
            "Epoch 22/30\n",
            "61/61 [==============================] - 1s 17ms/step - loss: 1.1782 - accuracy: 0.5217 - val_loss: 1.3136 - val_accuracy: 0.4494\n",
            "Epoch 23/30\n",
            "61/61 [==============================] - 1s 15ms/step - loss: 1.1752 - accuracy: 0.5183 - val_loss: 1.3340 - val_accuracy: 0.4494\n",
            "Epoch 24/30\n",
            "61/61 [==============================] - 1s 15ms/step - loss: 1.1736 - accuracy: 0.5222 - val_loss: 1.3252 - val_accuracy: 0.4545\n",
            "Epoch 25/30\n",
            "61/61 [==============================] - 1s 16ms/step - loss: 1.1692 - accuracy: 0.5237 - val_loss: 1.3114 - val_accuracy: 0.4355\n",
            "Epoch 26/30\n",
            "61/61 [==============================] - 1s 16ms/step - loss: 1.1655 - accuracy: 0.5196 - val_loss: 1.3241 - val_accuracy: 0.4479\n",
            "Epoch 27/30\n",
            "61/61 [==============================] - 1s 16ms/step - loss: 1.1599 - accuracy: 0.5247 - val_loss: 1.3290 - val_accuracy: 0.4494\n",
            "Epoch 28/30\n",
            "61/61 [==============================] - 1s 16ms/step - loss: 1.1569 - accuracy: 0.5253 - val_loss: 1.3237 - val_accuracy: 0.4282\n",
            "Epoch 29/30\n",
            "61/61 [==============================] - 1s 16ms/step - loss: 1.1534 - accuracy: 0.5304 - val_loss: 1.3302 - val_accuracy: 0.4355\n",
            "Epoch 30/30\n",
            "61/61 [==============================] - 1s 16ms/step - loss: 1.1490 - accuracy: 0.5283 - val_loss: 1.3370 - val_accuracy: 0.4362\n"
          ]
        }
      ]
    },
    {
      "cell_type": "markdown",
      "source": [
        "### it seems that a sequential model is performing a littel better than the CNN on images which means that the textual data has more clear bonds and patterns than images \n",
        "\n",
        "1.   I will Add more layers to the model to improve its power \n",
        "2.   I will use the EarlyStop callback to stop training the model as soon the accuracy stalls, and modelcheckpoint callbacks to save the best version of the model as I did in the CNN training  section .\n",
        "\n"
      ],
      "metadata": {
        "id": "UPUmUSp6D4Po"
      }
    },
    {
      "cell_type": "code",
      "source": [
        "#definig a new model with more layers \n",
        "model_t_1 = keras.Sequential([\n",
        "    layers.Dense(128,activation=\"relu\"),\n",
        "    layers.Dense(128,activation=\"relu\"),\n",
        "    layers.Dense(256,activation=\"relu\"),\n",
        "    layers.Dense(512,activation=\"relu\"),\n",
        "    layers.Dense(5,activation=\"softmax\")\n",
        "])\n",
        "model_t_1.compile(optimizer=\"rmsprop\",loss=\"categorical_crossentropy\",metrics=[\"accuracy\"])"
      ],
      "metadata": {
        "id": "-l4STPmiD3Gq"
      },
      "execution_count": null,
      "outputs": []
    },
    {
      "cell_type": "code",
      "source": [
        "callback_list = [keras.callbacks.EarlyStopping(monitor=\"val_accuracy\",patience=2),\n",
        "                 keras.callbacks.ModelCheckpoint(filepath=\"checkpoint_text_model.keras\",monitor=\"val_accuracy\",save_best_only=True)]\n",
        "history = model_t_1.fit(x_train,y_train,epochs=30,batch_size=64,validation_data=(x_val,y_val),callbacks=callback_list)"
      ],
      "metadata": {
        "colab": {
          "base_uri": "https://localhost:8080/"
        },
        "id": "aflKr0quFSiE",
        "outputId": "38c35b37-fd28-4de8-8d76-833be19ebbe3"
      },
      "execution_count": null,
      "outputs": [
        {
          "output_type": "stream",
          "name": "stdout",
          "text": [
            "Epoch 1/30\n",
            "61/61 [==============================] - 2s 26ms/step - loss: 1.2655 - accuracy: 0.5050 - val_loss: 1.2725 - val_accuracy: 0.4575\n",
            "Epoch 2/30\n",
            "61/61 [==============================] - 1s 16ms/step - loss: 1.2365 - accuracy: 0.5127 - val_loss: 1.2680 - val_accuracy: 0.4575\n",
            "Epoch 3/30\n",
            "61/61 [==============================] - 1s 16ms/step - loss: 1.2322 - accuracy: 0.5127 - val_loss: 1.2718 - val_accuracy: 0.4575\n"
          ]
        }
      ]
    },
    {
      "cell_type": "markdown",
      "source": [
        "### it seems that text alone wont pass the 50% accuracy ,I will now use a model with multi inputs by combining the CNN and the sequential models with the help of the functional API "
      ],
      "metadata": {
        "id": "SkYu59N4HAEo"
      }
    },
    {
      "cell_type": "code",
      "source": [
        "input_text = keras.Input(shape=(dimension,))\n",
        "input_images = keras.Input(shape=(300,300,3))\n",
        "\n",
        "#defining the model that will process text\n",
        "x = layers.Dense(64,activation=\"relu\")(input_text)\n",
        "x = layers.Dense(128,activation=\"relu\")(x)\n",
        "x = layers.Dense(256,activation = \"relu\")(x)\n",
        "outputs = layers.Dense(28,activation = \"relu\")(x)   #intermediate layer to use it for concatination \n",
        "model_text = keras.Model(inputs = input_text,outputs = outputs)\n",
        "\n",
        "#defining the model that will process images I will use the same model as before but with changing the layer that becomes after Flatten\n",
        "y = layers.Rescaling(1./255)(input_images)                                      # rescaling inputs by deviding each pixel by 255\n",
        "y = layers.Conv2D(filters = 32,kernel_size=3,activation=\"relu\")(y)\n",
        "y = layers.MaxPooling2D(pool_size=2)(y)                                   #downsampling the input ,deviding the input shape by 2 and pooling the max value by a 2*2 window\n",
        "y = layers.Conv2D(filters = 64,kernel_size = 3,activation = \"relu\")(y)\n",
        "y = layers.MaxPooling2D(pool_size = 2)(y)\n",
        "y = layers.Conv2D(filters=128,kernel_size = 3,activation =\"relu\" )(y)\n",
        "y = layers.MaxPooling2D(pool_size = 2)(y)\n",
        "y = layers.Conv2D(filters=256,kernel_size = 3,activation =\"relu\" )(y)\n",
        "y = layers.MaxPooling2D(pool_size = 2)(y)\n",
        "y = layers.Conv2D(filters=256,kernel_size = 3,activation =\"relu\" )(y)\n",
        "y = layers.Flatten()(y)\n",
        "\n",
        "outputs_2 = layers.Dense(28,activation = \"relu\")(y)\n",
        "model_images = keras.Model(inputs = input_images,outputs = outputs_2 )\n",
        "\n",
        "# concatination both model outputs \n",
        "features = layers.concatenate([model_images.output,model_text.output])\n",
        " \n",
        "# we finish by adding the classification layer \n",
        "outputs_3 = layers.Dense(5,activation=\"softmax\")(features)\n",
        "\n",
        "final_model = keras.Model(inputs = [input_images,input_text],outputs =outputs_3 )\n",
        "\n",
        "\n"
      ],
      "metadata": {
        "id": "FyLfcoh8HlyM"
      },
      "execution_count": null,
      "outputs": []
    },
    {
      "cell_type": "code",
      "source": [
        "#lets check our model and plot it using the plot_model functionality\n",
        "keras.utils.plot_model(final_model)"
      ],
      "metadata": {
        "colab": {
          "base_uri": "https://localhost:8080/",
          "height": 1000
        },
        "id": "EMggs7N9OmaY",
        "outputId": "9f11bafe-6dcf-4fd7-e5e8-d0b0d0855f07"
      },
      "execution_count": null,
      "outputs": [
        {
          "output_type": "execute_result",
          "data": {
            "image/png": "[encoded data removed]",
            "text/plain": [
              "<IPython.core.display.Image object>"
            ]
          },
          "metadata": {},
          "execution_count": 40
        }
      ]
    },
    {
      "cell_type": "code",
      "source": [
        "#let us compile and fit the new model \n",
        "\n",
        "\n",
        "final_model.compile(optimizer=\"rmsprop\",loss=\"sparse_categorical_crossentropy\",metrics=[\"accuracy\"])\n",
        "history = final_model.fit({\"input_images\":train_dataset,\"input_text\":x_train},epochs= 10)\n"
      ],
      "metadata": {
        "colab": {
          "base_uri": "https://localhost:8080/",
          "height": 365
        },
        "id": "Me30L7xcO9IU",
        "outputId": "855447fe-bc3e-4ad5-c39b-bcef5b3820de"
      },
      "execution_count": null,
      "outputs": [
        {
          "output_type": "error",
          "ename": "ValueError",
          "evalue": "ignored",
          "traceback": [
            "\u001b[0;31m---------------------------------------------------------------------------\u001b[0m",
            "\u001b[0;31mValueError\u001b[0m                                Traceback (most recent call last)",
            "\u001b[0;32m<ipython-input-41-3ebf30d895a4>\u001b[0m in \u001b[0;36m<module>\u001b[0;34m\u001b[0m\n\u001b[1;32m      3\u001b[0m \u001b[0;34m\u001b[0m\u001b[0m\n\u001b[1;32m      4\u001b[0m \u001b[0mfinal_model\u001b[0m\u001b[0;34m.\u001b[0m\u001b[0mcompile\u001b[0m\u001b[0;34m(\u001b[0m\u001b[0moptimizer\u001b[0m\u001b[0;34m=\u001b[0m\u001b[0;34m\"rmsprop\"\u001b[0m\u001b[0;34m,\u001b[0m\u001b[0mloss\u001b[0m\u001b[0;34m=\u001b[0m\u001b[0;34m\"sparse_categorical_crossentropy\"\u001b[0m\u001b[0;34m,\u001b[0m\u001b[0mmetrics\u001b[0m\u001b[0;34m=\u001b[0m\u001b[0;34m[\u001b[0m\u001b[0;34m\"accuracy\"\u001b[0m\u001b[0;34m]\u001b[0m\u001b[0;34m)\u001b[0m\u001b[0;34m\u001b[0m\u001b[0;34m\u001b[0m\u001b[0m\n\u001b[0;32m----> 5\u001b[0;31m \u001b[0mhistory\u001b[0m \u001b[0;34m=\u001b[0m \u001b[0mfinal_model\u001b[0m\u001b[0;34m.\u001b[0m\u001b[0mfit\u001b[0m\u001b[0;34m(\u001b[0m\u001b[0;34m{\u001b[0m\u001b[0;34m\"input_images\"\u001b[0m\u001b[0;34m:\u001b[0m\u001b[0mtrain_dataset\u001b[0m\u001b[0;34m,\u001b[0m\u001b[0;34m\"input_text\"\u001b[0m\u001b[0;34m:\u001b[0m\u001b[0mx_train\u001b[0m\u001b[0;34m}\u001b[0m\u001b[0;34m,\u001b[0m\u001b[0mepochs\u001b[0m\u001b[0;34m=\u001b[0m \u001b[0;36m10\u001b[0m\u001b[0;34m)\u001b[0m\u001b[0;34m\u001b[0m\u001b[0;34m\u001b[0m\u001b[0m\n\u001b[0m",
            "\u001b[0;32m/usr/local/lib/python3.8/dist-packages/keras/utils/traceback_utils.py\u001b[0m in \u001b[0;36merror_handler\u001b[0;34m(*args, **kwargs)\u001b[0m\n\u001b[1;32m     65\u001b[0m     \u001b[0;32mexcept\u001b[0m \u001b[0mException\u001b[0m \u001b[0;32mas\u001b[0m \u001b[0me\u001b[0m\u001b[0;34m:\u001b[0m  \u001b[0;31m# pylint: disable=broad-except\u001b[0m\u001b[0;34m\u001b[0m\u001b[0;34m\u001b[0m\u001b[0m\n\u001b[1;32m     66\u001b[0m       \u001b[0mfiltered_tb\u001b[0m \u001b[0;34m=\u001b[0m \u001b[0m_process_traceback_frames\u001b[0m\u001b[0;34m(\u001b[0m\u001b[0me\u001b[0m\u001b[0;34m.\u001b[0m\u001b[0m__traceback__\u001b[0m\u001b[0;34m)\u001b[0m\u001b[0;34m\u001b[0m\u001b[0;34m\u001b[0m\u001b[0m\n\u001b[0;32m---> 67\u001b[0;31m       \u001b[0;32mraise\u001b[0m \u001b[0me\u001b[0m\u001b[0;34m.\u001b[0m\u001b[0mwith_traceback\u001b[0m\u001b[0;34m(\u001b[0m\u001b[0mfiltered_tb\u001b[0m\u001b[0;34m)\u001b[0m \u001b[0;32mfrom\u001b[0m \u001b[0;32mNone\u001b[0m\u001b[0;34m\u001b[0m\u001b[0;34m\u001b[0m\u001b[0m\n\u001b[0m\u001b[1;32m     68\u001b[0m     \u001b[0;32mfinally\u001b[0m\u001b[0;34m:\u001b[0m\u001b[0;34m\u001b[0m\u001b[0;34m\u001b[0m\u001b[0m\n\u001b[1;32m     69\u001b[0m       \u001b[0;32mdel\u001b[0m \u001b[0mfiltered_tb\u001b[0m\u001b[0;34m\u001b[0m\u001b[0;34m\u001b[0m\u001b[0m\n",
            "\u001b[0;32m/usr/local/lib/python3.8/dist-packages/keras/engine/data_adapter.py\u001b[0m in \u001b[0;36mselect_data_adapter\u001b[0;34m(x, y)\u001b[0m\n\u001b[1;32m    983\u001b[0m   \u001b[0;32mif\u001b[0m \u001b[0;32mnot\u001b[0m \u001b[0madapter_cls\u001b[0m\u001b[0;34m:\u001b[0m\u001b[0;34m\u001b[0m\u001b[0;34m\u001b[0m\u001b[0m\n\u001b[1;32m    984\u001b[0m     \u001b[0;31m# TODO(scottzhu): This should be a less implementation-specific error.\u001b[0m\u001b[0;34m\u001b[0m\u001b[0;34m\u001b[0m\u001b[0;34m\u001b[0m\u001b[0m\n\u001b[0;32m--> 985\u001b[0;31m     raise ValueError(\n\u001b[0m\u001b[1;32m    986\u001b[0m         \u001b[0;34m\"Failed to find data adapter that can handle \"\u001b[0m\u001b[0;34m\u001b[0m\u001b[0;34m\u001b[0m\u001b[0m\n\u001b[1;32m    987\u001b[0m         \"input: {}, {}\".format(\n",
            "\u001b[0;31mValueError\u001b[0m: Failed to find data adapter that can handle input: (<class 'dict'> containing {\"<class 'str'>\"} keys and {\"<class 'tensorflow.python.data.ops.dataset_ops.BatchDataset'>\", \"<class 'numpy.ndarray'>\"} values), <class 'NoneType'>"
          ]
        }
      ]
    },
    {
      "cell_type": "markdown",
      "source": [
        "### That didn't work becuase the train_dataset object contains the labels and the labels for the text model are not coherent with images \n",
        "### we need more time to deal with it but I will skip it becuase there is no time left for the report and to push the notebook "
      ],
      "metadata": {
        "id": "peuW29TDy7hO"
      }
    },
    {
      "cell_type": "code",
      "source": [
        "# there is no improvments at all I will try to use a pretrained model \n",
        "#I will load the VGG16 which is a model trained on the Imagnet dataset that contains 1000 classes so what I need to do is remove the clsiffication layer \n",
        "#Frezz the model base weights and retrain the model on my images ,luckilly I can only load the Base by setting te include top to False\n",
        "new_model_base = keras.applications.vgg16.VGG16(weights=\"imagenet\",include_top=False,input_shape=(300, 300, 3))\n",
        "\n"
      ],
      "metadata": {
        "id": "oIFsdPPRrc_-",
        "colab": {
          "base_uri": "https://localhost:8080/"
        },
        "outputId": "8b55fa7c-6f6e-4e20-c179-3282b42e0325"
      },
      "execution_count": null,
      "outputs": [
        {
          "output_type": "stream",
          "name": "stdout",
          "text": [
            "Downloading data from https://storage.googleapis.com/tensorflow/keras-applications/vgg16/vgg16_weights_tf_dim_ordering_tf_kernels_notop.h5\n",
            "58889256/58889256 [==============================] - 3s 0us/step\n"
          ]
        }
      ]
    },
    {
      "cell_type": "code",
      "source": [
        "new_model_base.summary()"
      ],
      "metadata": {
        "colab": {
          "base_uri": "https://localhost:8080/"
        },
        "id": "UZvtJhx1v124",
        "outputId": "f595865e-4d35-406b-ff75-af5a18fb1605"
      },
      "execution_count": null,
      "outputs": [
        {
          "output_type": "stream",
          "name": "stdout",
          "text": [
            "Model: \"vgg16\"\n",
            "_________________________________________________________________\n",
            " Layer (type)                Output Shape              Param #   \n",
            "=================================================================\n",
            " input_4 (InputLayer)        [(None, 300, 300, 3)]     0         \n",
            "                                                                 \n",
            " block1_conv1 (Conv2D)       (None, 300, 300, 64)      1792      \n",
            "                                                                 \n",
            " block1_conv2 (Conv2D)       (None, 300, 300, 64)      36928     \n",
            "                                                                 \n",
            " block1_pool (MaxPooling2D)  (None, 150, 150, 64)      0         \n",
            "                                                                 \n",
            " block2_conv1 (Conv2D)       (None, 150, 150, 128)     73856     \n",
            "                                                                 \n",
            " block2_conv2 (Conv2D)       (None, 150, 150, 128)     147584    \n",
            "                                                                 \n",
            " block2_pool (MaxPooling2D)  (None, 75, 75, 128)       0         \n",
            "                                                                 \n",
            " block3_conv1 (Conv2D)       (None, 75, 75, 256)       295168    \n",
            "                                                                 \n",
            " block3_conv2 (Conv2D)       (None, 75, 75, 256)       590080    \n",
            "                                                                 \n",
            " block3_conv3 (Conv2D)       (None, 75, 75, 256)       590080    \n",
            "                                                                 \n",
            " block3_pool (MaxPooling2D)  (None, 37, 37, 256)       0         \n",
            "                                                                 \n",
            " block4_conv1 (Conv2D)       (None, 37, 37, 512)       1180160   \n",
            "                                                                 \n",
            " block4_conv2 (Conv2D)       (None, 37, 37, 512)       2359808   \n",
            "                                                                 \n",
            " block4_conv3 (Conv2D)       (None, 37, 37, 512)       2359808   \n",
            "                                                                 \n",
            " block4_pool (MaxPooling2D)  (None, 18, 18, 512)       0         \n",
            "                                                                 \n",
            " block5_conv1 (Conv2D)       (None, 18, 18, 512)       2359808   \n",
            "                                                                 \n",
            " block5_conv2 (Conv2D)       (None, 18, 18, 512)       2359808   \n",
            "                                                                 \n",
            " block5_conv3 (Conv2D)       (None, 18, 18, 512)       2359808   \n",
            "                                                                 \n",
            " block5_pool (MaxPooling2D)  (None, 9, 9, 512)         0         \n",
            "                                                                 \n",
            "=================================================================\n",
            "Total params: 14,714,688\n",
            "Trainable params: 14,714,688\n",
            "Non-trainable params: 0\n",
            "_________________________________________________________________\n"
          ]
        }
      ]
    },
    {
      "cell_type": "markdown",
      "source": [
        "### After importing the base model ,we can use its weights and runs it through our dataset ,record the outputs of the process and then use them as an input to another classifier this exactly equivalent to freezing model weights ,adding a densly classification layer to it and fitting it to our data what will happend is the base will output a prediction and the training will be held only on the classification layer "
      ],
      "metadata": {
        "id": "mBig7zwWao0A"
      }
    },
    {
      "cell_type": "code",
      "source": [
        "def get_features_and_labels(dataset):\n",
        "    \"\"\" This functions runs a prediction over our dataset and record the predicted values in numpy arrays\"\"\"\n",
        "    all_features = []\n",
        "    all_labels = []\n",
        "    for images, labels in dataset:\n",
        "        preprocessed_images = keras.applications.vgg16.preprocess_input(images)   #Preprocessing images which include normalization \n",
        "        features = new_model_base.predict(preprocessed_images)                    #predict using the pretrained model base \n",
        "        all_features.append(features)                                             #store the predicted values and there labels \n",
        "        all_labels.append(labels)\n",
        "    return np.concatenate(all_features), np.concatenate(all_labels)\n",
        "\n",
        "\n"
      ],
      "metadata": {
        "id": "yHwA_GFcwFRC"
      },
      "execution_count": null,
      "outputs": []
    },
    {
      "cell_type": "code",
      "source": [
        "train_features, train_labels = get_features_and_labels(train_dataset)\n",
        "val_features, val_labels = get_features_and_labels(validation_dataset)"
      ],
      "metadata": {
        "colab": {
          "base_uri": "https://localhost:8080/"
        },
        "id": "ajDvIKIGwycR",
        "outputId": "72ece73f-cb73-4c83-8920-115e6ec3d811"
      },
      "execution_count": null,
      "outputs": [
        {
          "output_type": "stream",
          "name": "stdout",
          "text": [
            "1/1 [==============================] - 6s 6s/step\n",
            "1/1 [==============================] - 0s 37ms/step\n",
            "1/1 [==============================] - 0s 38ms/step\n",
            "1/1 [==============================] - 0s 52ms/step\n",
            "1/1 [==============================] - 0s 50ms/step\n",
            "1/1 [==============================] - 0s 54ms/step\n",
            "1/1 [==============================] - 0s 60ms/step\n",
            "1/1 [==============================] - 0s 46ms/step\n",
            "1/1 [==============================] - 0s 46ms/step\n",
            "1/1 [==============================] - 0s 44ms/step\n",
            "1/1 [==============================] - 0s 61ms/step\n",
            "1/1 [==============================] - 0s 138ms/step\n",
            "1/1 [==============================] - 0s 44ms/step\n",
            "1/1 [==============================] - 0s 73ms/step\n",
            "1/1 [==============================] - 0s 54ms/step\n",
            "1/1 [==============================] - 0s 40ms/step\n",
            "1/1 [==============================] - 0s 61ms/step\n",
            "1/1 [==============================] - 0s 44ms/step\n",
            "1/1 [==============================] - 0s 84ms/step\n",
            "1/1 [==============================] - 0s 41ms/step\n",
            "1/1 [==============================] - 0s 51ms/step\n",
            "1/1 [==============================] - 0s 63ms/step\n",
            "1/1 [==============================] - 0s 42ms/step\n",
            "1/1 [==============================] - 0s 65ms/step\n",
            "1/1 [==============================] - 0s 47ms/step\n",
            "1/1 [==============================] - 0s 50ms/step\n",
            "1/1 [==============================] - 0s 42ms/step\n",
            "1/1 [==============================] - 0s 53ms/step\n",
            "1/1 [==============================] - 0s 56ms/step\n",
            "1/1 [==============================] - 0s 64ms/step\n",
            "1/1 [==============================] - 0s 63ms/step\n",
            "1/1 [==============================] - 0s 50ms/step\n",
            "1/1 [==============================] - 0s 50ms/step\n",
            "1/1 [==============================] - 0s 61ms/step\n",
            "1/1 [==============================] - 0s 52ms/step\n",
            "1/1 [==============================] - 0s 71ms/step\n",
            "1/1 [==============================] - 0s 46ms/step\n",
            "1/1 [==============================] - 0s 44ms/step\n",
            "1/1 [==============================] - 0s 67ms/step\n",
            "1/1 [==============================] - 0s 95ms/step\n",
            "1/1 [==============================] - 0s 64ms/step\n",
            "1/1 [==============================] - 0s 40ms/step\n",
            "1/1 [==============================] - 0s 55ms/step\n",
            "1/1 [==============================] - 0s 41ms/step\n",
            "1/1 [==============================] - 0s 89ms/step\n",
            "1/1 [==============================] - 0s 73ms/step\n",
            "1/1 [==============================] - 0s 119ms/step\n",
            "1/1 [==============================] - 0s 94ms/step\n",
            "1/1 [==============================] - 0s 65ms/step\n",
            "1/1 [==============================] - 0s 74ms/step\n",
            "1/1 [==============================] - 0s 72ms/step\n",
            "1/1 [==============================] - 0s 43ms/step\n",
            "1/1 [==============================] - 0s 46ms/step\n",
            "1/1 [==============================] - 0s 50ms/step\n",
            "1/1 [==============================] - 0s 77ms/step\n",
            "1/1 [==============================] - 0s 46ms/step\n",
            "1/1 [==============================] - 0s 54ms/step\n",
            "1/1 [==============================] - 0s 40ms/step\n",
            "1/1 [==============================] - 0s 63ms/step\n",
            "1/1 [==============================] - 0s 53ms/step\n",
            "1/1 [==============================] - 0s 40ms/step\n",
            "1/1 [==============================] - 0s 65ms/step\n",
            "1/1 [==============================] - 0s 64ms/step\n",
            "1/1 [==============================] - 0s 56ms/step\n",
            "1/1 [==============================] - 0s 50ms/step\n",
            "1/1 [==============================] - 0s 57ms/step\n",
            "1/1 [==============================] - 0s 44ms/step\n",
            "1/1 [==============================] - 0s 46ms/step\n",
            "1/1 [==============================] - 0s 41ms/step\n",
            "1/1 [==============================] - 0s 47ms/step\n",
            "1/1 [==============================] - 0s 42ms/step\n",
            "1/1 [==============================] - 0s 81ms/step\n",
            "1/1 [==============================] - 0s 81ms/step\n",
            "1/1 [==============================] - 0s 34ms/step\n",
            "1/1 [==============================] - 0s 58ms/step\n",
            "1/1 [==============================] - 0s 48ms/step\n",
            "1/1 [==============================] - 0s 70ms/step\n",
            "1/1 [==============================] - 0s 64ms/step\n",
            "1/1 [==============================] - 0s 41ms/step\n",
            "1/1 [==============================] - 0s 66ms/step\n",
            "1/1 [==============================] - 0s 55ms/step\n",
            "1/1 [==============================] - 0s 82ms/step\n",
            "1/1 [==============================] - 0s 65ms/step\n",
            "1/1 [==============================] - 0s 80ms/step\n",
            "1/1 [==============================] - 0s 70ms/step\n",
            "1/1 [==============================] - 0s 50ms/step\n",
            "1/1 [==============================] - 0s 42ms/step\n",
            "1/1 [==============================] - 0s 53ms/step\n",
            "1/1 [==============================] - 0s 53ms/step\n",
            "1/1 [==============================] - 0s 73ms/step\n",
            "1/1 [==============================] - 0s 59ms/step\n",
            "1/1 [==============================] - 0s 60ms/step\n",
            "1/1 [==============================] - 0s 53ms/step\n",
            "1/1 [==============================] - 0s 78ms/step\n",
            "1/1 [==============================] - 0s 39ms/step\n",
            "1/1 [==============================] - 0s 50ms/step\n",
            "1/1 [==============================] - 0s 46ms/step\n",
            "1/1 [==============================] - 0s 59ms/step\n",
            "1/1 [==============================] - 0s 50ms/step\n",
            "1/1 [==============================] - 0s 46ms/step\n",
            "1/1 [==============================] - 0s 54ms/step\n",
            "1/1 [==============================] - 0s 45ms/step\n",
            "1/1 [==============================] - 0s 96ms/step\n",
            "1/1 [==============================] - 0s 74ms/step\n",
            "1/1 [==============================] - 0s 81ms/step\n",
            "1/1 [==============================] - 0s 48ms/step\n",
            "1/1 [==============================] - 0s 43ms/step\n",
            "1/1 [==============================] - 0s 52ms/step\n",
            "1/1 [==============================] - 0s 43ms/step\n",
            "1/1 [==============================] - 0s 65ms/step\n",
            "1/1 [==============================] - 0s 43ms/step\n",
            "1/1 [==============================] - 0s 53ms/step\n",
            "1/1 [==============================] - 0s 40ms/step\n",
            "1/1 [==============================] - 0s 50ms/step\n",
            "1/1 [==============================] - 0s 55ms/step\n",
            "1/1 [==============================] - 0s 60ms/step\n",
            "1/1 [==============================] - 0s 37ms/step\n",
            "1/1 [==============================] - 0s 45ms/step\n",
            "1/1 [==============================] - 0s 35ms/step\n",
            "1/1 [==============================] - 0s 35ms/step\n",
            "1/1 [==============================] - 0s 35ms/step\n",
            "1/1 [==============================] - 4s 4s/step\n",
            "1/1 [==============================] - 0s 34ms/step\n",
            "1/1 [==============================] - 0s 37ms/step\n",
            "1/1 [==============================] - 0s 41ms/step\n",
            "1/1 [==============================] - 0s 44ms/step\n",
            "1/1 [==============================] - 0s 47ms/step\n",
            "1/1 [==============================] - 0s 57ms/step\n",
            "1/1 [==============================] - 0s 40ms/step\n",
            "1/1 [==============================] - 0s 52ms/step\n",
            "1/1 [==============================] - 0s 55ms/step\n",
            "1/1 [==============================] - 0s 46ms/step\n",
            "1/1 [==============================] - 0s 50ms/step\n",
            "1/1 [==============================] - 0s 46ms/step\n",
            "1/1 [==============================] - 0s 67ms/step\n",
            "1/1 [==============================] - 0s 40ms/step\n",
            "1/1 [==============================] - 0s 48ms/step\n",
            "1/1 [==============================] - 0s 43ms/step\n",
            "1/1 [==============================] - 0s 64ms/step\n",
            "1/1 [==============================] - 0s 40ms/step\n",
            "1/1 [==============================] - 0s 44ms/step\n",
            "1/1 [==============================] - 0s 40ms/step\n",
            "1/1 [==============================] - 0s 45ms/step\n",
            "1/1 [==============================] - 0s 63ms/step\n",
            "1/1 [==============================] - 0s 83ms/step\n",
            "1/1 [==============================] - 0s 40ms/step\n",
            "1/1 [==============================] - 0s 40ms/step\n",
            "1/1 [==============================] - 0s 42ms/step\n",
            "1/1 [==============================] - 0s 54ms/step\n",
            "1/1 [==============================] - 0s 41ms/step\n",
            "1/1 [==============================] - 0s 47ms/step\n",
            "1/1 [==============================] - 0s 43ms/step\n",
            "1/1 [==============================] - 0s 44ms/step\n",
            "1/1 [==============================] - 0s 42ms/step\n",
            "1/1 [==============================] - 0s 54ms/step\n",
            "1/1 [==============================] - 0s 46ms/step\n",
            "1/1 [==============================] - 0s 37ms/step\n",
            "1/1 [==============================] - 0s 35ms/step\n",
            "1/1 [==============================] - 0s 34ms/step\n",
            "1/1 [==============================] - 0s 39ms/step\n",
            "1/1 [==============================] - 0s 35ms/step\n",
            "1/1 [==============================] - 0s 34ms/step\n",
            "1/1 [==============================] - 0s 35ms/step\n",
            "1/1 [==============================] - 0s 43ms/step\n",
            "1/1 [==============================] - 3s 3s/step\n"
          ]
        }
      ]
    },
    {
      "cell_type": "code",
      "source": [
        "#lets check the shape of our train_features so we can know what is the shape of data that will be fed to the classifier\n",
        "train_features.shape"
      ],
      "metadata": {
        "id": "OC2uhd3OmN13",
        "colab": {
          "base_uri": "https://localhost:8080/"
        },
        "outputId": "de3256c8-17e6-4048-ee16-b7ed8316e188"
      },
      "execution_count": null,
      "outputs": [
        {
          "output_type": "execute_result",
          "data": {
            "text/plain": [
              "(3899, 9, 9, 512)"
            ]
          },
          "metadata": {},
          "execution_count": 47
        }
      ]
    },
    {
      "cell_type": "markdown",
      "source": [
        "## We can now define our  densly connected classifier"
      ],
      "metadata": {
        "id": "UReGXsc6e7Es"
      }
    },
    {
      "cell_type": "code",
      "source": [
        "inputs = keras.Input(shape=(9,9,512)) #the input layer\n",
        "x = layers.Flatten()(inputs)\n",
        "x = layers.Dense(256,activation = \"relu\")(x)\n",
        "outputs = layers.Dense(5,activation =\"softmax\")(x)\n",
        "\n",
        "pretrained_model = keras.Model(inputs = inputs,outputs = outputs)\n"
      ],
      "metadata": {
        "id": "LWKbRQwqezp5"
      },
      "execution_count": 58,
      "outputs": []
    },
    {
      "cell_type": "code",
      "source": [
        "# complile and fit \n",
        "pretrained_model.compile(optimizer=\"rmsprop\",loss=\"sparse_categorical_crossentropy\",metrics=[\"accuracy\"])\n",
        "history = pretrained_model.fit(train_features,train_labels,epochs=20,batch_size=128,validation_data=(val_features,val_labels))"
      ],
      "metadata": {
        "colab": {
          "base_uri": "https://localhost:8080/"
        },
        "id": "xlg4eMMugGTI",
        "outputId": "0cefa9ae-00da-4788-becf-b1d7b20c28b7"
      },
      "execution_count": 64,
      "outputs": [
        {
          "output_type": "stream",
          "name": "stdout",
          "text": [
            "Epoch 1/20\n",
            "31/31 [==============================] - 1s 26ms/step - loss: 4.7870 - accuracy: 0.8736 - val_loss: 38.8353 - val_accuracy: 0.3197\n",
            "Epoch 2/20\n",
            "31/31 [==============================] - 1s 18ms/step - loss: 2.4696 - accuracy: 0.9125 - val_loss: 41.3709 - val_accuracy: 0.3643\n",
            "Epoch 3/20\n",
            "31/31 [==============================] - 1s 17ms/step - loss: 2.1768 - accuracy: 0.9197 - val_loss: 43.5981 - val_accuracy: 0.3826\n",
            "Epoch 4/20\n",
            "31/31 [==============================] - 1s 17ms/step - loss: 2.1067 - accuracy: 0.9143 - val_loss: 45.6690 - val_accuracy: 0.4082\n",
            "Epoch 5/20\n",
            "31/31 [==============================] - 1s 18ms/step - loss: 1.8631 - accuracy: 0.9305 - val_loss: 39.9545 - val_accuracy: 0.3650\n",
            "Epoch 6/20\n",
            "31/31 [==============================] - 1s 17ms/step - loss: 2.1298 - accuracy: 0.9228 - val_loss: 44.5312 - val_accuracy: 0.3855\n",
            "Epoch 7/20\n",
            "31/31 [==============================] - 1s 18ms/step - loss: 2.2272 - accuracy: 0.9195 - val_loss: 43.9270 - val_accuracy: 0.3731\n",
            "Epoch 8/20\n",
            "31/31 [==============================] - 1s 17ms/step - loss: 2.1440 - accuracy: 0.9213 - val_loss: 46.4232 - val_accuracy: 0.3943\n",
            "Epoch 9/20\n",
            "31/31 [==============================] - 1s 17ms/step - loss: 2.2043 - accuracy: 0.9238 - val_loss: 47.6598 - val_accuracy: 0.4023\n",
            "Epoch 10/20\n",
            "31/31 [==============================] - 1s 18ms/step - loss: 2.1682 - accuracy: 0.9261 - val_loss: 46.8333 - val_accuracy: 0.4016\n",
            "Epoch 11/20\n",
            "31/31 [==============================] - 1s 17ms/step - loss: 1.8484 - accuracy: 0.9338 - val_loss: 48.1482 - val_accuracy: 0.3921\n",
            "Epoch 12/20\n",
            "31/31 [==============================] - 1s 17ms/step - loss: 1.8918 - accuracy: 0.9287 - val_loss: 45.1689 - val_accuracy: 0.3621\n",
            "Epoch 13/20\n",
            "31/31 [==============================] - 1s 17ms/step - loss: 2.0166 - accuracy: 0.9336 - val_loss: 45.5942 - val_accuracy: 0.3555\n",
            "Epoch 14/20\n",
            "31/31 [==============================] - 1s 17ms/step - loss: 1.7691 - accuracy: 0.9361 - val_loss: 60.9718 - val_accuracy: 0.4338\n",
            "Epoch 15/20\n",
            "31/31 [==============================] - 1s 18ms/step - loss: 2.1816 - accuracy: 0.9264 - val_loss: 49.3065 - val_accuracy: 0.3965\n",
            "Epoch 16/20\n",
            "31/31 [==============================] - 1s 17ms/step - loss: 1.8455 - accuracy: 0.9369 - val_loss: 48.6179 - val_accuracy: 0.3884\n",
            "Epoch 17/20\n",
            "31/31 [==============================] - 1s 18ms/step - loss: 1.6183 - accuracy: 0.9410 - val_loss: 46.9038 - val_accuracy: 0.3526\n",
            "Epoch 18/20\n",
            "31/31 [==============================] - 1s 17ms/step - loss: 2.2291 - accuracy: 0.9243 - val_loss: 53.9777 - val_accuracy: 0.3921\n",
            "Epoch 19/20\n",
            "31/31 [==============================] - 1s 18ms/step - loss: 1.6298 - accuracy: 0.9425 - val_loss: 47.8116 - val_accuracy: 0.3862\n",
            "Epoch 20/20\n",
            "31/31 [==============================] - 1s 17ms/step - loss: 1.8713 - accuracy: 0.9410 - val_loss: 55.7098 - val_accuracy: 0.4221\n"
          ]
        }
      ]
    },
    {
      "cell_type": "markdown",
      "source": [
        "###it seems that using a pretrained model gave excelent resuts \n",
        "###but it overfits on training we can see the accury  plot "
      ],
      "metadata": {
        "id": "lVOdyjF0hO2a"
      }
    },
    {
      "cell_type": "code",
      "source": [],
      "metadata": {
        "id": "-5ucLN8Fg4zx"
      },
      "execution_count": null,
      "outputs": []
    },
    {
      "cell_type": "code",
      "source": [
        "import matplotlib.pyplot as plt\n",
        "history = history.history\n",
        "train_loss =history[\"accuracy\"]\n",
        "val_loss = history[\"val_accuracy\"]\n",
        "epochs = range(1,len(train_loss) + 1)\n",
        "plt.plot(epochs,train_loss,\"bo\",label = \"Train accuracy\")\n",
        "plt.plot(epochs,val_loss,\"b\",label = \"validation accuracy\")\n",
        "plt.title(\"Train and Validation accuracies\")\n",
        "plt.xlabel(\"Epochs\")\n",
        "plt.ylabel(\"Accuracy\")\n",
        "plt.legend()\n",
        "plt.show()\n"
      ],
      "metadata": {
        "colab": {
          "base_uri": "https://localhost:8080/",
          "height": 295
        },
        "id": "i0xdjb6FhYQi",
        "outputId": "7203a77f-b07a-420d-d07d-d2d58deeadcc"
      },
      "execution_count": 65,
      "outputs": [
        {
          "output_type": "display_data",
          "data": {
            "text/plain": [
              "<Figure size 432x288 with 1 Axes>"
            ],
            "image/png": "[encoded data removed]"
          },
          "metadata": {
            "needs_background": "light"
          }
        }
      ]
    },
    {
      "cell_type": "markdown",
      "source": [
        "### it very clear that the model deeply overfits \n",
        "### to fit overfittiong we can try to use dropouts by changing the model ,with adding a droput layer before the classification layer"
      ],
      "metadata": {
        "id": "Olqad07Khyt-"
      }
    },
    {
      "cell_type": "code",
      "source": [
        "inputs = keras.Input(shape=(9,9,512)) #the input layer\n",
        "x = layers.Flatten()(inputs)\n",
        "x = layers.Dense(256,activation = \"relu\")(x)\n",
        "x = layers.Dropout(0.5)(x)\n",
        "outputs = layers.Dense(5,activation =\"softmax\")(x)\n",
        "\n",
        "pretrained_model = keras.Model(inputs = inputs,outputs = outputs)"
      ],
      "metadata": {
        "id": "rgSMXUsWheIR"
      },
      "execution_count": 66,
      "outputs": []
    },
    {
      "cell_type": "code",
      "source": [
        "# complile and fit \n",
        "pretrained_model.compile(optimizer=\"rmsprop\",loss=\"sparse_categorical_crossentropy\",metrics=[\"accuracy\"])\n",
        "history = pretrained_model.fit(train_features,train_labels,epochs=20,batch_size=128,validation_data=(val_features,val_labels))"
      ],
      "metadata": {
        "colab": {
          "base_uri": "https://localhost:8080/"
        },
        "id": "I7L4O8a9iMBh",
        "outputId": "58f3d860-6996-4293-a848-45d5b86a2239"
      },
      "execution_count": 67,
      "outputs": [
        {
          "output_type": "stream",
          "name": "stdout",
          "text": [
            "Epoch 1/20\n",
            "31/31 [==============================] - 2s 62ms/step - loss: 26.3434 - accuracy: 0.4039 - val_loss: 1.6555 - val_accuracy: 0.4301\n",
            "Epoch 2/20\n",
            "31/31 [==============================] - 1s 22ms/step - loss: 1.5606 - accuracy: 0.5122 - val_loss: 1.8224 - val_accuracy: 0.4579\n",
            "Epoch 3/20\n",
            "31/31 [==============================] - 1s 21ms/step - loss: 1.5505 - accuracy: 0.5306 - val_loss: 1.6567 - val_accuracy: 0.4484\n",
            "Epoch 4/20\n",
            "31/31 [==============================] - 1s 21ms/step - loss: 1.4569 - accuracy: 0.5306 - val_loss: 2.1623 - val_accuracy: 0.4572\n",
            "Epoch 5/20\n",
            "31/31 [==============================] - 1s 21ms/step - loss: 1.5238 - accuracy: 0.5417 - val_loss: 1.7520 - val_accuracy: 0.4484\n",
            "Epoch 6/20\n",
            "31/31 [==============================] - 1s 21ms/step - loss: 1.3533 - accuracy: 0.5558 - val_loss: 1.7376 - val_accuracy: 0.4484\n",
            "Epoch 7/20\n",
            "31/31 [==============================] - 1s 20ms/step - loss: 1.4016 - accuracy: 0.5619 - val_loss: 1.9334 - val_accuracy: 0.4484\n",
            "Epoch 8/20\n",
            "31/31 [==============================] - 1s 20ms/step - loss: 1.1683 - accuracy: 0.5801 - val_loss: 1.8679 - val_accuracy: 0.4477\n",
            "Epoch 9/20\n",
            "31/31 [==============================] - 1s 21ms/step - loss: 1.0882 - accuracy: 0.5817 - val_loss: 2.2252 - val_accuracy: 0.4557\n",
            "Epoch 10/20\n",
            "31/31 [==============================] - 1s 21ms/step - loss: 1.0386 - accuracy: 0.6061 - val_loss: 2.0229 - val_accuracy: 0.4492\n",
            "Epoch 11/20\n",
            "31/31 [==============================] - 1s 20ms/step - loss: 1.0259 - accuracy: 0.6145 - val_loss: 2.1781 - val_accuracy: 0.4367\n",
            "Epoch 12/20\n",
            "31/31 [==============================] - 1s 21ms/step - loss: 1.0203 - accuracy: 0.6086 - val_loss: 2.2698 - val_accuracy: 0.4433\n",
            "Epoch 13/20\n",
            "31/31 [==============================] - 1s 21ms/step - loss: 0.9136 - accuracy: 0.6302 - val_loss: 2.3828 - val_accuracy: 0.4316\n",
            "Epoch 14/20\n",
            "31/31 [==============================] - 1s 20ms/step - loss: 1.1224 - accuracy: 0.6294 - val_loss: 2.5949 - val_accuracy: 0.4440\n",
            "Epoch 15/20\n",
            "31/31 [==============================] - 1s 20ms/step - loss: 0.9503 - accuracy: 0.6335 - val_loss: 3.0734 - val_accuracy: 0.4440\n",
            "Epoch 16/20\n",
            "31/31 [==============================] - 1s 21ms/step - loss: 0.8503 - accuracy: 0.6450 - val_loss: 3.1752 - val_accuracy: 0.4272\n",
            "Epoch 17/20\n",
            "31/31 [==============================] - 1s 20ms/step - loss: 0.8881 - accuracy: 0.6535 - val_loss: 2.7854 - val_accuracy: 0.4309\n",
            "Epoch 18/20\n",
            "31/31 [==============================] - 1s 20ms/step - loss: 0.8610 - accuracy: 0.6684 - val_loss: 2.8897 - val_accuracy: 0.4089\n",
            "Epoch 19/20\n",
            "31/31 [==============================] - 1s 21ms/step - loss: 0.7903 - accuracy: 0.6771 - val_loss: 3.0108 - val_accuracy: 0.4133\n",
            "Epoch 20/20\n",
            "31/31 [==============================] - 1s 20ms/step - loss: 0.8045 - accuracy: 0.6799 - val_loss: 3.2209 - val_accuracy: 0.4038\n"
          ]
        }
      ]
    },
    {
      "cell_type": "markdown",
      "source": [
        "### we can see that  the validation accuracy is a littel bit better wich means a less overfittiong ,let us remove the intermediate 256 units layers \n",
        "### removing layers or reducing the number of units will make a bottelneck where the model won't be able to overfit "
      ],
      "metadata": {
        "id": "azqGTjRsiWsJ"
      }
    },
    {
      "cell_type": "code",
      "source": [
        "inputs = keras.Input(shape=(9,9,512)) #the input layer\n",
        "x = layers.Flatten()(inputs)\n",
        "#x = layers.Dense(256,activation = \"relu\")(x)            ###remove this layer\n",
        "x = layers.Dropout(0.5)(x)\n",
        "outputs = layers.Dense(5,activation =\"softmax\")(x)\n",
        "\n",
        "pretrained_model = keras.Model(inputs = inputs,outputs = outputs)"
      ],
      "metadata": {
        "id": "LNjEvVdTiO-v"
      },
      "execution_count": 60,
      "outputs": []
    },
    {
      "cell_type": "code",
      "source": [
        "# complile and fit \n",
        "pretrained_model.compile(optimizer=\"rmsprop\",loss=\"sparse_categorical_crossentropy\",metrics=[\"accuracy\"])\n",
        "history = pretrained_model.fit(train_features,train_labels,epochs=20,batch_size=128,validation_data=(val_features,val_labels))"
      ],
      "metadata": {
        "id": "fwbLcSuwjD4I",
        "colab": {
          "base_uri": "https://localhost:8080/"
        },
        "outputId": "caf4f78b-9ba3-46a8-b756-7d733adb8a85"
      },
      "execution_count": 61,
      "outputs": [
        {
          "output_type": "stream",
          "name": "stdout",
          "text": [
            "Epoch 1/20\n",
            "31/31 [==============================] - 1s 39ms/step - loss: 38.7642 - accuracy: 0.3503 - val_loss: 36.0860 - val_accuracy: 0.3599\n",
            "Epoch 2/20\n",
            "31/31 [==============================] - 1s 28ms/step - loss: 18.7853 - accuracy: 0.4858 - val_loss: 33.9554 - val_accuracy: 0.4623\n",
            "Epoch 3/20\n",
            "31/31 [==============================] - 1s 27ms/step - loss: 11.5988 - accuracy: 0.6045 - val_loss: 24.4576 - val_accuracy: 0.3460\n",
            "Epoch 4/20\n",
            "31/31 [==============================] - 1s 26ms/step - loss: 11.3979 - accuracy: 0.6312 - val_loss: 24.6129 - val_accuracy: 0.4111\n",
            "Epoch 5/20\n",
            "31/31 [==============================] - 1s 18ms/step - loss: 7.8625 - accuracy: 0.7192 - val_loss: 22.5763 - val_accuracy: 0.3760\n",
            "Epoch 6/20\n",
            "31/31 [==============================] - 1s 18ms/step - loss: 5.6151 - accuracy: 0.7740 - val_loss: 26.4664 - val_accuracy: 0.2626\n",
            "Epoch 7/20\n",
            "31/31 [==============================] - 1s 17ms/step - loss: 5.9804 - accuracy: 0.7735 - val_loss: 27.4214 - val_accuracy: 0.3775\n",
            "Epoch 8/20\n",
            "31/31 [==============================] - 1s 18ms/step - loss: 5.7554 - accuracy: 0.7882 - val_loss: 40.3538 - val_accuracy: 0.4418\n",
            "Epoch 9/20\n",
            "31/31 [==============================] - 1s 17ms/step - loss: 4.7196 - accuracy: 0.8097 - val_loss: 31.5557 - val_accuracy: 0.4038\n",
            "Epoch 10/20\n",
            "31/31 [==============================] - 1s 18ms/step - loss: 3.4872 - accuracy: 0.8502 - val_loss: 36.3253 - val_accuracy: 0.4250\n",
            "Epoch 11/20\n",
            "31/31 [==============================] - 1s 18ms/step - loss: 3.8512 - accuracy: 0.8494 - val_loss: 30.0277 - val_accuracy: 0.3606\n",
            "Epoch 12/20\n",
            "31/31 [==============================] - 1s 18ms/step - loss: 2.7268 - accuracy: 0.8818 - val_loss: 30.8243 - val_accuracy: 0.3687\n",
            "Epoch 13/20\n",
            "31/31 [==============================] - 1s 18ms/step - loss: 3.7365 - accuracy: 0.8584 - val_loss: 40.6512 - val_accuracy: 0.4301\n",
            "Epoch 14/20\n",
            "31/31 [==============================] - 1s 17ms/step - loss: 2.7811 - accuracy: 0.8813 - val_loss: 33.2480 - val_accuracy: 0.3592\n",
            "Epoch 15/20\n",
            "31/31 [==============================] - 1s 18ms/step - loss: 3.3595 - accuracy: 0.8764 - val_loss: 34.4431 - val_accuracy: 0.3775\n",
            "Epoch 16/20\n",
            "31/31 [==============================] - 1s 17ms/step - loss: 2.8232 - accuracy: 0.8856 - val_loss: 35.5770 - val_accuracy: 0.3782\n",
            "Epoch 17/20\n",
            "31/31 [==============================] - 1s 17ms/step - loss: 2.9312 - accuracy: 0.8874 - val_loss: 37.6294 - val_accuracy: 0.3321\n",
            "Epoch 18/20\n",
            "31/31 [==============================] - 1s 17ms/step - loss: 2.5488 - accuracy: 0.9005 - val_loss: 40.0269 - val_accuracy: 0.4009\n",
            "Epoch 19/20\n",
            "31/31 [==============================] - 1s 17ms/step - loss: 2.4859 - accuracy: 0.9002 - val_loss: 36.6267 - val_accuracy: 0.3438\n",
            "Epoch 20/20\n",
            "31/31 [==============================] - 1s 17ms/step - loss: 2.0546 - accuracy: 0.9169 - val_loss: 40.9379 - val_accuracy: 0.3972\n"
          ]
        }
      ]
    },
    {
      "cell_type": "markdown",
      "source": [
        "###validation accuracy is a littel bit better ,but still very low and the model still overfitts "
      ],
      "metadata": {
        "id": "QcBDfPEl1N5C"
      }
    },
    {
      "cell_type": "code",
      "source": [],
      "metadata": {
        "id": "ED4kXc1YjEqS"
      },
      "execution_count": null,
      "outputs": []
    },
    {
      "cell_type": "markdown",
      "source": [],
      "metadata": {
        "id": "pmOfVmK21fP6"
      }
    },
    {
      "cell_type": "code",
      "source": [],
      "metadata": {
        "id": "VyCn5GyD1dnm"
      },
      "execution_count": null,
      "outputs": []
    }
  ]
}